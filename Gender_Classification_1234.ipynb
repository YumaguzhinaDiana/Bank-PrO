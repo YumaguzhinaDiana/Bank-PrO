{
 "cells": [
  {
   "cell_type": "markdown",
   "id": "49bd5a7e",
   "metadata": {},
   "source": [
    "# Классификация гендера человека - прогнозирование пола\n",
    "\n",
    "\n",
    "\n"
   ]
  },
  {
   "cell_type": "markdown",
   "id": "f6fc3d1d",
   "metadata": {},
   "source": [
    "## Постановка задачи\n",
    "\n",
    "Нужно спрогнозировать, какого пола человек. Предоставлена информация о любимых вещах человека. "
   ]
  },
  {
   "cell_type": "markdown",
   "id": "0843be59",
   "metadata": {},
   "source": [
    "## Загрузка библиотек"
   ]
  },
  {
   "cell_type": "code",
   "execution_count": 1,
   "id": "99a5ae60",
   "metadata": {},
   "outputs": [],
   "source": [
    "# импортируем необходимые модули\n",
    "import numpy as np\n",
    "import pandas as pd\n",
    "import seaborn as sns\n",
    "import matplotlib.pyplot as plt\n",
    "import warnings\n",
    "warnings.filterwarnings('ignore')"
   ]
  },
  {
   "cell_type": "code",
   "execution_count": 2,
   "id": "976f8a85-3d4b-479e-94b5-09e46ead8ceb",
   "metadata": {},
   "outputs": [],
   "source": [
    "%matplotlib inline"
   ]
  },
  {
   "cell_type": "markdown",
   "id": "6760adf1",
   "metadata": {},
   "source": [
    "## Парсинг данных"
   ]
  },
  {
   "cell_type": "code",
   "execution_count": 3,
   "id": "129c2636-5c69-4606-b8af-e78fe83696aa",
   "metadata": {},
   "outputs": [],
   "source": [
    "# загружаем данные из файла в формате CSV, указываем символ-разделитель и сохраняем данные в дата-фрейм (переменную df)\n",
    "df = pd.read_csv(\"Transformed Data Set - Sheet1.csv\", sep = ',')\n"
   ]
  },
  {
   "cell_type": "code",
   "execution_count": 4,
   "id": "7d39e951",
   "metadata": {},
   "outputs": [],
   "source": [
    "df2 = pd.read_csv(\"df.csv\", sep=';')"
   ]
  },
  {
   "cell_type": "code",
   "execution_count": 5,
   "id": "cc31bdf7-9a45-4a48-9b42-58a819596d89",
   "metadata": {},
   "outputs": [
    {
     "data": {
      "text/html": [
       "<div>\n",
       "<style scoped>\n",
       "    .dataframe tbody tr th:only-of-type {\n",
       "        vertical-align: middle;\n",
       "    }\n",
       "\n",
       "    .dataframe tbody tr th {\n",
       "        vertical-align: top;\n",
       "    }\n",
       "\n",
       "    .dataframe thead th {\n",
       "        text-align: right;\n",
       "    }\n",
       "</style>\n",
       "<table border=\"1\" class=\"dataframe\">\n",
       "  <thead>\n",
       "    <tr style=\"text-align: right;\">\n",
       "      <th></th>\n",
       "      <th>Favorite Color</th>\n",
       "      <th>Favorite Music Genre</th>\n",
       "      <th>Favorite Beverage</th>\n",
       "      <th>Favorite Soft Drink</th>\n",
       "      <th>Gender</th>\n",
       "    </tr>\n",
       "  </thead>\n",
       "  <tbody>\n",
       "    <tr>\n",
       "      <th>0</th>\n",
       "      <td>Cool</td>\n",
       "      <td>Rock</td>\n",
       "      <td>Vodka</td>\n",
       "      <td>7UP/Sprite</td>\n",
       "      <td>F</td>\n",
       "    </tr>\n",
       "    <tr>\n",
       "      <th>1</th>\n",
       "      <td>Neutral</td>\n",
       "      <td>Hip hop</td>\n",
       "      <td>Vodka</td>\n",
       "      <td>Coca Cola/Pepsi</td>\n",
       "      <td>F</td>\n",
       "    </tr>\n",
       "    <tr>\n",
       "      <th>2</th>\n",
       "      <td>Warm</td>\n",
       "      <td>Rock</td>\n",
       "      <td>Wine</td>\n",
       "      <td>Coca Cola/Pepsi</td>\n",
       "      <td>F</td>\n",
       "    </tr>\n",
       "    <tr>\n",
       "      <th>3</th>\n",
       "      <td>Warm</td>\n",
       "      <td>Folk/Traditional</td>\n",
       "      <td>Whiskey</td>\n",
       "      <td>Fanta</td>\n",
       "      <td>F</td>\n",
       "    </tr>\n",
       "    <tr>\n",
       "      <th>4</th>\n",
       "      <td>Cool</td>\n",
       "      <td>Rock</td>\n",
       "      <td>Vodka</td>\n",
       "      <td>Coca Cola/Pepsi</td>\n",
       "      <td>F</td>\n",
       "    </tr>\n",
       "    <tr>\n",
       "      <th>5</th>\n",
       "      <td>Warm</td>\n",
       "      <td>Jazz/Blues</td>\n",
       "      <td>Doesn't drink</td>\n",
       "      <td>Fanta</td>\n",
       "      <td>F</td>\n",
       "    </tr>\n",
       "    <tr>\n",
       "      <th>6</th>\n",
       "      <td>Cool</td>\n",
       "      <td>Pop</td>\n",
       "      <td>Beer</td>\n",
       "      <td>Coca Cola/Pepsi</td>\n",
       "      <td>F</td>\n",
       "    </tr>\n",
       "    <tr>\n",
       "      <th>7</th>\n",
       "      <td>Warm</td>\n",
       "      <td>Pop</td>\n",
       "      <td>Whiskey</td>\n",
       "      <td>Fanta</td>\n",
       "      <td>F</td>\n",
       "    </tr>\n",
       "    <tr>\n",
       "      <th>8</th>\n",
       "      <td>Warm</td>\n",
       "      <td>Rock</td>\n",
       "      <td>Other</td>\n",
       "      <td>7UP/Sprite</td>\n",
       "      <td>F</td>\n",
       "    </tr>\n",
       "    <tr>\n",
       "      <th>9</th>\n",
       "      <td>Neutral</td>\n",
       "      <td>Pop</td>\n",
       "      <td>Wine</td>\n",
       "      <td>Coca Cola/Pepsi</td>\n",
       "      <td>F</td>\n",
       "    </tr>\n",
       "    <tr>\n",
       "      <th>10</th>\n",
       "      <td>Cool</td>\n",
       "      <td>Pop</td>\n",
       "      <td>Other</td>\n",
       "      <td>7UP/Sprite</td>\n",
       "      <td>F</td>\n",
       "    </tr>\n",
       "    <tr>\n",
       "      <th>11</th>\n",
       "      <td>Warm</td>\n",
       "      <td>Pop</td>\n",
       "      <td>Other</td>\n",
       "      <td>7UP/Sprite</td>\n",
       "      <td>F</td>\n",
       "    </tr>\n",
       "    <tr>\n",
       "      <th>12</th>\n",
       "      <td>Warm</td>\n",
       "      <td>Pop</td>\n",
       "      <td>Wine</td>\n",
       "      <td>7UP/Sprite</td>\n",
       "      <td>F</td>\n",
       "    </tr>\n",
       "    <tr>\n",
       "      <th>13</th>\n",
       "      <td>Warm</td>\n",
       "      <td>Electronic</td>\n",
       "      <td>Wine</td>\n",
       "      <td>Coca Cola/Pepsi</td>\n",
       "      <td>F</td>\n",
       "    </tr>\n",
       "    <tr>\n",
       "      <th>14</th>\n",
       "      <td>Cool</td>\n",
       "      <td>Rock</td>\n",
       "      <td>Beer</td>\n",
       "      <td>Coca Cola/Pepsi</td>\n",
       "      <td>F</td>\n",
       "    </tr>\n",
       "    <tr>\n",
       "      <th>15</th>\n",
       "      <td>Warm</td>\n",
       "      <td>Jazz/Blues</td>\n",
       "      <td>Wine</td>\n",
       "      <td>Coca Cola/Pepsi</td>\n",
       "      <td>F</td>\n",
       "    </tr>\n",
       "    <tr>\n",
       "      <th>16</th>\n",
       "      <td>Cool</td>\n",
       "      <td>Pop</td>\n",
       "      <td>Wine</td>\n",
       "      <td>7UP/Sprite</td>\n",
       "      <td>F</td>\n",
       "    </tr>\n",
       "    <tr>\n",
       "      <th>17</th>\n",
       "      <td>Cool</td>\n",
       "      <td>Rock</td>\n",
       "      <td>Other</td>\n",
       "      <td>Coca Cola/Pepsi</td>\n",
       "      <td>F</td>\n",
       "    </tr>\n",
       "    <tr>\n",
       "      <th>18</th>\n",
       "      <td>Cool</td>\n",
       "      <td>Rock</td>\n",
       "      <td>Other</td>\n",
       "      <td>Coca Cola/Pepsi</td>\n",
       "      <td>F</td>\n",
       "    </tr>\n",
       "    <tr>\n",
       "      <th>19</th>\n",
       "      <td>Cool</td>\n",
       "      <td>Pop</td>\n",
       "      <td>Doesn't drink</td>\n",
       "      <td>7UP/Sprite</td>\n",
       "      <td>F</td>\n",
       "    </tr>\n",
       "  </tbody>\n",
       "</table>\n",
       "</div>"
      ],
      "text/plain": [
       "   Favorite Color Favorite Music Genre Favorite Beverage Favorite Soft Drink  \\\n",
       "0            Cool                 Rock             Vodka          7UP/Sprite   \n",
       "1         Neutral              Hip hop             Vodka     Coca Cola/Pepsi   \n",
       "2            Warm                 Rock              Wine     Coca Cola/Pepsi   \n",
       "3            Warm     Folk/Traditional           Whiskey               Fanta   \n",
       "4            Cool                 Rock             Vodka     Coca Cola/Pepsi   \n",
       "5            Warm           Jazz/Blues     Doesn't drink               Fanta   \n",
       "6            Cool                  Pop              Beer     Coca Cola/Pepsi   \n",
       "7            Warm                  Pop           Whiskey               Fanta   \n",
       "8            Warm                 Rock             Other          7UP/Sprite   \n",
       "9         Neutral                  Pop              Wine     Coca Cola/Pepsi   \n",
       "10           Cool                  Pop             Other          7UP/Sprite   \n",
       "11           Warm                  Pop             Other          7UP/Sprite   \n",
       "12           Warm                  Pop              Wine          7UP/Sprite   \n",
       "13           Warm           Electronic              Wine     Coca Cola/Pepsi   \n",
       "14           Cool                 Rock              Beer     Coca Cola/Pepsi   \n",
       "15           Warm           Jazz/Blues              Wine     Coca Cola/Pepsi   \n",
       "16           Cool                  Pop              Wine          7UP/Sprite   \n",
       "17           Cool                 Rock             Other     Coca Cola/Pepsi   \n",
       "18           Cool                 Rock             Other     Coca Cola/Pepsi   \n",
       "19           Cool                  Pop     Doesn't drink          7UP/Sprite   \n",
       "\n",
       "   Gender  \n",
       "0       F  \n",
       "1       F  \n",
       "2       F  \n",
       "3       F  \n",
       "4       F  \n",
       "5       F  \n",
       "6       F  \n",
       "7       F  \n",
       "8       F  \n",
       "9       F  \n",
       "10      F  \n",
       "11      F  \n",
       "12      F  \n",
       "13      F  \n",
       "14      F  \n",
       "15      F  \n",
       "16      F  \n",
       "17      F  \n",
       "18      F  \n",
       "19      F  "
      ]
     },
     "execution_count": 5,
     "metadata": {},
     "output_type": "execute_result"
    }
   ],
   "source": [
    "df.head(20)\n",
    "\n"
   ]
  },
  {
   "cell_type": "code",
   "execution_count": 6,
   "id": "b361b1a4",
   "metadata": {},
   "outputs": [
    {
     "data": {
      "text/html": [
       "<div>\n",
       "<style scoped>\n",
       "    .dataframe tbody tr th:only-of-type {\n",
       "        vertical-align: middle;\n",
       "    }\n",
       "\n",
       "    .dataframe tbody tr th {\n",
       "        vertical-align: top;\n",
       "    }\n",
       "\n",
       "    .dataframe thead th {\n",
       "        text-align: right;\n",
       "    }\n",
       "</style>\n",
       "<table border=\"1\" class=\"dataframe\">\n",
       "  <thead>\n",
       "    <tr style=\"text-align: right;\">\n",
       "      <th></th>\n",
       "      <th>Favorite Color</th>\n",
       "      <th>Favorite Music Genre</th>\n",
       "      <th>Favorite Beverage</th>\n",
       "      <th>Favorite Soft Drink</th>\n",
       "      <th>Gender</th>\n",
       "    </tr>\n",
       "  </thead>\n",
       "  <tbody>\n",
       "    <tr>\n",
       "      <th>0</th>\n",
       "      <td>Cool</td>\n",
       "      <td>Hip hop</td>\n",
       "      <td>Doesn't drink</td>\n",
       "      <td>Coca Cola/Pepsi</td>\n",
       "      <td>M</td>\n",
       "    </tr>\n",
       "    <tr>\n",
       "      <th>1</th>\n",
       "      <td>Neutral</td>\n",
       "      <td>Pop</td>\n",
       "      <td>Whiskey</td>\n",
       "      <td>Coca Cola/Pepsi</td>\n",
       "      <td>M</td>\n",
       "    </tr>\n",
       "    <tr>\n",
       "      <th>2</th>\n",
       "      <td>Neutral</td>\n",
       "      <td>Electronic</td>\n",
       "      <td>Doesn't drink</td>\n",
       "      <td>Coca Cola/Pepsi</td>\n",
       "      <td>M</td>\n",
       "    </tr>\n",
       "    <tr>\n",
       "      <th>3</th>\n",
       "      <td>Cool</td>\n",
       "      <td>Jazz/Blues</td>\n",
       "      <td>Doesn't drink</td>\n",
       "      <td>Coca Cola/Pepsi</td>\n",
       "      <td>F</td>\n",
       "    </tr>\n",
       "    <tr>\n",
       "      <th>4</th>\n",
       "      <td>Cool</td>\n",
       "      <td>Pop</td>\n",
       "      <td>Whiskey</td>\n",
       "      <td>7UP/Sprite</td>\n",
       "      <td>M</td>\n",
       "    </tr>\n",
       "    <tr>\n",
       "      <th>5</th>\n",
       "      <td>Cool</td>\n",
       "      <td>Electronic</td>\n",
       "      <td>Doesn't drink</td>\n",
       "      <td>Coca Cola/Pepsi</td>\n",
       "      <td>F</td>\n",
       "    </tr>\n",
       "    <tr>\n",
       "      <th>6</th>\n",
       "      <td>Cool</td>\n",
       "      <td>Rock</td>\n",
       "      <td>Beer</td>\n",
       "      <td>Coca Cola/Pepsi</td>\n",
       "      <td>M</td>\n",
       "    </tr>\n",
       "    <tr>\n",
       "      <th>7</th>\n",
       "      <td>Neutral</td>\n",
       "      <td>R&amp;B and soul</td>\n",
       "      <td>Whiskey</td>\n",
       "      <td>7UP/Sprite</td>\n",
       "      <td>M</td>\n",
       "    </tr>\n",
       "    <tr>\n",
       "      <th>8</th>\n",
       "      <td>Warm</td>\n",
       "      <td>Rock</td>\n",
       "      <td>Vodka</td>\n",
       "      <td>7UP/Sprite</td>\n",
       "      <td>M</td>\n",
       "    </tr>\n",
       "    <tr>\n",
       "      <th>9</th>\n",
       "      <td>Neutral</td>\n",
       "      <td>Rock</td>\n",
       "      <td>Beer</td>\n",
       "      <td>Coca Cola/Pepsi</td>\n",
       "      <td>F</td>\n",
       "    </tr>\n",
       "    <tr>\n",
       "      <th>10</th>\n",
       "      <td>Cool</td>\n",
       "      <td>Pop</td>\n",
       "      <td>Doesn't drink</td>\n",
       "      <td>Other</td>\n",
       "      <td>M</td>\n",
       "    </tr>\n",
       "    <tr>\n",
       "      <th>11</th>\n",
       "      <td>Warm</td>\n",
       "      <td>Rock</td>\n",
       "      <td>Doesn't drink</td>\n",
       "      <td>Other</td>\n",
       "      <td>F</td>\n",
       "    </tr>\n",
       "    <tr>\n",
       "      <th>12</th>\n",
       "      <td>Cool</td>\n",
       "      <td>Electronic</td>\n",
       "      <td>Doesn't drink</td>\n",
       "      <td>Fanta</td>\n",
       "      <td>M</td>\n",
       "    </tr>\n",
       "    <tr>\n",
       "      <th>13</th>\n",
       "      <td>Neutral</td>\n",
       "      <td>Electronic</td>\n",
       "      <td>Wine</td>\n",
       "      <td>Fanta</td>\n",
       "      <td>F</td>\n",
       "    </tr>\n",
       "    <tr>\n",
       "      <th>14</th>\n",
       "      <td>Cool</td>\n",
       "      <td>Electronic</td>\n",
       "      <td>Whiskey</td>\n",
       "      <td>Fanta</td>\n",
       "      <td>M</td>\n",
       "    </tr>\n",
       "    <tr>\n",
       "      <th>15</th>\n",
       "      <td>Warm</td>\n",
       "      <td>Rock</td>\n",
       "      <td>Doesn't drink</td>\n",
       "      <td>Coca Cola/Pepsi</td>\n",
       "      <td>M</td>\n",
       "    </tr>\n",
       "    <tr>\n",
       "      <th>16</th>\n",
       "      <td>Warm</td>\n",
       "      <td>Jazz/Blues</td>\n",
       "      <td>Doesn't drink</td>\n",
       "      <td>Fanta</td>\n",
       "      <td>M</td>\n",
       "    </tr>\n",
       "    <tr>\n",
       "      <th>17</th>\n",
       "      <td>Cool</td>\n",
       "      <td>Hip hop</td>\n",
       "      <td>Beer</td>\n",
       "      <td>Other</td>\n",
       "      <td>M</td>\n",
       "    </tr>\n",
       "    <tr>\n",
       "      <th>18</th>\n",
       "      <td>Cool</td>\n",
       "      <td>Rock</td>\n",
       "      <td>Doesn't drink</td>\n",
       "      <td>Other</td>\n",
       "      <td>M</td>\n",
       "    </tr>\n",
       "    <tr>\n",
       "      <th>19</th>\n",
       "      <td>Neutral</td>\n",
       "      <td>R&amp;B and soul</td>\n",
       "      <td>Doesn't drink</td>\n",
       "      <td>Coca Cola/Pepsi</td>\n",
       "      <td>M</td>\n",
       "    </tr>\n",
       "  </tbody>\n",
       "</table>\n",
       "</div>"
      ],
      "text/plain": [
       "   Favorite Color Favorite Music Genre Favorite Beverage Favorite Soft Drink  \\\n",
       "0            Cool              Hip hop     Doesn't drink     Coca Cola/Pepsi   \n",
       "1         Neutral                  Pop           Whiskey     Coca Cola/Pepsi   \n",
       "2         Neutral           Electronic     Doesn't drink     Coca Cola/Pepsi   \n",
       "3            Cool           Jazz/Blues     Doesn't drink     Coca Cola/Pepsi   \n",
       "4            Cool                  Pop           Whiskey          7UP/Sprite   \n",
       "5            Cool           Electronic     Doesn't drink     Coca Cola/Pepsi   \n",
       "6            Cool                 Rock              Beer     Coca Cola/Pepsi   \n",
       "7         Neutral         R&B and soul           Whiskey          7UP/Sprite   \n",
       "8            Warm                 Rock             Vodka          7UP/Sprite   \n",
       "9         Neutral                 Rock              Beer     Coca Cola/Pepsi   \n",
       "10           Cool                  Pop     Doesn't drink               Other   \n",
       "11           Warm                 Rock     Doesn't drink               Other   \n",
       "12           Cool           Electronic     Doesn't drink               Fanta   \n",
       "13        Neutral           Electronic              Wine               Fanta   \n",
       "14           Cool           Electronic           Whiskey               Fanta   \n",
       "15           Warm                 Rock     Doesn't drink     Coca Cola/Pepsi   \n",
       "16           Warm           Jazz/Blues     Doesn't drink               Fanta   \n",
       "17           Cool              Hip hop              Beer               Other   \n",
       "18           Cool                 Rock     Doesn't drink               Other   \n",
       "19        Neutral         R&B and soul     Doesn't drink     Coca Cola/Pepsi   \n",
       "\n",
       "   Gender  \n",
       "0       M  \n",
       "1       M  \n",
       "2       M  \n",
       "3       F  \n",
       "4       M  \n",
       "5       F  \n",
       "6       M  \n",
       "7       M  \n",
       "8       M  \n",
       "9       F  \n",
       "10      M  \n",
       "11      F  \n",
       "12      M  \n",
       "13      F  \n",
       "14      M  \n",
       "15      M  \n",
       "16      M  \n",
       "17      M  \n",
       "18      M  \n",
       "19      M  "
      ]
     },
     "execution_count": 6,
     "metadata": {},
     "output_type": "execute_result"
    }
   ],
   "source": [
    "df2.head(20)"
   ]
  },
  {
   "cell_type": "code",
   "execution_count": 7,
   "id": "ff1ad2ca",
   "metadata": {},
   "outputs": [
    {
     "data": {
      "text/plain": [
       "Index(['Favorite Color', 'Favorite Music Genre', 'Favorite Beverage',\n",
       "       'Favorite Soft Drink', 'Gender'],\n",
       "      dtype='object')"
      ]
     },
     "execution_count": 7,
     "metadata": {},
     "output_type": "execute_result"
    }
   ],
   "source": [
    "df2.columns"
   ]
  },
  {
   "cell_type": "code",
   "execution_count": 8,
   "id": "57fa816a",
   "metadata": {},
   "outputs": [],
   "source": [
    "df = pd.concat([df,df2], axis=0)"
   ]
  },
  {
   "cell_type": "code",
   "execution_count": 9,
   "id": "468c4217",
   "metadata": {},
   "outputs": [
    {
     "data": {
      "text/html": [
       "<div>\n",
       "<style scoped>\n",
       "    .dataframe tbody tr th:only-of-type {\n",
       "        vertical-align: middle;\n",
       "    }\n",
       "\n",
       "    .dataframe tbody tr th {\n",
       "        vertical-align: top;\n",
       "    }\n",
       "\n",
       "    .dataframe thead th {\n",
       "        text-align: right;\n",
       "    }\n",
       "</style>\n",
       "<table border=\"1\" class=\"dataframe\">\n",
       "  <thead>\n",
       "    <tr style=\"text-align: right;\">\n",
       "      <th></th>\n",
       "      <th>Favorite Color</th>\n",
       "      <th>Favorite Music Genre</th>\n",
       "      <th>Favorite Beverage</th>\n",
       "      <th>Favorite Soft Drink</th>\n",
       "      <th>Gender</th>\n",
       "    </tr>\n",
       "  </thead>\n",
       "  <tbody>\n",
       "    <tr>\n",
       "      <th>0</th>\n",
       "      <td>Cool</td>\n",
       "      <td>Rock</td>\n",
       "      <td>Vodka</td>\n",
       "      <td>7UP/Sprite</td>\n",
       "      <td>F</td>\n",
       "    </tr>\n",
       "    <tr>\n",
       "      <th>1</th>\n",
       "      <td>Neutral</td>\n",
       "      <td>Hip hop</td>\n",
       "      <td>Vodka</td>\n",
       "      <td>Coca Cola/Pepsi</td>\n",
       "      <td>F</td>\n",
       "    </tr>\n",
       "    <tr>\n",
       "      <th>2</th>\n",
       "      <td>Warm</td>\n",
       "      <td>Rock</td>\n",
       "      <td>Wine</td>\n",
       "      <td>Coca Cola/Pepsi</td>\n",
       "      <td>F</td>\n",
       "    </tr>\n",
       "    <tr>\n",
       "      <th>3</th>\n",
       "      <td>Warm</td>\n",
       "      <td>Folk/Traditional</td>\n",
       "      <td>Whiskey</td>\n",
       "      <td>Fanta</td>\n",
       "      <td>F</td>\n",
       "    </tr>\n",
       "    <tr>\n",
       "      <th>4</th>\n",
       "      <td>Cool</td>\n",
       "      <td>Rock</td>\n",
       "      <td>Vodka</td>\n",
       "      <td>Coca Cola/Pepsi</td>\n",
       "      <td>F</td>\n",
       "    </tr>\n",
       "  </tbody>\n",
       "</table>\n",
       "</div>"
      ],
      "text/plain": [
       "  Favorite Color Favorite Music Genre Favorite Beverage Favorite Soft Drink  \\\n",
       "0           Cool                 Rock             Vodka          7UP/Sprite   \n",
       "1        Neutral              Hip hop             Vodka     Coca Cola/Pepsi   \n",
       "2           Warm                 Rock              Wine     Coca Cola/Pepsi   \n",
       "3           Warm     Folk/Traditional           Whiskey               Fanta   \n",
       "4           Cool                 Rock             Vodka     Coca Cola/Pepsi   \n",
       "\n",
       "  Gender  \n",
       "0      F  \n",
       "1      F  \n",
       "2      F  \n",
       "3      F  \n",
       "4      F  "
      ]
     },
     "execution_count": 9,
     "metadata": {},
     "output_type": "execute_result"
    }
   ],
   "source": [
    "df.head()"
   ]
  },
  {
   "cell_type": "markdown",
   "id": "c9633df0",
   "metadata": {},
   "source": [
    "## Описание данных\n",
    "\n",
    "* Favorite Color - температура любимого цвета\n",
    "* Favorite Music Genre - любимый жанр музыки\n",
    "* Favorite Beverage - любимый напиток\n",
    "* Favorite Soft Drink - любимый безалкогольный напиток\n",
    "\n",
    "Целевой признак: \n",
    "\n",
    "* Gender - пол"
   ]
  },
  {
   "cell_type": "markdown",
   "id": "1a87ba2d",
   "metadata": {},
   "source": [
    "## Разведочный анализ данных"
   ]
  },
  {
   "cell_type": "code",
   "execution_count": 10,
   "id": "f92ea403-0092-41cc-9c2d-5d3db83c8ed9",
   "metadata": {},
   "outputs": [
    {
     "data": {
      "text/plain": [
       "(154, 5)"
      ]
     },
     "execution_count": 10,
     "metadata": {},
     "output_type": "execute_result"
    }
   ],
   "source": [
    "# вывод размерности\n",
    "df.shape"
   ]
  },
  {
   "cell_type": "markdown",
   "id": "222ba93b",
   "metadata": {},
   "source": [
    "датафрейм содержит 154 строк и 5 столбцов"
   ]
  },
  {
   "cell_type": "code",
   "execution_count": 11,
   "id": "d45b254b-9359-404c-bf90-b9051526f01a",
   "metadata": {},
   "outputs": [
    {
     "name": "stdout",
     "output_type": "stream",
     "text": [
      "<class 'pandas.core.frame.DataFrame'>\n",
      "Index: 154 entries, 0 to 87\n",
      "Data columns (total 5 columns):\n",
      " #   Column                Non-Null Count  Dtype \n",
      "---  ------                --------------  ----- \n",
      " 0   Favorite Color        154 non-null    object\n",
      " 1   Favorite Music Genre  154 non-null    object\n",
      " 2   Favorite Beverage     154 non-null    object\n",
      " 3   Favorite Soft Drink   154 non-null    object\n",
      " 4   Gender                154 non-null    object\n",
      "dtypes: object(5)\n",
      "memory usage: 7.2+ KB\n"
     ]
    }
   ],
   "source": [
    "# вывод информаци о наборе данных\n",
    "df.info()"
   ]
  },
  {
   "cell_type": "markdown",
   "id": "cfc5c256",
   "metadata": {},
   "source": [
    "Набор данных имеет 154 записей типа object. Пропущенных значений нет."
   ]
  },
  {
   "cell_type": "code",
   "execution_count": 12,
   "id": "b5b3f633-963e-42fe-9f60-7ad65332c1b5",
   "metadata": {},
   "outputs": [
    {
     "data": {
      "text/plain": [
       "Favorite Color          object\n",
       "Favorite Music Genre    object\n",
       "Favorite Beverage       object\n",
       "Favorite Soft Drink     object\n",
       "Gender                  object\n",
       "dtype: object"
      ]
     },
     "execution_count": 12,
     "metadata": {},
     "output_type": "execute_result"
    }
   ],
   "source": [
    "# выводим типы данных\n",
    "df.dtypes"
   ]
  },
  {
   "cell_type": "code",
   "execution_count": 13,
   "id": "3a1bfb6d-8d32-41bf-90f5-ea0d5b65fec7",
   "metadata": {},
   "outputs": [
    {
     "data": {
      "text/html": [
       "<div>\n",
       "<style scoped>\n",
       "    .dataframe tbody tr th:only-of-type {\n",
       "        vertical-align: middle;\n",
       "    }\n",
       "\n",
       "    .dataframe tbody tr th {\n",
       "        vertical-align: top;\n",
       "    }\n",
       "\n",
       "    .dataframe thead th {\n",
       "        text-align: right;\n",
       "    }\n",
       "</style>\n",
       "<table border=\"1\" class=\"dataframe\">\n",
       "  <thead>\n",
       "    <tr style=\"text-align: right;\">\n",
       "      <th></th>\n",
       "      <th>count</th>\n",
       "      <th>unique</th>\n",
       "      <th>top</th>\n",
       "      <th>freq</th>\n",
       "    </tr>\n",
       "  </thead>\n",
       "  <tbody>\n",
       "    <tr>\n",
       "      <th>Favorite Color</th>\n",
       "      <td>154</td>\n",
       "      <td>3</td>\n",
       "      <td>Cool</td>\n",
       "      <td>71</td>\n",
       "    </tr>\n",
       "    <tr>\n",
       "      <th>Favorite Music Genre</th>\n",
       "      <td>154</td>\n",
       "      <td>7</td>\n",
       "      <td>Pop</td>\n",
       "      <td>49</td>\n",
       "    </tr>\n",
       "    <tr>\n",
       "      <th>Favorite Beverage</th>\n",
       "      <td>154</td>\n",
       "      <td>6</td>\n",
       "      <td>Doesn't drink</td>\n",
       "      <td>54</td>\n",
       "    </tr>\n",
       "    <tr>\n",
       "      <th>Favorite Soft Drink</th>\n",
       "      <td>154</td>\n",
       "      <td>4</td>\n",
       "      <td>Coca Cola/Pepsi</td>\n",
       "      <td>73</td>\n",
       "    </tr>\n",
       "    <tr>\n",
       "      <th>Gender</th>\n",
       "      <td>154</td>\n",
       "      <td>2</td>\n",
       "      <td>F</td>\n",
       "      <td>81</td>\n",
       "    </tr>\n",
       "  </tbody>\n",
       "</table>\n",
       "</div>"
      ],
      "text/plain": [
       "                     count unique              top freq\n",
       "Favorite Color         154      3             Cool   71\n",
       "Favorite Music Genre   154      7              Pop   49\n",
       "Favorite Beverage      154      6    Doesn't drink   54\n",
       "Favorite Soft Drink    154      4  Coca Cola/Pepsi   73\n",
       "Gender                 154      2                F   81"
      ]
     },
     "execution_count": 13,
     "metadata": {},
     "output_type": "execute_result"
    }
   ],
   "source": [
    "# описательная статистика \n",
    "df.describe().T"
   ]
  },
  {
   "cell_type": "code",
   "execution_count": 15,
   "id": "bf3ddc05-7387-4ac7-8523-bdfa53213734",
   "metadata": {},
   "outputs": [
    {
     "data": {
      "text/plain": [
       "Favorite Color          0\n",
       "Favorite Music Genre    0\n",
       "Favorite Beverage       0\n",
       "Favorite Soft Drink     0\n",
       "Gender                  0\n",
       "dtype: int64"
      ]
     },
     "execution_count": 15,
     "metadata": {},
     "output_type": "execute_result"
    }
   ],
   "source": [
    "df.isnull().sum()"
   ]
  },
  {
   "cell_type": "code",
   "execution_count": 16,
   "id": "2cba3af1-510a-4e3d-b20f-45cf6cc2f3dc",
   "metadata": {},
   "outputs": [
    {
     "data": {
      "text/plain": [
       "Favorite Color\n",
       "Cool       71\n",
       "Neutral    42\n",
       "Warm       41\n",
       "Name: count, dtype: int64"
      ]
     },
     "execution_count": 16,
     "metadata": {},
     "output_type": "execute_result"
    }
   ],
   "source": [
    "df['Favorite Color'].value_counts()\n"
   ]
  },
  {
   "cell_type": "code",
   "execution_count": 17,
   "id": "b735cb71",
   "metadata": {},
   "outputs": [
    {
     "data": {
      "text/plain": [
       "Favorite Music Genre\n",
       "Pop                 49\n",
       "Rock                39\n",
       "Hip hop             22\n",
       "Electronic          16\n",
       "R&B and soul        13\n",
       "Jazz/Blues           8\n",
       "Folk/Traditional     7\n",
       "Name: count, dtype: int64"
      ]
     },
     "execution_count": 17,
     "metadata": {},
     "output_type": "execute_result"
    }
   ],
   "source": [
    "df['Favorite Music Genre'].value_counts()\n"
   ]
  },
  {
   "cell_type": "code",
   "execution_count": 18,
   "id": "fc4d1a04",
   "metadata": {},
   "outputs": [
    {
     "data": {
      "text/plain": [
       "Favorite Beverage\n",
       "Doesn't drink    54\n",
       "Beer             31\n",
       "Wine             21\n",
       "Vodka            17\n",
       "Whiskey          17\n",
       "Other            14\n",
       "Name: count, dtype: int64"
      ]
     },
     "execution_count": 18,
     "metadata": {},
     "output_type": "execute_result"
    }
   ],
   "source": [
    "df['Favorite Beverage'].value_counts()"
   ]
  },
  {
   "cell_type": "code",
   "execution_count": 19,
   "id": "388867f4",
   "metadata": {},
   "outputs": [
    {
     "data": {
      "text/plain": [
       "Favorite Soft Drink\n",
       "Coca Cola/Pepsi    73\n",
       "Other              29\n",
       "7UP/Sprite         26\n",
       "Fanta              26\n",
       "Name: count, dtype: int64"
      ]
     },
     "execution_count": 19,
     "metadata": {},
     "output_type": "execute_result"
    }
   ],
   "source": [
    "df['Favorite Soft Drink'].value_counts()"
   ]
  },
  {
   "cell_type": "code",
   "execution_count": 20,
   "id": "c1f48176",
   "metadata": {},
   "outputs": [
    {
     "data": {
      "text/plain": [
       "Gender\n",
       "F    81\n",
       "M    73\n",
       "Name: count, dtype: int64"
      ]
     },
     "execution_count": 20,
     "metadata": {},
     "output_type": "execute_result"
    }
   ],
   "source": [
    "df[\"Gender\"].value_counts()\n"
   ]
  },
  {
   "cell_type": "markdown",
   "id": "4c460e19",
   "metadata": {},
   "source": [
    "Каких-то некорректных значений не замечено, количество мужчин и женщин немного отличаются\n"
   ]
  },
  {
   "cell_type": "markdown",
   "id": "4ed7f679",
   "metadata": {},
   "source": [
    "## Визуальный анализ"
   ]
  },
  {
   "cell_type": "code",
   "execution_count": 21,
   "id": "457d9e57",
   "metadata": {},
   "outputs": [
    {
     "data": {
      "text/html": [
       "<div>\n",
       "<style scoped>\n",
       "    .dataframe tbody tr th:only-of-type {\n",
       "        vertical-align: middle;\n",
       "    }\n",
       "\n",
       "    .dataframe tbody tr th {\n",
       "        vertical-align: top;\n",
       "    }\n",
       "\n",
       "    .dataframe thead th {\n",
       "        text-align: right;\n",
       "    }\n",
       "</style>\n",
       "<table border=\"1\" class=\"dataframe\">\n",
       "  <thead>\n",
       "    <tr style=\"text-align: right;\">\n",
       "      <th></th>\n",
       "      <th>Favorite Color</th>\n",
       "      <th>Favorite Music Genre</th>\n",
       "      <th>Favorite Beverage</th>\n",
       "      <th>Favorite Soft Drink</th>\n",
       "      <th>Gender</th>\n",
       "    </tr>\n",
       "  </thead>\n",
       "  <tbody>\n",
       "    <tr>\n",
       "      <th>0</th>\n",
       "      <td>Cool</td>\n",
       "      <td>Rock</td>\n",
       "      <td>Vodka</td>\n",
       "      <td>7UP/Sprite</td>\n",
       "      <td>F</td>\n",
       "    </tr>\n",
       "    <tr>\n",
       "      <th>1</th>\n",
       "      <td>Neutral</td>\n",
       "      <td>Hip hop</td>\n",
       "      <td>Vodka</td>\n",
       "      <td>Coca Cola/Pepsi</td>\n",
       "      <td>F</td>\n",
       "    </tr>\n",
       "    <tr>\n",
       "      <th>2</th>\n",
       "      <td>Warm</td>\n",
       "      <td>Rock</td>\n",
       "      <td>Wine</td>\n",
       "      <td>Coca Cola/Pepsi</td>\n",
       "      <td>F</td>\n",
       "    </tr>\n",
       "    <tr>\n",
       "      <th>3</th>\n",
       "      <td>Warm</td>\n",
       "      <td>Folk/Traditional</td>\n",
       "      <td>Whiskey</td>\n",
       "      <td>Fanta</td>\n",
       "      <td>F</td>\n",
       "    </tr>\n",
       "    <tr>\n",
       "      <th>4</th>\n",
       "      <td>Cool</td>\n",
       "      <td>Rock</td>\n",
       "      <td>Vodka</td>\n",
       "      <td>Coca Cola/Pepsi</td>\n",
       "      <td>F</td>\n",
       "    </tr>\n",
       "    <tr>\n",
       "      <th>...</th>\n",
       "      <td>...</td>\n",
       "      <td>...</td>\n",
       "      <td>...</td>\n",
       "      <td>...</td>\n",
       "      <td>...</td>\n",
       "    </tr>\n",
       "    <tr>\n",
       "      <th>83</th>\n",
       "      <td>Neutral</td>\n",
       "      <td>R&amp;B and soul</td>\n",
       "      <td>Wine</td>\n",
       "      <td>Coca Cola/Pepsi</td>\n",
       "      <td>F</td>\n",
       "    </tr>\n",
       "    <tr>\n",
       "      <th>84</th>\n",
       "      <td>Neutral</td>\n",
       "      <td>Pop</td>\n",
       "      <td>Doesn't drink</td>\n",
       "      <td>Other</td>\n",
       "      <td>M</td>\n",
       "    </tr>\n",
       "    <tr>\n",
       "      <th>85</th>\n",
       "      <td>Neutral</td>\n",
       "      <td>Hip hop</td>\n",
       "      <td>Doesn't drink</td>\n",
       "      <td>Coca Cola/Pepsi</td>\n",
       "      <td>M</td>\n",
       "    </tr>\n",
       "    <tr>\n",
       "      <th>86</th>\n",
       "      <td>Cool</td>\n",
       "      <td>Pop</td>\n",
       "      <td>Wine</td>\n",
       "      <td>Other</td>\n",
       "      <td>F</td>\n",
       "    </tr>\n",
       "    <tr>\n",
       "      <th>87</th>\n",
       "      <td>Cool</td>\n",
       "      <td>Pop</td>\n",
       "      <td>Wine</td>\n",
       "      <td>Coca Cola/Pepsi</td>\n",
       "      <td>M</td>\n",
       "    </tr>\n",
       "  </tbody>\n",
       "</table>\n",
       "<p>154 rows × 5 columns</p>\n",
       "</div>"
      ],
      "text/plain": [
       "   Favorite Color Favorite Music Genre Favorite Beverage Favorite Soft Drink  \\\n",
       "0            Cool                 Rock             Vodka          7UP/Sprite   \n",
       "1         Neutral              Hip hop             Vodka     Coca Cola/Pepsi   \n",
       "2            Warm                 Rock              Wine     Coca Cola/Pepsi   \n",
       "3            Warm     Folk/Traditional           Whiskey               Fanta   \n",
       "4            Cool                 Rock             Vodka     Coca Cola/Pepsi   \n",
       "..            ...                  ...               ...                 ...   \n",
       "83        Neutral         R&B and soul              Wine     Coca Cola/Pepsi   \n",
       "84        Neutral                  Pop     Doesn't drink               Other   \n",
       "85        Neutral              Hip hop     Doesn't drink     Coca Cola/Pepsi   \n",
       "86           Cool                  Pop              Wine               Other   \n",
       "87           Cool                  Pop              Wine     Coca Cola/Pepsi   \n",
       "\n",
       "   Gender  \n",
       "0       F  \n",
       "1       F  \n",
       "2       F  \n",
       "3       F  \n",
       "4       F  \n",
       "..    ...  \n",
       "83      F  \n",
       "84      M  \n",
       "85      M  \n",
       "86      F  \n",
       "87      M  \n",
       "\n",
       "[154 rows x 5 columns]"
      ]
     },
     "execution_count": 21,
     "metadata": {},
     "output_type": "execute_result"
    }
   ],
   "source": [
    "df"
   ]
  },
  {
   "cell_type": "code",
   "execution_count": 22,
   "id": "03bc3657",
   "metadata": {},
   "outputs": [
    {
     "data": {
      "text/plain": [
       "<Axes: xlabel='Gender,Favorite Color'>"
      ]
     },
     "execution_count": 22,
     "metadata": {},
     "output_type": "execute_result"
    },
    {
     "data": {
      "image/png": "[encoded data removed]",
      "text/plain": [
       "<Figure size 640x480 with 1 Axes>"
      ]
     },
     "metadata": {},
     "output_type": "display_data"
    }
   ],
   "source": [
    "df.groupby('Gender')['Favorite Color'].value_counts().plot.bar()"
   ]
  },
  {
   "cell_type": "code",
   "execution_count": 23,
   "id": "9f4fa7a6",
   "metadata": {},
   "outputs": [
    {
     "data": {
      "text/plain": [
       "<Axes: xlabel='Gender,Favorite Music Genre'>"
      ]
     },
     "execution_count": 23,
     "metadata": {},
     "output_type": "execute_result"
    },
    {
     "data": {
      "image/png": "[encoded data removed]",
      "text/plain": [
       "<Figure size 640x480 with 1 Axes>"
      ]
     },
     "metadata": {},
     "output_type": "display_data"
    }
   ],
   "source": [
    "df.groupby('Gender')['Favorite Music Genre'].value_counts().plot.bar()"
   ]
  },
  {
   "cell_type": "code",
   "execution_count": 24,
   "id": "3d13be59",
   "metadata": {},
   "outputs": [
    {
     "data": {
      "text/plain": [
       "<Axes: xlabel='Gender,Favorite Beverage'>"
      ]
     },
     "execution_count": 24,
     "metadata": {},
     "output_type": "execute_result"
    },
    {
     "data": {
      "image/png": "[encoded data removed]",
      "text/plain": [
       "<Figure size 640x480 with 1 Axes>"
      ]
     },
     "metadata": {},
     "output_type": "display_data"
    }
   ],
   "source": [
    "df.groupby('Gender')['Favorite Beverage'].value_counts().plot.bar()"
   ]
  },
  {
   "cell_type": "code",
   "execution_count": 25,
   "id": "9d40eb7c",
   "metadata": {},
   "outputs": [
    {
     "data": {
      "text/plain": [
       "<Axes: xlabel='Gender,Favorite Soft Drink'>"
      ]
     },
     "execution_count": 25,
     "metadata": {},
     "output_type": "execute_result"
    },
    {
     "data": {
      "image/png": "[encoded data removed]",
      "text/plain": [
       "<Figure size 640x480 with 1 Axes>"
      ]
     },
     "metadata": {},
     "output_type": "display_data"
    }
   ],
   "source": [
    "df.groupby('Gender')['Favorite Soft Drink'].value_counts().plot.bar()"
   ]
  },
  {
   "cell_type": "code",
   "execution_count": null,
   "id": "f3517804",
   "metadata": {},
   "outputs": [],
   "source": []
  },
  {
   "cell_type": "code",
   "execution_count": 26,
   "id": "3f8f0943",
   "metadata": {},
   "outputs": [
    {
     "data": {
      "text/html": [
       "<div>\n",
       "<style scoped>\n",
       "    .dataframe tbody tr th:only-of-type {\n",
       "        vertical-align: middle;\n",
       "    }\n",
       "\n",
       "    .dataframe tbody tr th {\n",
       "        vertical-align: top;\n",
       "    }\n",
       "\n",
       "    .dataframe thead th {\n",
       "        text-align: right;\n",
       "    }\n",
       "</style>\n",
       "<table border=\"1\" class=\"dataframe\">\n",
       "  <thead>\n",
       "    <tr style=\"text-align: right;\">\n",
       "      <th></th>\n",
       "      <th>Favorite Color</th>\n",
       "      <th>Favorite Music Genre</th>\n",
       "      <th>Favorite Beverage</th>\n",
       "      <th>Favorite Soft Drink</th>\n",
       "      <th>Gender</th>\n",
       "    </tr>\n",
       "  </thead>\n",
       "  <tbody>\n",
       "    <tr>\n",
       "      <th>0</th>\n",
       "      <td>0</td>\n",
       "      <td>6</td>\n",
       "      <td>3</td>\n",
       "      <td>0</td>\n",
       "      <td>0</td>\n",
       "    </tr>\n",
       "    <tr>\n",
       "      <th>1</th>\n",
       "      <td>1</td>\n",
       "      <td>2</td>\n",
       "      <td>3</td>\n",
       "      <td>1</td>\n",
       "      <td>0</td>\n",
       "    </tr>\n",
       "    <tr>\n",
       "      <th>2</th>\n",
       "      <td>2</td>\n",
       "      <td>6</td>\n",
       "      <td>5</td>\n",
       "      <td>1</td>\n",
       "      <td>0</td>\n",
       "    </tr>\n",
       "    <tr>\n",
       "      <th>3</th>\n",
       "      <td>2</td>\n",
       "      <td>1</td>\n",
       "      <td>4</td>\n",
       "      <td>2</td>\n",
       "      <td>0</td>\n",
       "    </tr>\n",
       "    <tr>\n",
       "      <th>4</th>\n",
       "      <td>0</td>\n",
       "      <td>6</td>\n",
       "      <td>3</td>\n",
       "      <td>1</td>\n",
       "      <td>0</td>\n",
       "    </tr>\n",
       "    <tr>\n",
       "      <th>...</th>\n",
       "      <td>...</td>\n",
       "      <td>...</td>\n",
       "      <td>...</td>\n",
       "      <td>...</td>\n",
       "      <td>...</td>\n",
       "    </tr>\n",
       "    <tr>\n",
       "      <th>83</th>\n",
       "      <td>1</td>\n",
       "      <td>5</td>\n",
       "      <td>5</td>\n",
       "      <td>1</td>\n",
       "      <td>0</td>\n",
       "    </tr>\n",
       "    <tr>\n",
       "      <th>84</th>\n",
       "      <td>1</td>\n",
       "      <td>4</td>\n",
       "      <td>1</td>\n",
       "      <td>3</td>\n",
       "      <td>1</td>\n",
       "    </tr>\n",
       "    <tr>\n",
       "      <th>85</th>\n",
       "      <td>1</td>\n",
       "      <td>2</td>\n",
       "      <td>1</td>\n",
       "      <td>1</td>\n",
       "      <td>1</td>\n",
       "    </tr>\n",
       "    <tr>\n",
       "      <th>86</th>\n",
       "      <td>0</td>\n",
       "      <td>4</td>\n",
       "      <td>5</td>\n",
       "      <td>3</td>\n",
       "      <td>0</td>\n",
       "    </tr>\n",
       "    <tr>\n",
       "      <th>87</th>\n",
       "      <td>0</td>\n",
       "      <td>4</td>\n",
       "      <td>5</td>\n",
       "      <td>1</td>\n",
       "      <td>1</td>\n",
       "    </tr>\n",
       "  </tbody>\n",
       "</table>\n",
       "<p>154 rows × 5 columns</p>\n",
       "</div>"
      ],
      "text/plain": [
       "    Favorite Color  Favorite Music Genre  Favorite Beverage  \\\n",
       "0                0                     6                  3   \n",
       "1                1                     2                  3   \n",
       "2                2                     6                  5   \n",
       "3                2                     1                  4   \n",
       "4                0                     6                  3   \n",
       "..             ...                   ...                ...   \n",
       "83               1                     5                  5   \n",
       "84               1                     4                  1   \n",
       "85               1                     2                  1   \n",
       "86               0                     4                  5   \n",
       "87               0                     4                  5   \n",
       "\n",
       "    Favorite Soft Drink  Gender  \n",
       "0                     0       0  \n",
       "1                     1       0  \n",
       "2                     1       0  \n",
       "3                     2       0  \n",
       "4                     1       0  \n",
       "..                  ...     ...  \n",
       "83                    1       0  \n",
       "84                    3       1  \n",
       "85                    1       1  \n",
       "86                    3       0  \n",
       "87                    1       1  \n",
       "\n",
       "[154 rows x 5 columns]"
      ]
     },
     "execution_count": 26,
     "metadata": {},
     "output_type": "execute_result"
    }
   ],
   "source": [
    "from sklearn.preprocessing import LabelEncoder\n",
    "data = df.copy()\n",
    "le = LabelEncoder()\n",
    "for col in df.columns:\n",
    "    data[col] = le.fit_transform(df[col])\n",
    "    \n",
    "data"
   ]
  },
  {
   "cell_type": "code",
   "execution_count": 27,
   "id": "a54d0881",
   "metadata": {},
   "outputs": [
    {
     "data": {
      "text/plain": [
       "array([[<Axes: title={'center': 'Favorite Color'}>,\n",
       "        <Axes: title={'center': 'Favorite Music Genre'}>],\n",
       "       [<Axes: title={'center': 'Favorite Beverage'}>,\n",
       "        <Axes: title={'center': 'Favorite Soft Drink'}>],\n",
       "       [<Axes: title={'center': 'Gender'}>, <Axes: >]], dtype=object)"
      ]
     },
     "execution_count": 27,
     "metadata": {},
     "output_type": "execute_result"
    },
    {
     "data": {
      "image/png": "[encoded data removed]",
      "text/plain": [
       "<Figure size 2000x1500 with 6 Axes>"
      ]
     },
     "metadata": {},
     "output_type": "display_data"
    }
   ],
   "source": [
    "data.hist(figsize = (20,15), bins = 50)"
   ]
  },
  {
   "cell_type": "code",
   "execution_count": 28,
   "id": "79e38537",
   "metadata": {},
   "outputs": [
    {
     "data": {
      "image/png": "[encoded data removed]",
      "text/plain": [
       "<Figure size 1200x800 with 2 Axes>"
      ]
     },
     "metadata": {},
     "output_type": "display_data"
    }
   ],
   "source": [
    "corr_matrix = data.corr()\n",
    "\n",
    "# Создание тепловой таблицы\n",
    "plt.figure(figsize=(12, 8))\n",
    "sns.heatmap(corr_matrix, annot=True, cmap='coolwarm', linewidths=0.5)\n",
    "plt.title('Correlation Heatmap')\n",
    "plt.show()"
   ]
  },
  {
   "cell_type": "code",
   "execution_count": 29,
   "id": "f13ac485",
   "metadata": {},
   "outputs": [
    {
     "data": {
      "image/png": "[encoded data removed]",
      "text/plain": [
       "<Figure size 1250x1250 with 30 Axes>"
      ]
     },
     "metadata": {},
     "output_type": "display_data"
    }
   ],
   "source": [
    "sns.pairplot(data);"
   ]
  },
  {
   "cell_type": "markdown",
   "id": "b684c179",
   "metadata": {},
   "source": [
    "Зависимости или выбросы не наблюдаются"
   ]
  },
  {
   "cell_type": "code",
   "execution_count": 30,
   "id": "bb612872",
   "metadata": {},
   "outputs": [
    {
     "data": {
      "text/html": [
       "<div>\n",
       "<style scoped>\n",
       "    .dataframe tbody tr th:only-of-type {\n",
       "        vertical-align: middle;\n",
       "    }\n",
       "\n",
       "    .dataframe tbody tr th {\n",
       "        vertical-align: top;\n",
       "    }\n",
       "\n",
       "    .dataframe thead th {\n",
       "        text-align: right;\n",
       "    }\n",
       "</style>\n",
       "<table border=\"1\" class=\"dataframe\">\n",
       "  <thead>\n",
       "    <tr style=\"text-align: right;\">\n",
       "      <th></th>\n",
       "      <th>Favorite Color</th>\n",
       "      <th>Favorite Music Genre</th>\n",
       "      <th>Favorite Beverage</th>\n",
       "      <th>Favorite Soft Drink</th>\n",
       "      <th>Gender</th>\n",
       "    </tr>\n",
       "  </thead>\n",
       "  <tbody>\n",
       "    <tr>\n",
       "      <th>0</th>\n",
       "      <td>Cool</td>\n",
       "      <td>Rock</td>\n",
       "      <td>Vodka</td>\n",
       "      <td>7UP/Sprite</td>\n",
       "      <td>F</td>\n",
       "    </tr>\n",
       "    <tr>\n",
       "      <th>1</th>\n",
       "      <td>Neutral</td>\n",
       "      <td>Hip hop</td>\n",
       "      <td>Vodka</td>\n",
       "      <td>Coca Cola/Pepsi</td>\n",
       "      <td>F</td>\n",
       "    </tr>\n",
       "    <tr>\n",
       "      <th>2</th>\n",
       "      <td>Warm</td>\n",
       "      <td>Rock</td>\n",
       "      <td>Wine</td>\n",
       "      <td>Coca Cola/Pepsi</td>\n",
       "      <td>F</td>\n",
       "    </tr>\n",
       "    <tr>\n",
       "      <th>3</th>\n",
       "      <td>Warm</td>\n",
       "      <td>Folk/Traditional</td>\n",
       "      <td>Whiskey</td>\n",
       "      <td>Fanta</td>\n",
       "      <td>F</td>\n",
       "    </tr>\n",
       "    <tr>\n",
       "      <th>4</th>\n",
       "      <td>Cool</td>\n",
       "      <td>Rock</td>\n",
       "      <td>Vodka</td>\n",
       "      <td>Coca Cola/Pepsi</td>\n",
       "      <td>F</td>\n",
       "    </tr>\n",
       "    <tr>\n",
       "      <th>...</th>\n",
       "      <td>...</td>\n",
       "      <td>...</td>\n",
       "      <td>...</td>\n",
       "      <td>...</td>\n",
       "      <td>...</td>\n",
       "    </tr>\n",
       "    <tr>\n",
       "      <th>61</th>\n",
       "      <td>Cool</td>\n",
       "      <td>Rock</td>\n",
       "      <td>Vodka</td>\n",
       "      <td>Coca Cola/Pepsi</td>\n",
       "      <td>M</td>\n",
       "    </tr>\n",
       "    <tr>\n",
       "      <th>62</th>\n",
       "      <td>Cool</td>\n",
       "      <td>Hip hop</td>\n",
       "      <td>Beer</td>\n",
       "      <td>Coca Cola/Pepsi</td>\n",
       "      <td>M</td>\n",
       "    </tr>\n",
       "    <tr>\n",
       "      <th>63</th>\n",
       "      <td>Neutral</td>\n",
       "      <td>Hip hop</td>\n",
       "      <td>Doesn't drink</td>\n",
       "      <td>Fanta</td>\n",
       "      <td>M</td>\n",
       "    </tr>\n",
       "    <tr>\n",
       "      <th>64</th>\n",
       "      <td>Cool</td>\n",
       "      <td>Rock</td>\n",
       "      <td>Wine</td>\n",
       "      <td>Coca Cola/Pepsi</td>\n",
       "      <td>M</td>\n",
       "    </tr>\n",
       "    <tr>\n",
       "      <th>65</th>\n",
       "      <td>Cool</td>\n",
       "      <td>Electronic</td>\n",
       "      <td>Beer</td>\n",
       "      <td>Coca Cola/Pepsi</td>\n",
       "      <td>M</td>\n",
       "    </tr>\n",
       "  </tbody>\n",
       "</table>\n",
       "<p>66 rows × 5 columns</p>\n",
       "</div>"
      ],
      "text/plain": [
       "   Favorite Color Favorite Music Genre Favorite Beverage Favorite Soft Drink  \\\n",
       "0            Cool                 Rock             Vodka          7UP/Sprite   \n",
       "1         Neutral              Hip hop             Vodka     Coca Cola/Pepsi   \n",
       "2            Warm                 Rock              Wine     Coca Cola/Pepsi   \n",
       "3            Warm     Folk/Traditional           Whiskey               Fanta   \n",
       "4            Cool                 Rock             Vodka     Coca Cola/Pepsi   \n",
       "..            ...                  ...               ...                 ...   \n",
       "61           Cool                 Rock             Vodka     Coca Cola/Pepsi   \n",
       "62           Cool              Hip hop              Beer     Coca Cola/Pepsi   \n",
       "63        Neutral              Hip hop     Doesn't drink               Fanta   \n",
       "64           Cool                 Rock              Wine     Coca Cola/Pepsi   \n",
       "65           Cool           Electronic              Beer     Coca Cola/Pepsi   \n",
       "\n",
       "   Gender  \n",
       "0       F  \n",
       "1       F  \n",
       "2       F  \n",
       "3       F  \n",
       "4       F  \n",
       "..    ...  \n",
       "61      M  \n",
       "62      M  \n",
       "63      M  \n",
       "64      M  \n",
       "65      M  \n",
       "\n",
       "[66 rows x 5 columns]"
      ]
     },
     "execution_count": 30,
     "metadata": {},
     "output_type": "execute_result"
    }
   ],
   "source": [
    "df.head(66)"
   ]
  },
  {
   "cell_type": "markdown",
   "id": "769e0592",
   "metadata": {},
   "source": [
    "\n",
    "## Особенности моделей\n",
    "\n",
    " KNN может быть эффективен, когда количество признаков невелико, так как его производительность ухудшается с увеличением размерности данных.KNN работает лучше, когда данные равномерно распределены в пространстве признаков.\n",
    "\n",
    "Gradient Boosting может быть эффективен на небольших наборах данных,Gradient Boosting может обрабатывать как числовые, так и категориальные признаки, если они преобразованы в числовые значения.Gradient Boosting может эффективно работать с несбалансированными данными\n",
    "\n",
    "\n",
    "Random Forest может эффективно работать с несбалансированными данными, особенно если использовать параметр class_weight='balanced'. Random Forest обычно показывает высокую точность и устойчивость к переобучению благодаря ансамблевому подходу."
   ]
  },
  {
   "cell_type": "markdown",
   "id": "55146841",
   "metadata": {},
   "source": [
    "## Обучение классификатора"
   ]
  },
  {
   "cell_type": "code",
   "execution_count": 33,
   "id": "cc400e01-d761-41d9-854b-05eaca1ce7e2",
   "metadata": {},
   "outputs": [],
   "source": [
    "from sklearn.metrics import accuracy_score, mean_absolute_error, mean_squared_error, precision_score, recall_score, f1_score, confusion_matrix, r2_score\n",
    "from sklearn.metrics import classification_report\n",
    "from sklearn.metrics import confusion_matrix\n",
    "from sklearn.metrics import roc_auc_score\n",
    "from sklearn.metrics import RocCurveDisplay\n",
    "\n"
   ]
  },
  {
   "cell_type": "code",
   "execution_count": 34,
   "id": "068da4b4-2c6e-4c9e-85cd-fa0f8143fe68",
   "metadata": {},
   "outputs": [],
   "source": [
    "from sklearn.svm import SVC\n",
    "from sklearn.ensemble import RandomForestClassifier\n",
    "from sklearn.naive_bayes import GaussianNB\n",
    "from sklearn.linear_model import LogisticRegression\n",
    "from sklearn.ensemble import GradientBoostingClassifier\n",
    "from sklearn.model_selection import train_test_split"
   ]
  },
  {
   "cell_type": "code",
   "execution_count": 35,
   "id": "9c8cadb9",
   "metadata": {},
   "outputs": [],
   "source": [
    "X = data.drop('Gender', axis=1)\n",
    "y = data['Gender']\n",
    "\n",
    "# Разделение данных на обучающую и тестовую выборки\n",
    "X_train, X_test, y_train, y_test = train_test_split(X, y, test_size=0.33, random_state=42)\n"
   ]
  },
  {
   "cell_type": "markdown",
   "id": "763aa29f",
   "metadata": {},
   "source": [
    "## Random Forest Classifier (Классификатор дерева решений)"
   ]
  },
  {
   "cell_type": "code",
   "execution_count": 36,
   "id": "252bf085",
   "metadata": {},
   "outputs": [
    {
     "data": {
      "text/html": [
       "<style>#sk-container-id-1 {color: black;}#sk-container-id-1 pre{padding: 0;}#sk-container-id-1 div.sk-toggleable {background-color: white;}#sk-container-id-1 label.sk-toggleable__label {cursor: pointer;display: block;width: 100%;margin-bottom: 0;padding: 0.3em;box-sizing: border-box;text-align: center;}#sk-container-id-1 label.sk-toggleable__label-arrow:before {content: \"▸\";float: left;margin-right: 0.25em;color: #696969;}#sk-container-id-1 label.sk-toggleable__label-arrow:hover:before {color: black;}#sk-container-id-1 div.sk-estimator:hover label.sk-toggleable__label-arrow:before {color: black;}#sk-container-id-1 div.sk-toggleable__content {max-height: 0;max-width: 0;overflow: hidden;text-align: left;background-color: #f0f8ff;}#sk-container-id-1 div.sk-toggleable__content pre {margin: 0.2em;color: black;border-radius: 0.25em;background-color: #f0f8ff;}#sk-container-id-1 input.sk-toggleable__control:checked~div.sk-toggleable__content {max-height: 200px;max-width: 100%;overflow: auto;}#sk-container-id-1 input.sk-toggleable__control:checked~label.sk-toggleable__label-arrow:before {content: \"▾\";}#sk-container-id-1 div.sk-estimator input.sk-toggleable__control:checked~label.sk-toggleable__label {background-color: #d4ebff;}#sk-container-id-1 div.sk-label input.sk-toggleable__control:checked~label.sk-toggleable__label {background-color: #d4ebff;}#sk-container-id-1 input.sk-hidden--visually {border: 0;clip: rect(1px 1px 1px 1px);clip: rect(1px, 1px, 1px, 1px);height: 1px;margin: -1px;overflow: hidden;padding: 0;position: absolute;width: 1px;}#sk-container-id-1 div.sk-estimator {font-family: monospace;background-color: #f0f8ff;border: 1px dotted black;border-radius: 0.25em;box-sizing: border-box;margin-bottom: 0.5em;}#sk-container-id-1 div.sk-estimator:hover {background-color: #d4ebff;}#sk-container-id-1 div.sk-parallel-item::after {content: \"\";width: 100%;border-bottom: 1px solid gray;flex-grow: 1;}#sk-container-id-1 div.sk-label:hover label.sk-toggleable__label {background-color: #d4ebff;}#sk-container-id-1 div.sk-serial::before {content: \"\";position: absolute;border-left: 1px solid gray;box-sizing: border-box;top: 0;bottom: 0;left: 50%;z-index: 0;}#sk-container-id-1 div.sk-serial {display: flex;flex-direction: column;align-items: center;background-color: white;padding-right: 0.2em;padding-left: 0.2em;position: relative;}#sk-container-id-1 div.sk-item {position: relative;z-index: 1;}#sk-container-id-1 div.sk-parallel {display: flex;align-items: stretch;justify-content: center;background-color: white;position: relative;}#sk-container-id-1 div.sk-item::before, #sk-container-id-1 div.sk-parallel-item::before {content: \"\";position: absolute;border-left: 1px solid gray;box-sizing: border-box;top: 0;bottom: 0;left: 50%;z-index: -1;}#sk-container-id-1 div.sk-parallel-item {display: flex;flex-direction: column;z-index: 1;position: relative;background-color: white;}#sk-container-id-1 div.sk-parallel-item:first-child::after {align-self: flex-end;width: 50%;}#sk-container-id-1 div.sk-parallel-item:last-child::after {align-self: flex-start;width: 50%;}#sk-container-id-1 div.sk-parallel-item:only-child::after {width: 0;}#sk-container-id-1 div.sk-dashed-wrapped {border: 1px dashed gray;margin: 0 0.4em 0.5em 0.4em;box-sizing: border-box;padding-bottom: 0.4em;background-color: white;}#sk-container-id-1 div.sk-label label {font-family: monospace;font-weight: bold;display: inline-block;line-height: 1.2em;}#sk-container-id-1 div.sk-label-container {text-align: center;}#sk-container-id-1 div.sk-container {/* jupyter's `normalize.less` sets `[hidden] { display: none; }` but bootstrap.min.css set `[hidden] { display: none !important; }` so we also need the `!important` here to be able to override the default hidden behavior on the sphinx rendered scikit-learn.org. See: https://github.com/scikit-learn/scikit-learn/issues/21755 */display: inline-block !important;position: relative;}#sk-container-id-1 div.sk-text-repr-fallback {display: none;}</style><div id=\"sk-container-id-1\" class=\"sk-top-container\"><div class=\"sk-text-repr-fallback\"><pre>RandomForestClassifier(random_state=42)</pre><b>In a Jupyter environment, please rerun this cell to show the HTML representation or trust the notebook. <br />On GitHub, the HTML representation is unable to render, please try loading this page with nbviewer.org.</b></div><div class=\"sk-container\" hidden><div class=\"sk-item\"><div class=\"sk-estimator sk-toggleable\"><input class=\"sk-toggleable__control sk-hidden--visually\" id=\"sk-estimator-id-1\" type=\"checkbox\" checked><label for=\"sk-estimator-id-1\" class=\"sk-toggleable__label sk-toggleable__label-arrow\">RandomForestClassifier</label><div class=\"sk-toggleable__content\"><pre>RandomForestClassifier(random_state=42)</pre></div></div></div></div></div>"
      ],
      "text/plain": [
       "RandomForestClassifier(random_state=42)"
      ]
     },
     "execution_count": 36,
     "metadata": {},
     "output_type": "execute_result"
    }
   ],
   "source": [
    "rfc = RandomForestClassifier(random_state = 42)\n",
    "rfc.fit(X_train,y_train)"
   ]
  },
  {
   "cell_type": "code",
   "execution_count": 37,
   "id": "6a08dffb",
   "metadata": {},
   "outputs": [
    {
     "data": {
      "text/plain": [
       "array([0, 0, 1, 0, 0, 1, 0, 1, 1, 1, 1, 0, 0, 0, 0, 0, 0, 0, 0, 1])"
      ]
     },
     "metadata": {},
     "output_type": "display_data"
    },
    {
     "data": {
      "text/plain": [
       "array([0, 0, 0, 0, 1, 1, 0, 1, 1, 1, 1, 1, 0, 0, 1, 0, 0, 0, 0, 0])"
      ]
     },
     "metadata": {},
     "output_type": "display_data"
    }
   ],
   "source": [
    "rfc_pred_test = rfc.predict(X_test)\n",
    "display(rfc_pred_test[:20], np.array(y_test[:20]))"
   ]
  },
  {
   "cell_type": "code",
   "execution_count": 38,
   "id": "0b8992e0",
   "metadata": {},
   "outputs": [
    {
     "data": {
      "text/plain": [
       "array([1, 0, 0, 0, 0, 1, 0, 0, 0, 0, 1, 0, 0, 1, 1, 1, 1, 1, 0, 0, 0, 1,\n",
       "       1, 0, 0, 0, 1, 0, 1, 1, 1, 1, 0, 1, 1, 0, 1, 0, 1, 0, 1, 1, 1, 0,\n",
       "       1, 1, 0, 1, 1, 0, 0, 1, 0, 1, 1, 0, 0, 1, 1, 0, 0, 1, 1, 1, 0, 1,\n",
       "       0, 0, 1, 0, 1, 1, 1, 1, 1, 0, 1, 1, 1, 1, 1, 0, 1, 0, 0, 1, 1, 0,\n",
       "       1, 1, 1, 1, 0, 0, 1, 0, 0, 0, 1, 1, 1, 0, 1])"
      ]
     },
     "execution_count": 38,
     "metadata": {},
     "output_type": "execute_result"
    }
   ],
   "source": [
    "rfc_train_predict = rfc.predict(X_train)\n",
    "rfc_train_predict"
   ]
  },
  {
   "cell_type": "code",
   "execution_count": 39,
   "id": "f0b45133",
   "metadata": {},
   "outputs": [
    {
     "name": "stdout",
     "output_type": "stream",
     "text": [
      "              precision    recall  f1-score   support\n",
      "\n",
      "           0       0.68      0.61      0.64        31\n",
      "           1       0.48      0.55      0.51        20\n",
      "\n",
      "    accuracy                           0.59        51\n",
      "   macro avg       0.58      0.58      0.58        51\n",
      "weighted avg       0.60      0.59      0.59        51\n",
      "\n"
     ]
    }
   ],
   "source": [
    "print(classification_report(y_test, rfc_pred_test))"
   ]
  },
  {
   "cell_type": "code",
   "execution_count": 40,
   "id": "ec05fae0",
   "metadata": {},
   "outputs": [
    {
     "name": "stdout",
     "output_type": "stream",
     "text": [
      "0.4782608695652174\n",
      "0.55\n",
      "0.5116279069767442\n"
     ]
    }
   ],
   "source": [
    "rfc_fscore = f1_score(y_test, rfc_pred_test)\n",
    "rfc_precision = precision_score(y_test, rfc_pred_test)\n",
    "\n",
    "print(precision_score(y_test, rfc_pred_test))\n",
    "print(recall_score(y_test, rfc_pred_test))\n",
    "print(f1_score(y_test, rfc_pred_test))"
   ]
  },
  {
   "cell_type": "code",
   "execution_count": 41,
   "id": "9aa9ac37",
   "metadata": {},
   "outputs": [
    {
     "data": {
      "text/plain": [
       "0.5882352941176471"
      ]
     },
     "execution_count": 41,
     "metadata": {},
     "output_type": "execute_result"
    }
   ],
   "source": [
    "rfc_accuracy = accuracy_score(y_test, rfc_pred_test)\n",
    "rfc_accuracy"
   ]
  },
  {
   "cell_type": "code",
   "execution_count": 42,
   "id": "292c1319",
   "metadata": {},
   "outputs": [
    {
     "name": "stdout",
     "output_type": "stream",
     "text": [
      "train accuracy:  0.8932038834951457\n",
      "test accuracy:  0.5882352941176471\n"
     ]
    }
   ],
   "source": [
    "print('train accuracy: ', accuracy_score(y_train, rfc_train_predict, normalize=True))\n",
    "print('test accuracy: ', accuracy_score(y_test, rfc_pred_test, normalize=True))"
   ]
  },
  {
   "cell_type": "code",
   "execution_count": 43,
   "id": "956eee0d",
   "metadata": {},
   "outputs": [
    {
     "name": "stdout",
     "output_type": "stream",
     "text": [
      "test mean_squared_error:  0.4117647058823529\n",
      "test mean_absolute_error:  0.4117647058823529\n"
     ]
    }
   ],
   "source": [
    "print('test mean_squared_error: ', mean_squared_error(y_test, rfc_pred_test))\n",
    "print('test mean_absolute_error: ', mean_absolute_error(y_test, rfc_pred_test))"
   ]
  },
  {
   "cell_type": "code",
   "execution_count": 44,
   "id": "cc7a7044",
   "metadata": {},
   "outputs": [
    {
     "data": {
      "image/png": "[encoded data removed]",
      "text/plain": [
       "<Figure size 640x480 with 2 Axes>"
      ]
     },
     "metadata": {},
     "output_type": "display_data"
    }
   ],
   "source": [
    "cm = confusion_matrix(y_test, rfc_pred_test)\n",
    "\n",
    "sns.heatmap(cm, annot=True, fmt='d', cmap='Reds')\n",
    "plt.title('Confusion Matrix')\n",
    "plt.xlabel('Predicted Label')\n",
    "plt.ylabel('True Label')\n",
    "plt.show()"
   ]
  },
  {
   "cell_type": "code",
   "execution_count": 45,
   "id": "2c36029d",
   "metadata": {},
   "outputs": [
    {
     "data": {
      "text/plain": [
       "0.5814516129032259"
      ]
     },
     "execution_count": 45,
     "metadata": {},
     "output_type": "execute_result"
    }
   ],
   "source": [
    "roc_auc_score(y_test, rfc_pred_test, average='macro')"
   ]
  },
  {
   "cell_type": "code",
   "execution_count": 46,
   "id": "ed6813d0",
   "metadata": {},
   "outputs": [
    {
     "data": {
      "image/png": "[encoded data removed]",
      "text/plain": [
       "<Figure size 600x400 with 1 Axes>"
      ]
     },
     "metadata": {},
     "output_type": "display_data"
    }
   ],
   "source": [
    "from matplotlib.pylab import rc, plot\n",
    "from sklearn.metrics import roc_curve\n",
    "\n",
    "sns.set(font_scale=1)\n",
    "sns.set_color_codes(\"muted\")\n",
    "\n",
    "plt.figure(figsize=(6, 4))\n",
    "fpr, tpr, thresholds = roc_curve(y_test, rfc_pred_test, pos_label=1)\n",
    "lw = 2\n",
    "plt.plot(fpr, tpr, lw=lw, label='ROC curve ')\n",
    "plt.plot([0, 1], [0, 1])\n",
    "plt.xlim([0.0, 1.0])\n",
    "plt.ylim([0.0, 1.05])\n",
    "plt.xlabel('False Positive Rate')\n",
    "plt.ylabel('True Positive Rate')\n",
    "plt.title('ROC curve')\n",
    "plt.savefig(\"ROC.png\")\n",
    "plt.show()"
   ]
  },
  {
   "cell_type": "markdown",
   "id": "97516771",
   "metadata": {},
   "source": [
    "## KNeighborsClassifier (Классификация ближайших соседей)"
   ]
  },
  {
   "cell_type": "code",
   "execution_count": 47,
   "id": "416b1069",
   "metadata": {},
   "outputs": [],
   "source": [
    "from sklearn.neighbors import KNeighborsClassifier"
   ]
  },
  {
   "cell_type": "code",
   "execution_count": 48,
   "id": "78950813",
   "metadata": {},
   "outputs": [
    {
     "data": {
      "text/html": [
       "<style>#sk-container-id-2 {color: black;}#sk-container-id-2 pre{padding: 0;}#sk-container-id-2 div.sk-toggleable {background-color: white;}#sk-container-id-2 label.sk-toggleable__label {cursor: pointer;display: block;width: 100%;margin-bottom: 0;padding: 0.3em;box-sizing: border-box;text-align: center;}#sk-container-id-2 label.sk-toggleable__label-arrow:before {content: \"▸\";float: left;margin-right: 0.25em;color: #696969;}#sk-container-id-2 label.sk-toggleable__label-arrow:hover:before {color: black;}#sk-container-id-2 div.sk-estimator:hover label.sk-toggleable__label-arrow:before {color: black;}#sk-container-id-2 div.sk-toggleable__content {max-height: 0;max-width: 0;overflow: hidden;text-align: left;background-color: #f0f8ff;}#sk-container-id-2 div.sk-toggleable__content pre {margin: 0.2em;color: black;border-radius: 0.25em;background-color: #f0f8ff;}#sk-container-id-2 input.sk-toggleable__control:checked~div.sk-toggleable__content {max-height: 200px;max-width: 100%;overflow: auto;}#sk-container-id-2 input.sk-toggleable__control:checked~label.sk-toggleable__label-arrow:before {content: \"▾\";}#sk-container-id-2 div.sk-estimator input.sk-toggleable__control:checked~label.sk-toggleable__label {background-color: #d4ebff;}#sk-container-id-2 div.sk-label input.sk-toggleable__control:checked~label.sk-toggleable__label {background-color: #d4ebff;}#sk-container-id-2 input.sk-hidden--visually {border: 0;clip: rect(1px 1px 1px 1px);clip: rect(1px, 1px, 1px, 1px);height: 1px;margin: -1px;overflow: hidden;padding: 0;position: absolute;width: 1px;}#sk-container-id-2 div.sk-estimator {font-family: monospace;background-color: #f0f8ff;border: 1px dotted black;border-radius: 0.25em;box-sizing: border-box;margin-bottom: 0.5em;}#sk-container-id-2 div.sk-estimator:hover {background-color: #d4ebff;}#sk-container-id-2 div.sk-parallel-item::after {content: \"\";width: 100%;border-bottom: 1px solid gray;flex-grow: 1;}#sk-container-id-2 div.sk-label:hover label.sk-toggleable__label {background-color: #d4ebff;}#sk-container-id-2 div.sk-serial::before {content: \"\";position: absolute;border-left: 1px solid gray;box-sizing: border-box;top: 0;bottom: 0;left: 50%;z-index: 0;}#sk-container-id-2 div.sk-serial {display: flex;flex-direction: column;align-items: center;background-color: white;padding-right: 0.2em;padding-left: 0.2em;position: relative;}#sk-container-id-2 div.sk-item {position: relative;z-index: 1;}#sk-container-id-2 div.sk-parallel {display: flex;align-items: stretch;justify-content: center;background-color: white;position: relative;}#sk-container-id-2 div.sk-item::before, #sk-container-id-2 div.sk-parallel-item::before {content: \"\";position: absolute;border-left: 1px solid gray;box-sizing: border-box;top: 0;bottom: 0;left: 50%;z-index: -1;}#sk-container-id-2 div.sk-parallel-item {display: flex;flex-direction: column;z-index: 1;position: relative;background-color: white;}#sk-container-id-2 div.sk-parallel-item:first-child::after {align-self: flex-end;width: 50%;}#sk-container-id-2 div.sk-parallel-item:last-child::after {align-self: flex-start;width: 50%;}#sk-container-id-2 div.sk-parallel-item:only-child::after {width: 0;}#sk-container-id-2 div.sk-dashed-wrapped {border: 1px dashed gray;margin: 0 0.4em 0.5em 0.4em;box-sizing: border-box;padding-bottom: 0.4em;background-color: white;}#sk-container-id-2 div.sk-label label {font-family: monospace;font-weight: bold;display: inline-block;line-height: 1.2em;}#sk-container-id-2 div.sk-label-container {text-align: center;}#sk-container-id-2 div.sk-container {/* jupyter's `normalize.less` sets `[hidden] { display: none; }` but bootstrap.min.css set `[hidden] { display: none !important; }` so we also need the `!important` here to be able to override the default hidden behavior on the sphinx rendered scikit-learn.org. See: https://github.com/scikit-learn/scikit-learn/issues/21755 */display: inline-block !important;position: relative;}#sk-container-id-2 div.sk-text-repr-fallback {display: none;}</style><div id=\"sk-container-id-2\" class=\"sk-top-container\"><div class=\"sk-text-repr-fallback\"><pre>KNeighborsClassifier()</pre><b>In a Jupyter environment, please rerun this cell to show the HTML representation or trust the notebook. <br />On GitHub, the HTML representation is unable to render, please try loading this page with nbviewer.org.</b></div><div class=\"sk-container\" hidden><div class=\"sk-item\"><div class=\"sk-estimator sk-toggleable\"><input class=\"sk-toggleable__control sk-hidden--visually\" id=\"sk-estimator-id-2\" type=\"checkbox\" checked><label for=\"sk-estimator-id-2\" class=\"sk-toggleable__label sk-toggleable__label-arrow\">KNeighborsClassifier</label><div class=\"sk-toggleable__content\"><pre>KNeighborsClassifier()</pre></div></div></div></div></div>"
      ],
      "text/plain": [
       "KNeighborsClassifier()"
      ]
     },
     "execution_count": 48,
     "metadata": {},
     "output_type": "execute_result"
    }
   ],
   "source": [
    "knn = KNeighborsClassifier()\n",
    "knn.fit(X_train, y_train)"
   ]
  },
  {
   "cell_type": "code",
   "execution_count": 49,
   "id": "9364056b",
   "metadata": {},
   "outputs": [
    {
     "data": {
      "text/plain": [
       "array([0, 0, 1, 0, 1, 1, 1, 1, 1, 1, 1, 0, 0, 0, 0, 1, 0, 0, 0, 1])"
      ]
     },
     "metadata": {},
     "output_type": "display_data"
    },
    {
     "data": {
      "text/plain": [
       "array([0, 0, 0, 0, 1, 1, 0, 1, 1, 1, 1, 1, 0, 0, 1, 0, 0, 0, 0, 0])"
      ]
     },
     "metadata": {},
     "output_type": "display_data"
    }
   ],
   "source": [
    "\n",
    "X_train_np = np.asarray(X_train)\n",
    "X_test_np = np.asarray(X_test)\n",
    "knn_pred_test = knn.predict(X_test_np)\n",
    "display(knn_pred_test[:20], np.array(y_test[:20]))"
   ]
  },
  {
   "cell_type": "code",
   "execution_count": 50,
   "id": "ce28a8f9",
   "metadata": {},
   "outputs": [
    {
     "data": {
      "text/plain": [
       "array([0, 1, 0, 0, 0, 1, 0, 0, 1, 0, 0, 0, 1, 0, 1, 1, 1, 1, 1, 0, 0, 0,\n",
       "       1, 0, 0, 0, 1, 1, 1, 0, 0, 1, 1, 1, 1, 0, 0, 0, 1, 1, 1, 1, 1, 1,\n",
       "       1, 1, 0, 1, 0, 0, 0, 1, 1, 0, 0, 1, 0, 1, 1, 1, 1, 1, 0, 0, 0, 1,\n",
       "       0, 0, 1, 0, 1, 0, 0, 0, 1, 1, 1, 1, 0, 1, 1, 1, 0, 1, 0, 1, 1, 1,\n",
       "       1, 1, 1, 1, 1, 0, 1, 0, 0, 0, 1, 1, 0, 0, 1])"
      ]
     },
     "execution_count": 50,
     "metadata": {},
     "output_type": "execute_result"
    }
   ],
   "source": [
    "X_train_np = np.asarray(X_train)\n",
    "knn_train_predict = knn.predict(X_train_np)\n",
    "knn_train_predict"
   ]
  },
  {
   "cell_type": "code",
   "execution_count": 51,
   "id": "0f1a2d1c",
   "metadata": {},
   "outputs": [
    {
     "name": "stdout",
     "output_type": "stream",
     "text": [
      "              precision    recall  f1-score   support\n",
      "\n",
      "           0       0.70      0.52      0.59        31\n",
      "           1       0.46      0.65      0.54        20\n",
      "\n",
      "    accuracy                           0.57        51\n",
      "   macro avg       0.58      0.58      0.57        51\n",
      "weighted avg       0.60      0.57      0.57        51\n",
      "\n"
     ]
    }
   ],
   "source": [
    "print(classification_report(y_test, knn_pred_test))"
   ]
  },
  {
   "cell_type": "code",
   "execution_count": 52,
   "id": "678e8a42",
   "metadata": {},
   "outputs": [
    {
     "name": "stdout",
     "output_type": "stream",
     "text": [
      "0.4642857142857143\n",
      "0.65\n",
      "0.5416666666666667\n"
     ]
    }
   ],
   "source": [
    "knn_fscore = f1_score(y_test, knn_pred_test)\n",
    "knn_precision = precision_score(y_test, knn_pred_test)\n",
    "\n",
    "print(precision_score(y_test, knn_pred_test))\n",
    "print(recall_score(y_test, knn_pred_test))\n",
    "print(f1_score(y_test, knn_pred_test))"
   ]
  },
  {
   "cell_type": "code",
   "execution_count": 53,
   "id": "11963a48",
   "metadata": {},
   "outputs": [
    {
     "data": {
      "text/plain": [
       "0.5686274509803921"
      ]
     },
     "execution_count": 53,
     "metadata": {},
     "output_type": "execute_result"
    }
   ],
   "source": [
    "knn_accuracy = accuracy_score(y_test, knn_pred_test)\n",
    "knn_accuracy"
   ]
  },
  {
   "cell_type": "code",
   "execution_count": 54,
   "id": "f37269b4",
   "metadata": {},
   "outputs": [
    {
     "name": "stdout",
     "output_type": "stream",
     "text": [
      "train accuracy:  0.6116504854368932\n",
      "test accuracy:  0.5686274509803921\n"
     ]
    }
   ],
   "source": [
    "print('train accuracy: ', accuracy_score(y_train, knn_train_predict, normalize=True))\n",
    "print('test accuracy: ', accuracy_score(y_test, knn_pred_test, normalize=True))"
   ]
  },
  {
   "cell_type": "code",
   "execution_count": 55,
   "id": "b439624a",
   "metadata": {},
   "outputs": [
    {
     "name": "stdout",
     "output_type": "stream",
     "text": [
      "test mean_squared_error:  0.43137254901960786\n",
      "test mean_absolute_error:  0.43137254901960786\n"
     ]
    }
   ],
   "source": [
    "print('test mean_squared_error: ', mean_squared_error(y_test, knn_pred_test))\n",
    "print('test mean_absolute_error: ', mean_absolute_error(y_test, knn_pred_test))"
   ]
  },
  {
   "cell_type": "code",
   "execution_count": 56,
   "id": "d45ab71b",
   "metadata": {},
   "outputs": [
    {
     "data": {
      "image/png": "[encoded data removed]",
      "text/plain": [
       "<Figure size 640x480 with 2 Axes>"
      ]
     },
     "metadata": {},
     "output_type": "display_data"
    }
   ],
   "source": [
    "cm = confusion_matrix(y_test, knn_pred_test)\n",
    "\n",
    "sns.heatmap(cm, annot=True, fmt='d', cmap='Reds')\n",
    "plt.title('Confusion Matrix')\n",
    "plt.xlabel('Predicted Label')\n",
    "plt.ylabel('True Label')\n",
    "plt.show()"
   ]
  },
  {
   "cell_type": "code",
   "execution_count": 57,
   "id": "e6170bf3",
   "metadata": {},
   "outputs": [
    {
     "data": {
      "text/plain": [
       "0.5830645161290322"
      ]
     },
     "execution_count": 57,
     "metadata": {},
     "output_type": "execute_result"
    }
   ],
   "source": [
    "roc_auc_score(y_test, knn_pred_test)"
   ]
  },
  {
   "cell_type": "code",
   "execution_count": 58,
   "id": "4a1467e6",
   "metadata": {},
   "outputs": [
    {
     "data": {
      "image/png": "[encoded data removed]",
      "text/plain": [
       "<Figure size 600x400 with 1 Axes>"
      ]
     },
     "metadata": {},
     "output_type": "display_data"
    }
   ],
   "source": [
    "sns.set(font_scale=1)\n",
    "sns.set_color_codes(\"muted\")\n",
    "\n",
    "plt.figure(figsize=(6, 4))\n",
    "fpr, tpr, thresholds = roc_curve(y_test, knn_pred_test, pos_label=1)\n",
    "lw = 2\n",
    "plt.plot(fpr, tpr, lw=lw, label='ROC curve ')\n",
    "plt.plot([0, 1], [0, 1])\n",
    "plt.xlim([0.0, 1.0])\n",
    "plt.ylim([0.0, 1.05])\n",
    "plt.xlabel('False Positive Rate')\n",
    "plt.ylabel('True Positive Rate')\n",
    "plt.title('ROC curve')\n",
    "plt.savefig(\"ROC.png\")\n",
    "plt.show()"
   ]
  },
  {
   "cell_type": "markdown",
   "id": "92d97c73",
   "metadata": {},
   "source": [
    "## GradientBoostingClassifier"
   ]
  },
  {
   "cell_type": "code",
   "execution_count": 59,
   "id": "d8865648",
   "metadata": {},
   "outputs": [
    {
     "data": {
      "text/html": [
       "<style>#sk-container-id-3 {color: black;}#sk-container-id-3 pre{padding: 0;}#sk-container-id-3 div.sk-toggleable {background-color: white;}#sk-container-id-3 label.sk-toggleable__label {cursor: pointer;display: block;width: 100%;margin-bottom: 0;padding: 0.3em;box-sizing: border-box;text-align: center;}#sk-container-id-3 label.sk-toggleable__label-arrow:before {content: \"▸\";float: left;margin-right: 0.25em;color: #696969;}#sk-container-id-3 label.sk-toggleable__label-arrow:hover:before {color: black;}#sk-container-id-3 div.sk-estimator:hover label.sk-toggleable__label-arrow:before {color: black;}#sk-container-id-3 div.sk-toggleable__content {max-height: 0;max-width: 0;overflow: hidden;text-align: left;background-color: #f0f8ff;}#sk-container-id-3 div.sk-toggleable__content pre {margin: 0.2em;color: black;border-radius: 0.25em;background-color: #f0f8ff;}#sk-container-id-3 input.sk-toggleable__control:checked~div.sk-toggleable__content {max-height: 200px;max-width: 100%;overflow: auto;}#sk-container-id-3 input.sk-toggleable__control:checked~label.sk-toggleable__label-arrow:before {content: \"▾\";}#sk-container-id-3 div.sk-estimator input.sk-toggleable__control:checked~label.sk-toggleable__label {background-color: #d4ebff;}#sk-container-id-3 div.sk-label input.sk-toggleable__control:checked~label.sk-toggleable__label {background-color: #d4ebff;}#sk-container-id-3 input.sk-hidden--visually {border: 0;clip: rect(1px 1px 1px 1px);clip: rect(1px, 1px, 1px, 1px);height: 1px;margin: -1px;overflow: hidden;padding: 0;position: absolute;width: 1px;}#sk-container-id-3 div.sk-estimator {font-family: monospace;background-color: #f0f8ff;border: 1px dotted black;border-radius: 0.25em;box-sizing: border-box;margin-bottom: 0.5em;}#sk-container-id-3 div.sk-estimator:hover {background-color: #d4ebff;}#sk-container-id-3 div.sk-parallel-item::after {content: \"\";width: 100%;border-bottom: 1px solid gray;flex-grow: 1;}#sk-container-id-3 div.sk-label:hover label.sk-toggleable__label {background-color: #d4ebff;}#sk-container-id-3 div.sk-serial::before {content: \"\";position: absolute;border-left: 1px solid gray;box-sizing: border-box;top: 0;bottom: 0;left: 50%;z-index: 0;}#sk-container-id-3 div.sk-serial {display: flex;flex-direction: column;align-items: center;background-color: white;padding-right: 0.2em;padding-left: 0.2em;position: relative;}#sk-container-id-3 div.sk-item {position: relative;z-index: 1;}#sk-container-id-3 div.sk-parallel {display: flex;align-items: stretch;justify-content: center;background-color: white;position: relative;}#sk-container-id-3 div.sk-item::before, #sk-container-id-3 div.sk-parallel-item::before {content: \"\";position: absolute;border-left: 1px solid gray;box-sizing: border-box;top: 0;bottom: 0;left: 50%;z-index: -1;}#sk-container-id-3 div.sk-parallel-item {display: flex;flex-direction: column;z-index: 1;position: relative;background-color: white;}#sk-container-id-3 div.sk-parallel-item:first-child::after {align-self: flex-end;width: 50%;}#sk-container-id-3 div.sk-parallel-item:last-child::after {align-self: flex-start;width: 50%;}#sk-container-id-3 div.sk-parallel-item:only-child::after {width: 0;}#sk-container-id-3 div.sk-dashed-wrapped {border: 1px dashed gray;margin: 0 0.4em 0.5em 0.4em;box-sizing: border-box;padding-bottom: 0.4em;background-color: white;}#sk-container-id-3 div.sk-label label {font-family: monospace;font-weight: bold;display: inline-block;line-height: 1.2em;}#sk-container-id-3 div.sk-label-container {text-align: center;}#sk-container-id-3 div.sk-container {/* jupyter's `normalize.less` sets `[hidden] { display: none; }` but bootstrap.min.css set `[hidden] { display: none !important; }` so we also need the `!important` here to be able to override the default hidden behavior on the sphinx rendered scikit-learn.org. See: https://github.com/scikit-learn/scikit-learn/issues/21755 */display: inline-block !important;position: relative;}#sk-container-id-3 div.sk-text-repr-fallback {display: none;}</style><div id=\"sk-container-id-3\" class=\"sk-top-container\"><div class=\"sk-text-repr-fallback\"><pre>GradientBoostingClassifier()</pre><b>In a Jupyter environment, please rerun this cell to show the HTML representation or trust the notebook. <br />On GitHub, the HTML representation is unable to render, please try loading this page with nbviewer.org.</b></div><div class=\"sk-container\" hidden><div class=\"sk-item\"><div class=\"sk-estimator sk-toggleable\"><input class=\"sk-toggleable__control sk-hidden--visually\" id=\"sk-estimator-id-3\" type=\"checkbox\" checked><label for=\"sk-estimator-id-3\" class=\"sk-toggleable__label sk-toggleable__label-arrow\">GradientBoostingClassifier</label><div class=\"sk-toggleable__content\"><pre>GradientBoostingClassifier()</pre></div></div></div></div></div>"
      ],
      "text/plain": [
       "GradientBoostingClassifier()"
      ]
     },
     "execution_count": 59,
     "metadata": {},
     "output_type": "execute_result"
    }
   ],
   "source": [
    "gbc = GradientBoostingClassifier()\n",
    "gbc.fit(X_train, y_train)"
   ]
  },
  {
   "cell_type": "code",
   "execution_count": 60,
   "id": "a9260abb",
   "metadata": {},
   "outputs": [
    {
     "data": {
      "text/plain": [
       "array([0, 0, 1, 0, 0, 1, 0, 1, 1, 1, 1, 0, 0, 0, 0, 1, 0, 0, 0, 0])"
      ]
     },
     "metadata": {},
     "output_type": "display_data"
    },
    {
     "data": {
      "text/plain": [
       "array([0, 0, 0, 0, 1, 1, 0, 1, 1, 1, 1, 1, 0, 0, 1, 0, 0, 0, 0, 0])"
      ]
     },
     "metadata": {},
     "output_type": "display_data"
    }
   ],
   "source": [
    "gbc_pred_test = gbc.predict(X_test)\n",
    "display(gbc_pred_test[:20], np.array(y_test[:20]))"
   ]
  },
  {
   "cell_type": "code",
   "execution_count": 61,
   "id": "34583eb6",
   "metadata": {},
   "outputs": [
    {
     "data": {
      "text/plain": [
       "array([1, 1, 0, 0, 0, 1, 0, 0, 1, 0, 1, 0, 0, 1, 1, 1, 1, 1, 0, 0, 0, 1,\n",
       "       1, 0, 0, 0, 1, 0, 1, 1, 1, 0, 0, 1, 1, 0, 1, 0, 1, 0, 1, 1, 1, 0,\n",
       "       1, 0, 0, 1, 1, 0, 0, 1, 0, 1, 1, 0, 0, 1, 1, 0, 0, 1, 0, 1, 0, 1,\n",
       "       0, 0, 0, 0, 1, 1, 1, 1, 1, 0, 1, 1, 1, 1, 1, 0, 1, 0, 0, 1, 1, 1,\n",
       "       1, 1, 1, 1, 0, 0, 1, 0, 0, 0, 1, 1, 0, 0, 1])"
      ]
     },
     "execution_count": 61,
     "metadata": {},
     "output_type": "execute_result"
    }
   ],
   "source": [
    "gbc_train_predict = gbc.predict(X_train)\n",
    "gbc_train_predict"
   ]
  },
  {
   "cell_type": "code",
   "execution_count": 62,
   "id": "1a0182ed",
   "metadata": {},
   "outputs": [
    {
     "name": "stdout",
     "output_type": "stream",
     "text": [
      "train accuracy:  0.8543689320388349\n",
      "test accuracy:  0.6078431372549019\n"
     ]
    }
   ],
   "source": [
    "print('train accuracy: ', accuracy_score(y_train, gbc_train_predict, normalize=True))\n",
    "print('test accuracy: ', accuracy_score(y_test, gbc_pred_test, normalize=True))"
   ]
  },
  {
   "cell_type": "code",
   "execution_count": 63,
   "id": "2b1b71bc",
   "metadata": {},
   "outputs": [
    {
     "name": "stdout",
     "output_type": "stream",
     "text": [
      "test mean_squared_error:  0.39215686274509803\n",
      "test mean_absolute_error:  0.39215686274509803\n"
     ]
    }
   ],
   "source": [
    "print('test mean_squared_error: ', mean_squared_error(y_test, gbc_pred_test))\n",
    "print('test mean_absolute_error: ', mean_absolute_error(y_test, gbc_pred_test))"
   ]
  },
  {
   "cell_type": "code",
   "execution_count": 64,
   "id": "8b522215",
   "metadata": {},
   "outputs": [
    {
     "name": "stdout",
     "output_type": "stream",
     "text": [
      "0.5\n",
      "0.6\n",
      "0.5454545454545454\n"
     ]
    }
   ],
   "source": [
    "gbc_fscore = f1_score(y_test, gbc_pred_test)\n",
    "gbc_precision = precision_score(y_test, gbc_pred_test)\n",
    "\n",
    "print(precision_score(y_test, gbc_pred_test))\n",
    "print(recall_score(y_test, gbc_pred_test))\n",
    "print(f1_score(y_test, gbc_pred_test))"
   ]
  },
  {
   "cell_type": "code",
   "execution_count": 65,
   "id": "0b7b389d",
   "metadata": {},
   "outputs": [
    {
     "name": "stdout",
     "output_type": "stream",
     "text": [
      "              precision    recall  f1-score   support\n",
      "\n",
      "           0       0.70      0.61      0.66        31\n",
      "           1       0.50      0.60      0.55        20\n",
      "\n",
      "    accuracy                           0.61        51\n",
      "   macro avg       0.60      0.61      0.60        51\n",
      "weighted avg       0.62      0.61      0.61        51\n",
      "\n"
     ]
    }
   ],
   "source": [
    "print(classification_report(y_test, gbc_pred_test))"
   ]
  },
  {
   "cell_type": "code",
   "execution_count": 66,
   "id": "881a571a",
   "metadata": {},
   "outputs": [
    {
     "data": {
      "image/png": "[encoded data removed]",
      "text/plain": [
       "<Figure size 640x480 with 2 Axes>"
      ]
     },
     "metadata": {},
     "output_type": "display_data"
    }
   ],
   "source": [
    "cm = confusion_matrix(y_test, gbc_pred_test)\n",
    "\n",
    "sns.heatmap(cm, annot=True, fmt='d', cmap='Reds')\n",
    "plt.title('Confusion Matrix')\n",
    "plt.xlabel('Predicted Label')\n",
    "plt.ylabel('True Label')\n",
    "plt.show()"
   ]
  },
  {
   "cell_type": "code",
   "execution_count": 67,
   "id": "0c2b7332",
   "metadata": {},
   "outputs": [
    {
     "data": {
      "text/plain": [
       "0.6078431372549019"
      ]
     },
     "execution_count": 67,
     "metadata": {},
     "output_type": "execute_result"
    }
   ],
   "source": [
    "gbc_accuracy = accuracy_score(y_test, gbc_pred_test)\n",
    "gbc_accuracy"
   ]
  },
  {
   "cell_type": "code",
   "execution_count": 68,
   "id": "8184f341",
   "metadata": {},
   "outputs": [
    {
     "data": {
      "text/plain": [
       "0.6064516129032258"
      ]
     },
     "execution_count": 68,
     "metadata": {},
     "output_type": "execute_result"
    }
   ],
   "source": [
    "roc_auc_score(y_test, gbc_pred_test)"
   ]
  },
  {
   "cell_type": "code",
   "execution_count": 69,
   "id": "0d7befbd",
   "metadata": {},
   "outputs": [
    {
     "data": {
      "image/png": "[encoded data removed]",
      "text/plain": [
       "<Figure size 600x400 with 1 Axes>"
      ]
     },
     "metadata": {},
     "output_type": "display_data"
    }
   ],
   "source": [
    "sns.set(font_scale=1)\n",
    "sns.set_color_codes(\"muted\")\n",
    "\n",
    "plt.figure(figsize=(6, 4))\n",
    "fpr, tpr, thresholds = roc_curve(y_test, gbc_pred_test, pos_label=1)\n",
    "lw = 2\n",
    "plt.plot(fpr, tpr, lw=lw, label='ROC curve ')\n",
    "plt.plot([0, 1], [0, 1])\n",
    "plt.xlim([0.0, 1.0])\n",
    "plt.ylim([0.0, 1.05])\n",
    "plt.xlabel('False Positive Rate')\n",
    "plt.ylabel('True Positive Rate')\n",
    "plt.title('ROC curve')\n",
    "plt.savefig(\"ROC.png\")\n",
    "plt.show()"
   ]
  },
  {
   "cell_type": "code",
   "execution_count": null,
   "id": "a0193b2b",
   "metadata": {},
   "outputs": [],
   "source": []
  },
  {
   "cell_type": "markdown",
   "id": "3d99da96",
   "metadata": {},
   "source": [
    "### Метрики"
   ]
  },
  {
   "cell_type": "code",
   "execution_count": 70,
   "id": "1cbf7e7c",
   "metadata": {},
   "outputs": [],
   "source": [
    "classifiers =[\"KNeighborsClassifier\",  \"Random Forest Classifier\", \"GradientBoostingClassifier\"]\n",
    "\n",
    "log_cols = [\"Classifier\", \"Accuracy\",\"Precision\",\"F1-score\"]\n",
    "log = pd.DataFrame(columns=log_cols)\n",
    "\n",
    "log[\"Classifier\"] = classifiers\n",
    "log[\"Accuracy\"] = [knn_accuracy, rfc_accuracy, gbc_accuracy]\n",
    "log[\"Precision\"] = [knn_precision, rfc_precision, gbc_precision]\n",
    "log[\"F1-score\"] = [knn_fscore, rfc_fscore, gbc_fscore]\n"
   ]
  },
  {
   "cell_type": "code",
   "execution_count": 71,
   "id": "fd336787",
   "metadata": {},
   "outputs": [
    {
     "data": {
      "text/html": [
       "<div>\n",
       "<style scoped>\n",
       "    .dataframe tbody tr th:only-of-type {\n",
       "        vertical-align: middle;\n",
       "    }\n",
       "\n",
       "    .dataframe tbody tr th {\n",
       "        vertical-align: top;\n",
       "    }\n",
       "\n",
       "    .dataframe thead th {\n",
       "        text-align: right;\n",
       "    }\n",
       "</style>\n",
       "<table border=\"1\" class=\"dataframe\">\n",
       "  <thead>\n",
       "    <tr style=\"text-align: right;\">\n",
       "      <th></th>\n",
       "      <th>Classifier</th>\n",
       "      <th>Accuracy</th>\n",
       "      <th>Precision</th>\n",
       "      <th>F1-score</th>\n",
       "    </tr>\n",
       "  </thead>\n",
       "  <tbody>\n",
       "    <tr>\n",
       "      <th>0</th>\n",
       "      <td>KNeighborsClassifier</td>\n",
       "      <td>0.568627</td>\n",
       "      <td>0.464286</td>\n",
       "      <td>0.541667</td>\n",
       "    </tr>\n",
       "    <tr>\n",
       "      <th>1</th>\n",
       "      <td>Random Forest Classifier</td>\n",
       "      <td>0.588235</td>\n",
       "      <td>0.478261</td>\n",
       "      <td>0.511628</td>\n",
       "    </tr>\n",
       "    <tr>\n",
       "      <th>2</th>\n",
       "      <td>GradientBoostingClassifier</td>\n",
       "      <td>0.607843</td>\n",
       "      <td>0.500000</td>\n",
       "      <td>0.545455</td>\n",
       "    </tr>\n",
       "  </tbody>\n",
       "</table>\n",
       "</div>"
      ],
      "text/plain": [
       "                   Classifier  Accuracy  Precision  F1-score\n",
       "0        KNeighborsClassifier  0.568627   0.464286  0.541667\n",
       "1    Random Forest Classifier  0.588235   0.478261  0.511628\n",
       "2  GradientBoostingClassifier  0.607843   0.500000  0.545455"
      ]
     },
     "execution_count": 71,
     "metadata": {},
     "output_type": "execute_result"
    }
   ],
   "source": [
    "log"
   ]
  },
  {
   "cell_type": "code",
   "execution_count": 72,
   "id": "a00e89d1",
   "metadata": {},
   "outputs": [
    {
     "data": {
      "image/png": "[encoded data removed]",
      "text/plain": [
       "<Figure size 640x480 with 1 Axes>"
      ]
     },
     "metadata": {},
     "output_type": "display_data"
    }
   ],
   "source": [
    "plt.xlabel('Accuracy')\n",
    "plt.title('Classifier Accuracy')\n",
    "\n",
    "sns.set_color_codes(\"muted\")\n",
    "sns.barplot(x='Accuracy', y='Classifier', data=log.sort_values(by='Accuracy'), color=\"b\");"
   ]
  },
  {
   "cell_type": "markdown",
   "id": "58252bff",
   "metadata": {},
   "source": [
    "Модель SVC показывает лучшие результаты по всем метрикам: точность (accuracy), precision, recall и f1-score. Поэтому можно сделать вывод, что SVC является лучшей среди представленных.\n",
    "\n"
   ]
  },
  {
   "cell_type": "markdown",
   "id": "033e8bf7",
   "metadata": {},
   "source": [
    "## Улучшение"
   ]
  },
  {
   "cell_type": "code",
   "execution_count": 73,
   "id": "3ebeeb29",
   "metadata": {},
   "outputs": [
    {
     "name": "stdout",
     "output_type": "stream",
     "text": [
      "              precision    recall  f1-score   support\n",
      "\n",
      "           0       0.70      0.61      0.66        31\n",
      "           1       0.50      0.60      0.55        20\n",
      "\n",
      "    accuracy                           0.61        51\n",
      "   macro avg       0.60      0.61      0.60        51\n",
      "weighted avg       0.62      0.61      0.61        51\n",
      "\n"
     ]
    }
   ],
   "source": [
    "\n",
    "print(classification_report(y_test,gbc_pred_test))"
   ]
  },
  {
   "cell_type": "code",
   "execution_count": 74,
   "id": "0f65a60b",
   "metadata": {},
   "outputs": [],
   "source": [
    "from sklearn.model_selection import GridSearchCV"
   ]
  },
  {
   "cell_type": "code",
   "execution_count": 75,
   "id": "c5faea3b",
   "metadata": {},
   "outputs": [
    {
     "name": "stdout",
     "output_type": "stream",
     "text": [
      "Fitting 5 folds for each of 256 candidates, totalling 1280 fits\n",
      "[CV 1/5] END learning_rate=0.01, max_depth=2, min_samples_leaf=1, n_estimators=100;, score=0.286 total time=   0.0s\n",
      "[CV 2/5] END learning_rate=0.01, max_depth=2, min_samples_leaf=1, n_estimators=100;, score=0.524 total time=   0.0s\n",
      "[CV 3/5] END learning_rate=0.01, max_depth=2, min_samples_leaf=1, n_estimators=100;, score=0.333 total time=   0.0s\n",
      "[CV 4/5] END learning_rate=0.01, max_depth=2, min_samples_leaf=1, n_estimators=100;, score=0.600 total time=   0.0s\n",
      "[CV 5/5] END learning_rate=0.01, max_depth=2, min_samples_leaf=1, n_estimators=100;, score=0.350 total time=   0.0s\n",
      "[CV 1/5] END learning_rate=0.01, max_depth=2, min_samples_leaf=1, n_estimators=200;, score=0.286 total time=   0.0s\n",
      "[CV 2/5] END learning_rate=0.01, max_depth=2, min_samples_leaf=1, n_estimators=200;, score=0.476 total time=   0.0s\n",
      "[CV 3/5] END learning_rate=0.01, max_depth=2, min_samples_leaf=1, n_estimators=200;, score=0.381 total time=   0.0s\n",
      "[CV 4/5] END learning_rate=0.01, max_depth=2, min_samples_leaf=1, n_estimators=200;, score=0.550 total time=   0.0s\n",
      "[CV 5/5] END learning_rate=0.01, max_depth=2, min_samples_leaf=1, n_estimators=200;, score=0.350 total time=   0.0s\n",
      "[CV 1/5] END learning_rate=0.01, max_depth=2, min_samples_leaf=1, n_estimators=300;, score=0.238 total time=   0.0s\n",
      "[CV 2/5] END learning_rate=0.01, max_depth=2, min_samples_leaf=1, n_estimators=300;, score=0.571 total time=   0.0s\n",
      "[CV 3/5] END learning_rate=0.01, max_depth=2, min_samples_leaf=1, n_estimators=300;, score=0.476 total time=   0.0s\n",
      "[CV 4/5] END learning_rate=0.01, max_depth=2, min_samples_leaf=1, n_estimators=300;, score=0.550 total time=   0.0s\n",
      "[CV 5/5] END learning_rate=0.01, max_depth=2, min_samples_leaf=1, n_estimators=300;, score=0.350 total time=   0.0s\n",
      "[CV 1/5] END learning_rate=0.01, max_depth=2, min_samples_leaf=1, n_estimators=400;, score=0.238 total time=   0.0s\n",
      "[CV 2/5] END learning_rate=0.01, max_depth=2, min_samples_leaf=1, n_estimators=400;, score=0.619 total time=   0.0s\n",
      "[CV 3/5] END learning_rate=0.01, max_depth=2, min_samples_leaf=1, n_estimators=400;, score=0.476 total time=   0.0s\n",
      "[CV 4/5] END learning_rate=0.01, max_depth=2, min_samples_leaf=1, n_estimators=400;, score=0.500 total time=   0.0s\n",
      "[CV 5/5] END learning_rate=0.01, max_depth=2, min_samples_leaf=1, n_estimators=400;, score=0.450 total time=   0.0s\n",
      "[CV 1/5] END learning_rate=0.01, max_depth=2, min_samples_leaf=2, n_estimators=100;, score=0.286 total time=   0.0s\n",
      "[CV 2/5] END learning_rate=0.01, max_depth=2, min_samples_leaf=2, n_estimators=100;, score=0.524 total time=   0.0s\n",
      "[CV 3/5] END learning_rate=0.01, max_depth=2, min_samples_leaf=2, n_estimators=100;, score=0.381 total time=   0.0s\n",
      "[CV 4/5] END learning_rate=0.01, max_depth=2, min_samples_leaf=2, n_estimators=100;, score=0.600 total time=   0.0s\n",
      "[CV 5/5] END learning_rate=0.01, max_depth=2, min_samples_leaf=2, n_estimators=100;, score=0.350 total time=   0.0s\n",
      "[CV 1/5] END learning_rate=0.01, max_depth=2, min_samples_leaf=2, n_estimators=200;, score=0.286 total time=   0.0s\n",
      "[CV 2/5] END learning_rate=0.01, max_depth=2, min_samples_leaf=2, n_estimators=200;, score=0.476 total time=   0.0s\n",
      "[CV 3/5] END learning_rate=0.01, max_depth=2, min_samples_leaf=2, n_estimators=200;, score=0.333 total time=   0.0s\n",
      "[CV 4/5] END learning_rate=0.01, max_depth=2, min_samples_leaf=2, n_estimators=200;, score=0.550 total time=   0.0s\n",
      "[CV 5/5] END learning_rate=0.01, max_depth=2, min_samples_leaf=2, n_estimators=200;, score=0.350 total time=   0.0s\n",
      "[CV 1/5] END learning_rate=0.01, max_depth=2, min_samples_leaf=2, n_estimators=300;, score=0.286 total time=   0.0s\n",
      "[CV 2/5] END learning_rate=0.01, max_depth=2, min_samples_leaf=2, n_estimators=300;, score=0.571 total time=   0.0s\n",
      "[CV 3/5] END learning_rate=0.01, max_depth=2, min_samples_leaf=2, n_estimators=300;, score=0.381 total time=   0.0s\n",
      "[CV 4/5] END learning_rate=0.01, max_depth=2, min_samples_leaf=2, n_estimators=300;, score=0.550 total time=   0.1s\n",
      "[CV 5/5] END learning_rate=0.01, max_depth=2, min_samples_leaf=2, n_estimators=300;, score=0.350 total time=   0.0s\n",
      "[CV 1/5] END learning_rate=0.01, max_depth=2, min_samples_leaf=2, n_estimators=400;, score=0.286 total time=   0.0s\n",
      "[CV 2/5] END learning_rate=0.01, max_depth=2, min_samples_leaf=2, n_estimators=400;, score=0.571 total time=   0.1s\n",
      "[CV 3/5] END learning_rate=0.01, max_depth=2, min_samples_leaf=2, n_estimators=400;, score=0.381 total time=   0.0s\n",
      "[CV 4/5] END learning_rate=0.01, max_depth=2, min_samples_leaf=2, n_estimators=400;, score=0.500 total time=   0.0s\n",
      "[CV 5/5] END learning_rate=0.01, max_depth=2, min_samples_leaf=2, n_estimators=400;, score=0.450 total time=   0.0s\n",
      "[CV 1/5] END learning_rate=0.01, max_depth=2, min_samples_leaf=3, n_estimators=100;, score=0.286 total time=   0.0s\n",
      "[CV 2/5] END learning_rate=0.01, max_depth=2, min_samples_leaf=3, n_estimators=100;, score=0.524 total time=   0.0s\n",
      "[CV 3/5] END learning_rate=0.01, max_depth=2, min_samples_leaf=3, n_estimators=100;, score=0.429 total time=   0.0s\n",
      "[CV 4/5] END learning_rate=0.01, max_depth=2, min_samples_leaf=3, n_estimators=100;, score=0.600 total time=   0.0s\n",
      "[CV 5/5] END learning_rate=0.01, max_depth=2, min_samples_leaf=3, n_estimators=100;, score=0.350 total time=   0.0s\n",
      "[CV 1/5] END learning_rate=0.01, max_depth=2, min_samples_leaf=3, n_estimators=200;, score=0.286 total time=   0.0s\n",
      "[CV 2/5] END learning_rate=0.01, max_depth=2, min_samples_leaf=3, n_estimators=200;, score=0.476 total time=   0.0s\n",
      "[CV 3/5] END learning_rate=0.01, max_depth=2, min_samples_leaf=3, n_estimators=200;, score=0.381 total time=   0.0s\n",
      "[CV 4/5] END learning_rate=0.01, max_depth=2, min_samples_leaf=3, n_estimators=200;, score=0.550 total time=   0.0s\n",
      "[CV 5/5] END learning_rate=0.01, max_depth=2, min_samples_leaf=3, n_estimators=200;, score=0.350 total time=   0.0s\n",
      "[CV 1/5] END learning_rate=0.01, max_depth=2, min_samples_leaf=3, n_estimators=300;, score=0.286 total time=   0.0s\n",
      "[CV 2/5] END learning_rate=0.01, max_depth=2, min_samples_leaf=3, n_estimators=300;, score=0.571 total time=   0.0s\n",
      "[CV 3/5] END learning_rate=0.01, max_depth=2, min_samples_leaf=3, n_estimators=300;, score=0.333 total time=   0.0s\n",
      "[CV 4/5] END learning_rate=0.01, max_depth=2, min_samples_leaf=3, n_estimators=300;, score=0.550 total time=   0.1s\n",
      "[CV 5/5] END learning_rate=0.01, max_depth=2, min_samples_leaf=3, n_estimators=300;, score=0.350 total time=   0.0s\n",
      "[CV 1/5] END learning_rate=0.01, max_depth=2, min_samples_leaf=3, n_estimators=400;, score=0.286 total time=   0.0s\n",
      "[CV 2/5] END learning_rate=0.01, max_depth=2, min_samples_leaf=3, n_estimators=400;, score=0.571 total time=   0.0s\n",
      "[CV 3/5] END learning_rate=0.01, max_depth=2, min_samples_leaf=3, n_estimators=400;, score=0.286 total time=   0.0s\n",
      "[CV 4/5] END learning_rate=0.01, max_depth=2, min_samples_leaf=3, n_estimators=400;, score=0.600 total time=   0.0s\n",
      "[CV 5/5] END learning_rate=0.01, max_depth=2, min_samples_leaf=3, n_estimators=400;, score=0.450 total time=   0.0s\n",
      "[CV 1/5] END learning_rate=0.01, max_depth=2, min_samples_leaf=4, n_estimators=100;, score=0.286 total time=   0.0s\n",
      "[CV 2/5] END learning_rate=0.01, max_depth=2, min_samples_leaf=4, n_estimators=100;, score=0.524 total time=   0.0s\n",
      "[CV 3/5] END learning_rate=0.01, max_depth=2, min_samples_leaf=4, n_estimators=100;, score=0.429 total time=   0.0s\n",
      "[CV 4/5] END learning_rate=0.01, max_depth=2, min_samples_leaf=4, n_estimators=100;, score=0.600 total time=   0.0s\n",
      "[CV 5/5] END learning_rate=0.01, max_depth=2, min_samples_leaf=4, n_estimators=100;, score=0.400 total time=   0.0s\n",
      "[CV 1/5] END learning_rate=0.01, max_depth=2, min_samples_leaf=4, n_estimators=200;, score=0.286 total time=   0.0s\n",
      "[CV 2/5] END learning_rate=0.01, max_depth=2, min_samples_leaf=4, n_estimators=200;, score=0.476 total time=   0.0s\n",
      "[CV 3/5] END learning_rate=0.01, max_depth=2, min_samples_leaf=4, n_estimators=200;, score=0.429 total time=   0.0s\n",
      "[CV 4/5] END learning_rate=0.01, max_depth=2, min_samples_leaf=4, n_estimators=200;, score=0.600 total time=   0.0s\n",
      "[CV 5/5] END learning_rate=0.01, max_depth=2, min_samples_leaf=4, n_estimators=200;, score=0.350 total time=   0.0s\n",
      "[CV 1/5] END learning_rate=0.01, max_depth=2, min_samples_leaf=4, n_estimators=300;, score=0.286 total time=   0.0s\n",
      "[CV 2/5] END learning_rate=0.01, max_depth=2, min_samples_leaf=4, n_estimators=300;, score=0.476 total time=   0.0s\n"
     ]
    },
    {
     "name": "stdout",
     "output_type": "stream",
     "text": [
      "[CV 3/5] END learning_rate=0.01, max_depth=2, min_samples_leaf=4, n_estimators=300;, score=0.381 total time=   0.0s\n",
      "[CV 4/5] END learning_rate=0.01, max_depth=2, min_samples_leaf=4, n_estimators=300;, score=0.550 total time=   0.0s\n",
      "[CV 5/5] END learning_rate=0.01, max_depth=2, min_samples_leaf=4, n_estimators=300;, score=0.350 total time=   0.0s\n",
      "[CV 1/5] END learning_rate=0.01, max_depth=2, min_samples_leaf=4, n_estimators=400;, score=0.286 total time=   0.0s\n",
      "[CV 2/5] END learning_rate=0.01, max_depth=2, min_samples_leaf=4, n_estimators=400;, score=0.571 total time=   0.0s\n",
      "[CV 3/5] END learning_rate=0.01, max_depth=2, min_samples_leaf=4, n_estimators=400;, score=0.381 total time=   0.0s\n",
      "[CV 4/5] END learning_rate=0.01, max_depth=2, min_samples_leaf=4, n_estimators=400;, score=0.550 total time=   0.0s\n",
      "[CV 5/5] END learning_rate=0.01, max_depth=2, min_samples_leaf=4, n_estimators=400;, score=0.400 total time=   0.0s\n",
      "[CV 1/5] END learning_rate=0.01, max_depth=3, min_samples_leaf=1, n_estimators=100;, score=0.333 total time=   0.0s\n",
      "[CV 2/5] END learning_rate=0.01, max_depth=3, min_samples_leaf=1, n_estimators=100;, score=0.524 total time=   0.0s\n",
      "[CV 3/5] END learning_rate=0.01, max_depth=3, min_samples_leaf=1, n_estimators=100;, score=0.286 total time=   0.0s\n",
      "[CV 4/5] END learning_rate=0.01, max_depth=3, min_samples_leaf=1, n_estimators=100;, score=0.500 total time=   0.0s\n",
      "[CV 5/5] END learning_rate=0.01, max_depth=3, min_samples_leaf=1, n_estimators=100;, score=0.450 total time=   0.0s\n",
      "[CV 1/5] END learning_rate=0.01, max_depth=3, min_samples_leaf=1, n_estimators=200;, score=0.286 total time=   0.0s\n",
      "[CV 2/5] END learning_rate=0.01, max_depth=3, min_samples_leaf=1, n_estimators=200;, score=0.524 total time=   0.0s\n",
      "[CV 3/5] END learning_rate=0.01, max_depth=3, min_samples_leaf=1, n_estimators=200;, score=0.286 total time=   0.0s\n",
      "[CV 4/5] END learning_rate=0.01, max_depth=3, min_samples_leaf=1, n_estimators=200;, score=0.550 total time=   0.0s\n",
      "[CV 5/5] END learning_rate=0.01, max_depth=3, min_samples_leaf=1, n_estimators=200;, score=0.450 total time=   0.0s\n",
      "[CV 1/5] END learning_rate=0.01, max_depth=3, min_samples_leaf=1, n_estimators=300;, score=0.286 total time=   0.0s\n",
      "[CV 2/5] END learning_rate=0.01, max_depth=3, min_samples_leaf=1, n_estimators=300;, score=0.524 total time=   0.0s\n",
      "[CV 3/5] END learning_rate=0.01, max_depth=3, min_samples_leaf=1, n_estimators=300;, score=0.286 total time=   0.0s\n",
      "[CV 4/5] END learning_rate=0.01, max_depth=3, min_samples_leaf=1, n_estimators=300;, score=0.550 total time=   0.0s\n",
      "[CV 5/5] END learning_rate=0.01, max_depth=3, min_samples_leaf=1, n_estimators=300;, score=0.450 total time=   0.1s\n",
      "[CV 1/5] END learning_rate=0.01, max_depth=3, min_samples_leaf=1, n_estimators=400;, score=0.286 total time=   0.0s\n",
      "[CV 2/5] END learning_rate=0.01, max_depth=3, min_samples_leaf=1, n_estimators=400;, score=0.524 total time=   0.0s\n",
      "[CV 3/5] END learning_rate=0.01, max_depth=3, min_samples_leaf=1, n_estimators=400;, score=0.286 total time=   0.1s\n",
      "[CV 4/5] END learning_rate=0.01, max_depth=3, min_samples_leaf=1, n_estimators=400;, score=0.550 total time=   0.1s\n",
      "[CV 5/5] END learning_rate=0.01, max_depth=3, min_samples_leaf=1, n_estimators=400;, score=0.550 total time=   0.1s\n",
      "[CV 1/5] END learning_rate=0.01, max_depth=3, min_samples_leaf=2, n_estimators=100;, score=0.333 total time=   0.0s\n",
      "[CV 2/5] END learning_rate=0.01, max_depth=3, min_samples_leaf=2, n_estimators=100;, score=0.524 total time=   0.0s\n",
      "[CV 3/5] END learning_rate=0.01, max_depth=3, min_samples_leaf=2, n_estimators=100;, score=0.286 total time=   0.0s\n",
      "[CV 4/5] END learning_rate=0.01, max_depth=3, min_samples_leaf=2, n_estimators=100;, score=0.500 total time=   0.0s\n",
      "[CV 5/5] END learning_rate=0.01, max_depth=3, min_samples_leaf=2, n_estimators=100;, score=0.450 total time=   0.0s\n",
      "[CV 1/5] END learning_rate=0.01, max_depth=3, min_samples_leaf=2, n_estimators=200;, score=0.286 total time=   0.0s\n",
      "[CV 2/5] END learning_rate=0.01, max_depth=3, min_samples_leaf=2, n_estimators=200;, score=0.476 total time=   0.0s\n",
      "[CV 3/5] END learning_rate=0.01, max_depth=3, min_samples_leaf=2, n_estimators=200;, score=0.286 total time=   0.0s\n",
      "[CV 4/5] END learning_rate=0.01, max_depth=3, min_samples_leaf=2, n_estimators=200;, score=0.500 total time=   0.0s\n",
      "[CV 5/5] END learning_rate=0.01, max_depth=3, min_samples_leaf=2, n_estimators=200;, score=0.500 total time=   0.0s\n",
      "[CV 1/5] END learning_rate=0.01, max_depth=3, min_samples_leaf=2, n_estimators=300;, score=0.286 total time=   0.0s\n",
      "[CV 2/5] END learning_rate=0.01, max_depth=3, min_samples_leaf=2, n_estimators=300;, score=0.476 total time=   0.1s\n",
      "[CV 3/5] END learning_rate=0.01, max_depth=3, min_samples_leaf=2, n_estimators=300;, score=0.286 total time=   0.1s\n",
      "[CV 4/5] END learning_rate=0.01, max_depth=3, min_samples_leaf=2, n_estimators=300;, score=0.500 total time=   0.0s\n",
      "[CV 5/5] END learning_rate=0.01, max_depth=3, min_samples_leaf=2, n_estimators=300;, score=0.450 total time=   0.1s\n",
      "[CV 1/5] END learning_rate=0.01, max_depth=3, min_samples_leaf=2, n_estimators=400;, score=0.286 total time=   0.1s\n",
      "[CV 2/5] END learning_rate=0.01, max_depth=3, min_samples_leaf=2, n_estimators=400;, score=0.476 total time=   0.1s\n",
      "[CV 3/5] END learning_rate=0.01, max_depth=3, min_samples_leaf=2, n_estimators=400;, score=0.286 total time=   0.1s\n",
      "[CV 4/5] END learning_rate=0.01, max_depth=3, min_samples_leaf=2, n_estimators=400;, score=0.400 total time=   0.1s\n",
      "[CV 5/5] END learning_rate=0.01, max_depth=3, min_samples_leaf=2, n_estimators=400;, score=0.550 total time=   0.1s\n",
      "[CV 1/5] END learning_rate=0.01, max_depth=3, min_samples_leaf=3, n_estimators=100;, score=0.333 total time=   0.0s\n",
      "[CV 2/5] END learning_rate=0.01, max_depth=3, min_samples_leaf=3, n_estimators=100;, score=0.476 total time=   0.0s\n",
      "[CV 3/5] END learning_rate=0.01, max_depth=3, min_samples_leaf=3, n_estimators=100;, score=0.286 total time=   0.0s\n",
      "[CV 4/5] END learning_rate=0.01, max_depth=3, min_samples_leaf=3, n_estimators=100;, score=0.600 total time=   0.0s\n",
      "[CV 5/5] END learning_rate=0.01, max_depth=3, min_samples_leaf=3, n_estimators=100;, score=0.450 total time=   0.0s\n",
      "[CV 1/5] END learning_rate=0.01, max_depth=3, min_samples_leaf=3, n_estimators=200;, score=0.286 total time=   0.1s\n",
      "[CV 2/5] END learning_rate=0.01, max_depth=3, min_samples_leaf=3, n_estimators=200;, score=0.476 total time=   0.0s\n",
      "[CV 3/5] END learning_rate=0.01, max_depth=3, min_samples_leaf=3, n_estimators=200;, score=0.286 total time=   0.0s\n",
      "[CV 4/5] END learning_rate=0.01, max_depth=3, min_samples_leaf=3, n_estimators=200;, score=0.550 total time=   0.0s\n",
      "[CV 5/5] END learning_rate=0.01, max_depth=3, min_samples_leaf=3, n_estimators=200;, score=0.500 total time=   0.0s\n",
      "[CV 1/5] END learning_rate=0.01, max_depth=3, min_samples_leaf=3, n_estimators=300;, score=0.286 total time=   0.0s\n",
      "[CV 2/5] END learning_rate=0.01, max_depth=3, min_samples_leaf=3, n_estimators=300;, score=0.476 total time=   0.0s\n",
      "[CV 3/5] END learning_rate=0.01, max_depth=3, min_samples_leaf=3, n_estimators=300;, score=0.286 total time=   0.0s\n",
      "[CV 4/5] END learning_rate=0.01, max_depth=3, min_samples_leaf=3, n_estimators=300;, score=0.550 total time=   0.0s\n",
      "[CV 5/5] END learning_rate=0.01, max_depth=3, min_samples_leaf=3, n_estimators=300;, score=0.500 total time=   0.1s\n",
      "[CV 1/5] END learning_rate=0.01, max_depth=3, min_samples_leaf=3, n_estimators=400;, score=0.286 total time=   0.2s\n",
      "[CV 2/5] END learning_rate=0.01, max_depth=3, min_samples_leaf=3, n_estimators=400;, score=0.476 total time=   0.1s\n",
      "[CV 3/5] END learning_rate=0.01, max_depth=3, min_samples_leaf=3, n_estimators=400;, score=0.333 total time=   0.0s\n",
      "[CV 4/5] END learning_rate=0.01, max_depth=3, min_samples_leaf=3, n_estimators=400;, score=0.500 total time=   0.0s\n",
      "[CV 5/5] END learning_rate=0.01, max_depth=3, min_samples_leaf=3, n_estimators=400;, score=0.550 total time=   0.0s\n",
      "[CV 1/5] END learning_rate=0.01, max_depth=3, min_samples_leaf=4, n_estimators=100;, score=0.333 total time=   0.0s\n",
      "[CV 2/5] END learning_rate=0.01, max_depth=3, min_samples_leaf=4, n_estimators=100;, score=0.476 total time=   0.0s\n",
      "[CV 3/5] END learning_rate=0.01, max_depth=3, min_samples_leaf=4, n_estimators=100;, score=0.333 total time=   0.0s\n",
      "[CV 4/5] END learning_rate=0.01, max_depth=3, min_samples_leaf=4, n_estimators=100;, score=0.600 total time=   0.0s\n",
      "[CV 5/5] END learning_rate=0.01, max_depth=3, min_samples_leaf=4, n_estimators=100;, score=0.400 total time=   0.0s\n",
      "[CV 1/5] END learning_rate=0.01, max_depth=3, min_samples_leaf=4, n_estimators=200;, score=0.286 total time=   0.0s\n"
     ]
    },
    {
     "name": "stdout",
     "output_type": "stream",
     "text": [
      "[CV 2/5] END learning_rate=0.01, max_depth=3, min_samples_leaf=4, n_estimators=200;, score=0.429 total time=   0.0s\n",
      "[CV 3/5] END learning_rate=0.01, max_depth=3, min_samples_leaf=4, n_estimators=200;, score=0.333 total time=   0.0s\n",
      "[CV 4/5] END learning_rate=0.01, max_depth=3, min_samples_leaf=4, n_estimators=200;, score=0.500 total time=   0.0s\n",
      "[CV 5/5] END learning_rate=0.01, max_depth=3, min_samples_leaf=4, n_estimators=200;, score=0.400 total time=   0.0s\n",
      "[CV 1/5] END learning_rate=0.01, max_depth=3, min_samples_leaf=4, n_estimators=300;, score=0.333 total time=   0.0s\n",
      "[CV 2/5] END learning_rate=0.01, max_depth=3, min_samples_leaf=4, n_estimators=300;, score=0.429 total time=   0.0s\n",
      "[CV 3/5] END learning_rate=0.01, max_depth=3, min_samples_leaf=4, n_estimators=300;, score=0.381 total time=   0.0s\n",
      "[CV 4/5] END learning_rate=0.01, max_depth=3, min_samples_leaf=4, n_estimators=300;, score=0.500 total time=   0.0s\n",
      "[CV 5/5] END learning_rate=0.01, max_depth=3, min_samples_leaf=4, n_estimators=300;, score=0.450 total time=   0.0s\n",
      "[CV 1/5] END learning_rate=0.01, max_depth=3, min_samples_leaf=4, n_estimators=400;, score=0.333 total time=   0.1s\n",
      "[CV 2/5] END learning_rate=0.01, max_depth=3, min_samples_leaf=4, n_estimators=400;, score=0.429 total time=   0.1s\n",
      "[CV 3/5] END learning_rate=0.01, max_depth=3, min_samples_leaf=4, n_estimators=400;, score=0.429 total time=   0.0s\n",
      "[CV 4/5] END learning_rate=0.01, max_depth=3, min_samples_leaf=4, n_estimators=400;, score=0.500 total time=   0.0s\n",
      "[CV 5/5] END learning_rate=0.01, max_depth=3, min_samples_leaf=4, n_estimators=400;, score=0.450 total time=   0.1s\n",
      "[CV 1/5] END learning_rate=0.01, max_depth=4, min_samples_leaf=1, n_estimators=100;, score=0.286 total time=   0.0s\n",
      "[CV 2/5] END learning_rate=0.01, max_depth=4, min_samples_leaf=1, n_estimators=100;, score=0.333 total time=   0.0s\n",
      "[CV 3/5] END learning_rate=0.01, max_depth=4, min_samples_leaf=1, n_estimators=100;, score=0.286 total time=   0.0s\n",
      "[CV 4/5] END learning_rate=0.01, max_depth=4, min_samples_leaf=1, n_estimators=100;, score=0.600 total time=   0.0s\n",
      "[CV 5/5] END learning_rate=0.01, max_depth=4, min_samples_leaf=1, n_estimators=100;, score=0.500 total time=   0.0s\n",
      "[CV 1/5] END learning_rate=0.01, max_depth=4, min_samples_leaf=1, n_estimators=200;, score=0.286 total time=   0.0s\n",
      "[CV 2/5] END learning_rate=0.01, max_depth=4, min_samples_leaf=1, n_estimators=200;, score=0.429 total time=   0.1s\n",
      "[CV 3/5] END learning_rate=0.01, max_depth=4, min_samples_leaf=1, n_estimators=200;, score=0.238 total time=   0.0s\n",
      "[CV 4/5] END learning_rate=0.01, max_depth=4, min_samples_leaf=1, n_estimators=200;, score=0.500 total time=   0.0s\n",
      "[CV 5/5] END learning_rate=0.01, max_depth=4, min_samples_leaf=1, n_estimators=200;, score=0.500 total time=   0.0s\n",
      "[CV 1/5] END learning_rate=0.01, max_depth=4, min_samples_leaf=1, n_estimators=300;, score=0.286 total time=   0.1s\n",
      "[CV 2/5] END learning_rate=0.01, max_depth=4, min_samples_leaf=1, n_estimators=300;, score=0.429 total time=   0.1s\n",
      "[CV 3/5] END learning_rate=0.01, max_depth=4, min_samples_leaf=1, n_estimators=300;, score=0.238 total time=   0.1s\n",
      "[CV 4/5] END learning_rate=0.01, max_depth=4, min_samples_leaf=1, n_estimators=300;, score=0.550 total time=   0.1s\n",
      "[CV 5/5] END learning_rate=0.01, max_depth=4, min_samples_leaf=1, n_estimators=300;, score=0.450 total time=   0.1s\n",
      "[CV 1/5] END learning_rate=0.01, max_depth=4, min_samples_leaf=1, n_estimators=400;, score=0.333 total time=   0.2s\n",
      "[CV 2/5] END learning_rate=0.01, max_depth=4, min_samples_leaf=1, n_estimators=400;, score=0.476 total time=   0.1s\n",
      "[CV 3/5] END learning_rate=0.01, max_depth=4, min_samples_leaf=1, n_estimators=400;, score=0.286 total time=   0.1s\n",
      "[CV 4/5] END learning_rate=0.01, max_depth=4, min_samples_leaf=1, n_estimators=400;, score=0.550 total time=   0.2s\n",
      "[CV 5/5] END learning_rate=0.01, max_depth=4, min_samples_leaf=1, n_estimators=400;, score=0.450 total time=   0.1s\n",
      "[CV 1/5] END learning_rate=0.01, max_depth=4, min_samples_leaf=2, n_estimators=100;, score=0.333 total time=   0.0s\n",
      "[CV 2/5] END learning_rate=0.01, max_depth=4, min_samples_leaf=2, n_estimators=100;, score=0.381 total time=   0.0s\n",
      "[CV 3/5] END learning_rate=0.01, max_depth=4, min_samples_leaf=2, n_estimators=100;, score=0.286 total time=   0.0s\n",
      "[CV 4/5] END learning_rate=0.01, max_depth=4, min_samples_leaf=2, n_estimators=100;, score=0.600 total time=   0.0s\n",
      "[CV 5/5] END learning_rate=0.01, max_depth=4, min_samples_leaf=2, n_estimators=100;, score=0.500 total time=   0.0s\n",
      "[CV 1/5] END learning_rate=0.01, max_depth=4, min_samples_leaf=2, n_estimators=200;, score=0.286 total time=   0.0s\n",
      "[CV 2/5] END learning_rate=0.01, max_depth=4, min_samples_leaf=2, n_estimators=200;, score=0.429 total time=   0.0s\n",
      "[CV 3/5] END learning_rate=0.01, max_depth=4, min_samples_leaf=2, n_estimators=200;, score=0.286 total time=   0.0s\n",
      "[CV 4/5] END learning_rate=0.01, max_depth=4, min_samples_leaf=2, n_estimators=200;, score=0.500 total time=   0.0s\n",
      "[CV 5/5] END learning_rate=0.01, max_depth=4, min_samples_leaf=2, n_estimators=200;, score=0.550 total time=   0.0s\n",
      "[CV 1/5] END learning_rate=0.01, max_depth=4, min_samples_leaf=2, n_estimators=300;, score=0.238 total time=   0.1s\n",
      "[CV 2/5] END learning_rate=0.01, max_depth=4, min_samples_leaf=2, n_estimators=300;, score=0.429 total time=   0.1s\n",
      "[CV 3/5] END learning_rate=0.01, max_depth=4, min_samples_leaf=2, n_estimators=300;, score=0.238 total time=   0.1s\n",
      "[CV 4/5] END learning_rate=0.01, max_depth=4, min_samples_leaf=2, n_estimators=300;, score=0.500 total time=   0.0s\n",
      "[CV 5/5] END learning_rate=0.01, max_depth=4, min_samples_leaf=2, n_estimators=300;, score=0.450 total time=   0.1s\n",
      "[CV 1/5] END learning_rate=0.01, max_depth=4, min_samples_leaf=2, n_estimators=400;, score=0.238 total time=   0.1s\n",
      "[CV 2/5] END learning_rate=0.01, max_depth=4, min_samples_leaf=2, n_estimators=400;, score=0.429 total time=   0.1s\n",
      "[CV 3/5] END learning_rate=0.01, max_depth=4, min_samples_leaf=2, n_estimators=400;, score=0.286 total time=   0.1s\n",
      "[CV 4/5] END learning_rate=0.01, max_depth=4, min_samples_leaf=2, n_estimators=400;, score=0.500 total time=   0.1s\n",
      "[CV 5/5] END learning_rate=0.01, max_depth=4, min_samples_leaf=2, n_estimators=400;, score=0.400 total time=   0.1s\n",
      "[CV 1/5] END learning_rate=0.01, max_depth=4, min_samples_leaf=3, n_estimators=100;, score=0.333 total time=   0.0s\n",
      "[CV 2/5] END learning_rate=0.01, max_depth=4, min_samples_leaf=3, n_estimators=100;, score=0.429 total time=   0.0s\n",
      "[CV 3/5] END learning_rate=0.01, max_depth=4, min_samples_leaf=3, n_estimators=100;, score=0.286 total time=   0.0s\n",
      "[CV 4/5] END learning_rate=0.01, max_depth=4, min_samples_leaf=3, n_estimators=100;, score=0.500 total time=   0.0s\n",
      "[CV 5/5] END learning_rate=0.01, max_depth=4, min_samples_leaf=3, n_estimators=100;, score=0.500 total time=   0.0s\n",
      "[CV 1/5] END learning_rate=0.01, max_depth=4, min_samples_leaf=3, n_estimators=200;, score=0.333 total time=   0.0s\n",
      "[CV 2/5] END learning_rate=0.01, max_depth=4, min_samples_leaf=3, n_estimators=200;, score=0.381 total time=   0.0s\n",
      "[CV 3/5] END learning_rate=0.01, max_depth=4, min_samples_leaf=3, n_estimators=200;, score=0.286 total time=   0.0s\n",
      "[CV 4/5] END learning_rate=0.01, max_depth=4, min_samples_leaf=3, n_estimators=200;, score=0.400 total time=   0.0s\n",
      "[CV 5/5] END learning_rate=0.01, max_depth=4, min_samples_leaf=3, n_estimators=200;, score=0.500 total time=   0.0s\n",
      "[CV 1/5] END learning_rate=0.01, max_depth=4, min_samples_leaf=3, n_estimators=300;, score=0.238 total time=   0.0s\n",
      "[CV 2/5] END learning_rate=0.01, max_depth=4, min_samples_leaf=3, n_estimators=300;, score=0.429 total time=   0.1s\n",
      "[CV 3/5] END learning_rate=0.01, max_depth=4, min_samples_leaf=3, n_estimators=300;, score=0.333 total time=   0.0s\n",
      "[CV 4/5] END learning_rate=0.01, max_depth=4, min_samples_leaf=3, n_estimators=300;, score=0.500 total time=   0.1s\n",
      "[CV 5/5] END learning_rate=0.01, max_depth=4, min_samples_leaf=3, n_estimators=300;, score=0.550 total time=   0.1s\n",
      "[CV 1/5] END learning_rate=0.01, max_depth=4, min_samples_leaf=3, n_estimators=400;, score=0.333 total time=   0.1s\n",
      "[CV 2/5] END learning_rate=0.01, max_depth=4, min_samples_leaf=3, n_estimators=400;, score=0.429 total time=   0.1s\n"
     ]
    },
    {
     "name": "stdout",
     "output_type": "stream",
     "text": [
      "[CV 3/5] END learning_rate=0.01, max_depth=4, min_samples_leaf=3, n_estimators=400;, score=0.333 total time=   0.1s\n",
      "[CV 4/5] END learning_rate=0.01, max_depth=4, min_samples_leaf=3, n_estimators=400;, score=0.500 total time=   0.1s\n",
      "[CV 5/5] END learning_rate=0.01, max_depth=4, min_samples_leaf=3, n_estimators=400;, score=0.500 total time=   0.1s\n",
      "[CV 1/5] END learning_rate=0.01, max_depth=4, min_samples_leaf=4, n_estimators=100;, score=0.286 total time=   0.0s\n",
      "[CV 2/5] END learning_rate=0.01, max_depth=4, min_samples_leaf=4, n_estimators=100;, score=0.429 total time=   0.0s\n",
      "[CV 3/5] END learning_rate=0.01, max_depth=4, min_samples_leaf=4, n_estimators=100;, score=0.333 total time=   0.0s\n",
      "[CV 4/5] END learning_rate=0.01, max_depth=4, min_samples_leaf=4, n_estimators=100;, score=0.450 total time=   0.0s\n",
      "[CV 5/5] END learning_rate=0.01, max_depth=4, min_samples_leaf=4, n_estimators=100;, score=0.400 total time=   0.0s\n",
      "[CV 1/5] END learning_rate=0.01, max_depth=4, min_samples_leaf=4, n_estimators=200;, score=0.333 total time=   0.0s\n",
      "[CV 2/5] END learning_rate=0.01, max_depth=4, min_samples_leaf=4, n_estimators=200;, score=0.476 total time=   0.0s\n",
      "[CV 3/5] END learning_rate=0.01, max_depth=4, min_samples_leaf=4, n_estimators=200;, score=0.286 total time=   0.0s\n",
      "[CV 4/5] END learning_rate=0.01, max_depth=4, min_samples_leaf=4, n_estimators=200;, score=0.500 total time=   0.0s\n",
      "[CV 5/5] END learning_rate=0.01, max_depth=4, min_samples_leaf=4, n_estimators=200;, score=0.450 total time=   0.0s\n",
      "[CV 1/5] END learning_rate=0.01, max_depth=4, min_samples_leaf=4, n_estimators=300;, score=0.333 total time=   0.0s\n",
      "[CV 2/5] END learning_rate=0.01, max_depth=4, min_samples_leaf=4, n_estimators=300;, score=0.476 total time=   0.0s\n",
      "[CV 3/5] END learning_rate=0.01, max_depth=4, min_samples_leaf=4, n_estimators=300;, score=0.286 total time=   0.1s\n",
      "[CV 4/5] END learning_rate=0.01, max_depth=4, min_samples_leaf=4, n_estimators=300;, score=0.500 total time=   0.1s\n",
      "[CV 5/5] END learning_rate=0.01, max_depth=4, min_samples_leaf=4, n_estimators=300;, score=0.450 total time=   0.2s\n",
      "[CV 1/5] END learning_rate=0.01, max_depth=4, min_samples_leaf=4, n_estimators=400;, score=0.333 total time=   0.1s\n",
      "[CV 2/5] END learning_rate=0.01, max_depth=4, min_samples_leaf=4, n_estimators=400;, score=0.476 total time=   0.1s\n",
      "[CV 3/5] END learning_rate=0.01, max_depth=4, min_samples_leaf=4, n_estimators=400;, score=0.286 total time=   0.2s\n",
      "[CV 4/5] END learning_rate=0.01, max_depth=4, min_samples_leaf=4, n_estimators=400;, score=0.500 total time=   0.1s\n",
      "[CV 5/5] END learning_rate=0.01, max_depth=4, min_samples_leaf=4, n_estimators=400;, score=0.450 total time=   0.1s\n",
      "[CV 1/5] END learning_rate=0.01, max_depth=5, min_samples_leaf=1, n_estimators=100;, score=0.333 total time=   0.0s\n",
      "[CV 2/5] END learning_rate=0.01, max_depth=5, min_samples_leaf=1, n_estimators=100;, score=0.381 total time=   0.0s\n",
      "[CV 3/5] END learning_rate=0.01, max_depth=5, min_samples_leaf=1, n_estimators=100;, score=0.286 total time=   0.0s\n",
      "[CV 4/5] END learning_rate=0.01, max_depth=5, min_samples_leaf=1, n_estimators=100;, score=0.600 total time=   0.0s\n",
      "[CV 5/5] END learning_rate=0.01, max_depth=5, min_samples_leaf=1, n_estimators=100;, score=0.450 total time=   0.0s\n",
      "[CV 1/5] END learning_rate=0.01, max_depth=5, min_samples_leaf=1, n_estimators=200;, score=0.286 total time=   0.1s\n",
      "[CV 2/5] END learning_rate=0.01, max_depth=5, min_samples_leaf=1, n_estimators=200;, score=0.381 total time=   0.0s\n",
      "[CV 3/5] END learning_rate=0.01, max_depth=5, min_samples_leaf=1, n_estimators=200;, score=0.286 total time=   0.0s\n",
      "[CV 4/5] END learning_rate=0.01, max_depth=5, min_samples_leaf=1, n_estimators=200;, score=0.450 total time=   0.0s\n",
      "[CV 5/5] END learning_rate=0.01, max_depth=5, min_samples_leaf=1, n_estimators=200;, score=0.450 total time=   0.1s\n",
      "[CV 1/5] END learning_rate=0.01, max_depth=5, min_samples_leaf=1, n_estimators=300;, score=0.238 total time=   0.1s\n",
      "[CV 2/5] END learning_rate=0.01, max_depth=5, min_samples_leaf=1, n_estimators=300;, score=0.333 total time=   0.1s\n",
      "[CV 3/5] END learning_rate=0.01, max_depth=5, min_samples_leaf=1, n_estimators=300;, score=0.286 total time=   0.1s\n",
      "[CV 4/5] END learning_rate=0.01, max_depth=5, min_samples_leaf=1, n_estimators=300;, score=0.450 total time=   0.2s\n",
      "[CV 5/5] END learning_rate=0.01, max_depth=5, min_samples_leaf=1, n_estimators=300;, score=0.450 total time=   0.1s\n",
      "[CV 1/5] END learning_rate=0.01, max_depth=5, min_samples_leaf=1, n_estimators=400;, score=0.333 total time=   0.2s\n",
      "[CV 2/5] END learning_rate=0.01, max_depth=5, min_samples_leaf=1, n_estimators=400;, score=0.333 total time=   0.2s\n",
      "[CV 3/5] END learning_rate=0.01, max_depth=5, min_samples_leaf=1, n_estimators=400;, score=0.286 total time=   0.2s\n",
      "[CV 4/5] END learning_rate=0.01, max_depth=5, min_samples_leaf=1, n_estimators=400;, score=0.400 total time=   0.2s\n",
      "[CV 5/5] END learning_rate=0.01, max_depth=5, min_samples_leaf=1, n_estimators=400;, score=0.450 total time=   0.3s\n",
      "[CV 1/5] END learning_rate=0.01, max_depth=5, min_samples_leaf=2, n_estimators=100;, score=0.238 total time=   0.0s\n",
      "[CV 2/5] END learning_rate=0.01, max_depth=5, min_samples_leaf=2, n_estimators=100;, score=0.429 total time=   0.0s\n",
      "[CV 3/5] END learning_rate=0.01, max_depth=5, min_samples_leaf=2, n_estimators=100;, score=0.333 total time=   0.0s\n",
      "[CV 4/5] END learning_rate=0.01, max_depth=5, min_samples_leaf=2, n_estimators=100;, score=0.500 total time=   0.0s\n",
      "[CV 5/5] END learning_rate=0.01, max_depth=5, min_samples_leaf=2, n_estimators=100;, score=0.500 total time=   0.0s\n",
      "[CV 1/5] END learning_rate=0.01, max_depth=5, min_samples_leaf=2, n_estimators=200;, score=0.238 total time=   0.0s\n",
      "[CV 2/5] END learning_rate=0.01, max_depth=5, min_samples_leaf=2, n_estimators=200;, score=0.429 total time=   0.0s\n",
      "[CV 3/5] END learning_rate=0.01, max_depth=5, min_samples_leaf=2, n_estimators=200;, score=0.333 total time=   0.0s\n",
      "[CV 4/5] END learning_rate=0.01, max_depth=5, min_samples_leaf=2, n_estimators=200;, score=0.450 total time=   0.1s\n",
      "[CV 5/5] END learning_rate=0.01, max_depth=5, min_samples_leaf=2, n_estimators=200;, score=0.450 total time=   0.0s\n",
      "[CV 1/5] END learning_rate=0.01, max_depth=5, min_samples_leaf=2, n_estimators=300;, score=0.238 total time=   0.1s\n",
      "[CV 2/5] END learning_rate=0.01, max_depth=5, min_samples_leaf=2, n_estimators=300;, score=0.429 total time=   0.1s\n",
      "[CV 3/5] END learning_rate=0.01, max_depth=5, min_samples_leaf=2, n_estimators=300;, score=0.333 total time=   0.1s\n",
      "[CV 4/5] END learning_rate=0.01, max_depth=5, min_samples_leaf=2, n_estimators=300;, score=0.500 total time=   0.1s\n",
      "[CV 5/5] END learning_rate=0.01, max_depth=5, min_samples_leaf=2, n_estimators=300;, score=0.450 total time=   0.1s\n",
      "[CV 1/5] END learning_rate=0.01, max_depth=5, min_samples_leaf=2, n_estimators=400;, score=0.286 total time=   0.2s\n",
      "[CV 2/5] END learning_rate=0.01, max_depth=5, min_samples_leaf=2, n_estimators=400;, score=0.429 total time=   0.1s\n",
      "[CV 3/5] END learning_rate=0.01, max_depth=5, min_samples_leaf=2, n_estimators=400;, score=0.333 total time=   0.4s\n",
      "[CV 4/5] END learning_rate=0.01, max_depth=5, min_samples_leaf=2, n_estimators=400;, score=0.550 total time=   0.2s\n",
      "[CV 5/5] END learning_rate=0.01, max_depth=5, min_samples_leaf=2, n_estimators=400;, score=0.400 total time=   0.2s\n",
      "[CV 1/5] END learning_rate=0.01, max_depth=5, min_samples_leaf=3, n_estimators=100;, score=0.238 total time=   0.0s\n",
      "[CV 2/5] END learning_rate=0.01, max_depth=5, min_samples_leaf=3, n_estimators=100;, score=0.429 total time=   0.0s\n",
      "[CV 3/5] END learning_rate=0.01, max_depth=5, min_samples_leaf=3, n_estimators=100;, score=0.286 total time=   0.0s\n",
      "[CV 4/5] END learning_rate=0.01, max_depth=5, min_samples_leaf=3, n_estimators=100;, score=0.450 total time=   0.0s\n",
      "[CV 5/5] END learning_rate=0.01, max_depth=5, min_samples_leaf=3, n_estimators=100;, score=0.550 total time=   0.0s\n",
      "[CV 1/5] END learning_rate=0.01, max_depth=5, min_samples_leaf=3, n_estimators=200;, score=0.238 total time=   0.1s\n",
      "[CV 2/5] END learning_rate=0.01, max_depth=5, min_samples_leaf=3, n_estimators=200;, score=0.381 total time=   0.1s\n",
      "[CV 3/5] END learning_rate=0.01, max_depth=5, min_samples_leaf=3, n_estimators=200;, score=0.333 total time=   0.0s\n",
      "[CV 4/5] END learning_rate=0.01, max_depth=5, min_samples_leaf=3, n_estimators=200;, score=0.450 total time=   0.0s\n",
      "[CV 5/5] END learning_rate=0.01, max_depth=5, min_samples_leaf=3, n_estimators=200;, score=0.450 total time=   0.0s\n"
     ]
    },
    {
     "name": "stdout",
     "output_type": "stream",
     "text": [
      "[CV 1/5] END learning_rate=0.01, max_depth=5, min_samples_leaf=3, n_estimators=300;, score=0.238 total time=   0.1s\n",
      "[CV 2/5] END learning_rate=0.01, max_depth=5, min_samples_leaf=3, n_estimators=300;, score=0.381 total time=   0.1s\n",
      "[CV 3/5] END learning_rate=0.01, max_depth=5, min_samples_leaf=3, n_estimators=300;, score=0.333 total time=   0.1s\n",
      "[CV 4/5] END learning_rate=0.01, max_depth=5, min_samples_leaf=3, n_estimators=300;, score=0.450 total time=   0.1s\n",
      "[CV 5/5] END learning_rate=0.01, max_depth=5, min_samples_leaf=3, n_estimators=300;, score=0.400 total time=   0.3s\n",
      "[CV 1/5] END learning_rate=0.01, max_depth=5, min_samples_leaf=3, n_estimators=400;, score=0.286 total time=   0.2s\n",
      "[CV 2/5] END learning_rate=0.01, max_depth=5, min_samples_leaf=3, n_estimators=400;, score=0.381 total time=   0.3s\n",
      "[CV 3/5] END learning_rate=0.01, max_depth=5, min_samples_leaf=3, n_estimators=400;, score=0.381 total time=   0.2s\n",
      "[CV 4/5] END learning_rate=0.01, max_depth=5, min_samples_leaf=3, n_estimators=400;, score=0.500 total time=   0.2s\n",
      "[CV 5/5] END learning_rate=0.01, max_depth=5, min_samples_leaf=3, n_estimators=400;, score=0.400 total time=   0.2s\n",
      "[CV 1/5] END learning_rate=0.01, max_depth=5, min_samples_leaf=4, n_estimators=100;, score=0.238 total time=   0.0s\n",
      "[CV 2/5] END learning_rate=0.01, max_depth=5, min_samples_leaf=4, n_estimators=100;, score=0.476 total time=   0.0s\n",
      "[CV 3/5] END learning_rate=0.01, max_depth=5, min_samples_leaf=4, n_estimators=100;, score=0.333 total time=   0.0s\n",
      "[CV 4/5] END learning_rate=0.01, max_depth=5, min_samples_leaf=4, n_estimators=100;, score=0.500 total time=   0.0s\n",
      "[CV 5/5] END learning_rate=0.01, max_depth=5, min_samples_leaf=4, n_estimators=100;, score=0.400 total time=   0.0s\n",
      "[CV 1/5] END learning_rate=0.01, max_depth=5, min_samples_leaf=4, n_estimators=200;, score=0.286 total time=   0.0s\n",
      "[CV 2/5] END learning_rate=0.01, max_depth=5, min_samples_leaf=4, n_estimators=200;, score=0.476 total time=   0.0s\n",
      "[CV 3/5] END learning_rate=0.01, max_depth=5, min_samples_leaf=4, n_estimators=200;, score=0.381 total time=   0.0s\n",
      "[CV 4/5] END learning_rate=0.01, max_depth=5, min_samples_leaf=4, n_estimators=200;, score=0.500 total time=   0.1s\n",
      "[CV 5/5] END learning_rate=0.01, max_depth=5, min_samples_leaf=4, n_estimators=200;, score=0.400 total time=   0.0s\n",
      "[CV 1/5] END learning_rate=0.01, max_depth=5, min_samples_leaf=4, n_estimators=300;, score=0.286 total time=   0.1s\n",
      "[CV 2/5] END learning_rate=0.01, max_depth=5, min_samples_leaf=4, n_estimators=300;, score=0.429 total time=   0.1s\n",
      "[CV 3/5] END learning_rate=0.01, max_depth=5, min_samples_leaf=4, n_estimators=300;, score=0.333 total time=   0.2s\n",
      "[CV 4/5] END learning_rate=0.01, max_depth=5, min_samples_leaf=4, n_estimators=300;, score=0.550 total time=   0.2s\n",
      "[CV 5/5] END learning_rate=0.01, max_depth=5, min_samples_leaf=4, n_estimators=300;, score=0.400 total time=   0.1s\n",
      "[CV 1/5] END learning_rate=0.01, max_depth=5, min_samples_leaf=4, n_estimators=400;, score=0.286 total time=   0.2s\n",
      "[CV 2/5] END learning_rate=0.01, max_depth=5, min_samples_leaf=4, n_estimators=400;, score=0.429 total time=   0.1s\n",
      "[CV 3/5] END learning_rate=0.01, max_depth=5, min_samples_leaf=4, n_estimators=400;, score=0.333 total time=   0.1s\n",
      "[CV 4/5] END learning_rate=0.01, max_depth=5, min_samples_leaf=4, n_estimators=400;, score=0.550 total time=   0.1s\n",
      "[CV 5/5] END learning_rate=0.01, max_depth=5, min_samples_leaf=4, n_estimators=400;, score=0.400 total time=   0.1s\n",
      "[CV 1/5] END learning_rate=0.05, max_depth=2, min_samples_leaf=1, n_estimators=100;, score=0.286 total time=   0.0s\n",
      "[CV 2/5] END learning_rate=0.05, max_depth=2, min_samples_leaf=1, n_estimators=100;, score=0.571 total time=   0.0s\n",
      "[CV 3/5] END learning_rate=0.05, max_depth=2, min_samples_leaf=1, n_estimators=100;, score=0.476 total time=   0.0s\n",
      "[CV 4/5] END learning_rate=0.05, max_depth=2, min_samples_leaf=1, n_estimators=100;, score=0.500 total time=   0.0s\n",
      "[CV 5/5] END learning_rate=0.05, max_depth=2, min_samples_leaf=1, n_estimators=100;, score=0.450 total time=   0.0s\n",
      "[CV 1/5] END learning_rate=0.05, max_depth=2, min_samples_leaf=1, n_estimators=200;, score=0.238 total time=   0.0s\n",
      "[CV 2/5] END learning_rate=0.05, max_depth=2, min_samples_leaf=1, n_estimators=200;, score=0.429 total time=   0.0s\n",
      "[CV 3/5] END learning_rate=0.05, max_depth=2, min_samples_leaf=1, n_estimators=200;, score=0.381 total time=   0.0s\n",
      "[CV 4/5] END learning_rate=0.05, max_depth=2, min_samples_leaf=1, n_estimators=200;, score=0.500 total time=   0.0s\n",
      "[CV 5/5] END learning_rate=0.05, max_depth=2, min_samples_leaf=1, n_estimators=200;, score=0.450 total time=   0.0s\n",
      "[CV 1/5] END learning_rate=0.05, max_depth=2, min_samples_leaf=1, n_estimators=300;, score=0.286 total time=   0.0s\n",
      "[CV 2/5] END learning_rate=0.05, max_depth=2, min_samples_leaf=1, n_estimators=300;, score=0.476 total time=   0.0s\n",
      "[CV 3/5] END learning_rate=0.05, max_depth=2, min_samples_leaf=1, n_estimators=300;, score=0.429 total time=   0.0s\n",
      "[CV 4/5] END learning_rate=0.05, max_depth=2, min_samples_leaf=1, n_estimators=300;, score=0.500 total time=   0.0s\n",
      "[CV 5/5] END learning_rate=0.05, max_depth=2, min_samples_leaf=1, n_estimators=300;, score=0.450 total time=   0.0s\n",
      "[CV 1/5] END learning_rate=0.05, max_depth=2, min_samples_leaf=1, n_estimators=400;, score=0.286 total time=   0.0s\n",
      "[CV 2/5] END learning_rate=0.05, max_depth=2, min_samples_leaf=1, n_estimators=400;, score=0.429 total time=   0.0s\n",
      "[CV 3/5] END learning_rate=0.05, max_depth=2, min_samples_leaf=1, n_estimators=400;, score=0.476 total time=   0.0s\n",
      "[CV 4/5] END learning_rate=0.05, max_depth=2, min_samples_leaf=1, n_estimators=400;, score=0.450 total time=   0.0s\n",
      "[CV 5/5] END learning_rate=0.05, max_depth=2, min_samples_leaf=1, n_estimators=400;, score=0.500 total time=   0.0s\n",
      "[CV 1/5] END learning_rate=0.05, max_depth=2, min_samples_leaf=2, n_estimators=100;, score=0.286 total time=   0.0s\n",
      "[CV 2/5] END learning_rate=0.05, max_depth=2, min_samples_leaf=2, n_estimators=100;, score=0.571 total time=   0.0s\n",
      "[CV 3/5] END learning_rate=0.05, max_depth=2, min_samples_leaf=2, n_estimators=100;, score=0.381 total time=   0.0s\n",
      "[CV 4/5] END learning_rate=0.05, max_depth=2, min_samples_leaf=2, n_estimators=100;, score=0.500 total time=   0.0s\n",
      "[CV 5/5] END learning_rate=0.05, max_depth=2, min_samples_leaf=2, n_estimators=100;, score=0.450 total time=   0.0s\n",
      "[CV 1/5] END learning_rate=0.05, max_depth=2, min_samples_leaf=2, n_estimators=200;, score=0.381 total time=   0.0s\n",
      "[CV 2/5] END learning_rate=0.05, max_depth=2, min_samples_leaf=2, n_estimators=200;, score=0.381 total time=   0.0s\n",
      "[CV 3/5] END learning_rate=0.05, max_depth=2, min_samples_leaf=2, n_estimators=200;, score=0.381 total time=   0.0s\n",
      "[CV 4/5] END learning_rate=0.05, max_depth=2, min_samples_leaf=2, n_estimators=200;, score=0.500 total time=   0.0s\n",
      "[CV 5/5] END learning_rate=0.05, max_depth=2, min_samples_leaf=2, n_estimators=200;, score=0.450 total time=   0.0s\n",
      "[CV 1/5] END learning_rate=0.05, max_depth=2, min_samples_leaf=2, n_estimators=300;, score=0.333 total time=   0.0s\n",
      "[CV 2/5] END learning_rate=0.05, max_depth=2, min_samples_leaf=2, n_estimators=300;, score=0.381 total time=   0.0s\n",
      "[CV 3/5] END learning_rate=0.05, max_depth=2, min_samples_leaf=2, n_estimators=300;, score=0.381 total time=   0.0s\n",
      "[CV 4/5] END learning_rate=0.05, max_depth=2, min_samples_leaf=2, n_estimators=300;, score=0.500 total time=   0.0s\n",
      "[CV 5/5] END learning_rate=0.05, max_depth=2, min_samples_leaf=2, n_estimators=300;, score=0.450 total time=   0.1s\n",
      "[CV 1/5] END learning_rate=0.05, max_depth=2, min_samples_leaf=2, n_estimators=400;, score=0.333 total time=   0.0s\n",
      "[CV 2/5] END learning_rate=0.05, max_depth=2, min_samples_leaf=2, n_estimators=400;, score=0.381 total time=   0.0s\n",
      "[CV 3/5] END learning_rate=0.05, max_depth=2, min_samples_leaf=2, n_estimators=400;, score=0.381 total time=   0.0s\n",
      "[CV 4/5] END learning_rate=0.05, max_depth=2, min_samples_leaf=2, n_estimators=400;, score=0.450 total time=   0.0s\n",
      "[CV 5/5] END learning_rate=0.05, max_depth=2, min_samples_leaf=2, n_estimators=400;, score=0.450 total time=   0.0s\n",
      "[CV 1/5] END learning_rate=0.05, max_depth=2, min_samples_leaf=3, n_estimators=100;, score=0.286 total time=   0.0s\n",
      "[CV 2/5] END learning_rate=0.05, max_depth=2, min_samples_leaf=3, n_estimators=100;, score=0.571 total time=   0.0s\n"
     ]
    },
    {
     "name": "stdout",
     "output_type": "stream",
     "text": [
      "[CV 3/5] END learning_rate=0.05, max_depth=2, min_samples_leaf=3, n_estimators=100;, score=0.286 total time=   0.0s\n",
      "[CV 4/5] END learning_rate=0.05, max_depth=2, min_samples_leaf=3, n_estimators=100;, score=0.550 total time=   0.0s\n",
      "[CV 5/5] END learning_rate=0.05, max_depth=2, min_samples_leaf=3, n_estimators=100;, score=0.450 total time=   0.0s\n",
      "[CV 1/5] END learning_rate=0.05, max_depth=2, min_samples_leaf=3, n_estimators=200;, score=0.333 total time=   0.0s\n",
      "[CV 2/5] END learning_rate=0.05, max_depth=2, min_samples_leaf=3, n_estimators=200;, score=0.381 total time=   0.0s\n",
      "[CV 3/5] END learning_rate=0.05, max_depth=2, min_samples_leaf=3, n_estimators=200;, score=0.381 total time=   0.0s\n",
      "[CV 4/5] END learning_rate=0.05, max_depth=2, min_samples_leaf=3, n_estimators=200;, score=0.500 total time=   0.0s\n",
      "[CV 5/5] END learning_rate=0.05, max_depth=2, min_samples_leaf=3, n_estimators=200;, score=0.450 total time=   0.0s\n",
      "[CV 1/5] END learning_rate=0.05, max_depth=2, min_samples_leaf=3, n_estimators=300;, score=0.333 total time=   0.0s\n",
      "[CV 2/5] END learning_rate=0.05, max_depth=2, min_samples_leaf=3, n_estimators=300;, score=0.381 total time=   0.0s\n",
      "[CV 3/5] END learning_rate=0.05, max_depth=2, min_samples_leaf=3, n_estimators=300;, score=0.381 total time=   0.0s\n",
      "[CV 4/5] END learning_rate=0.05, max_depth=2, min_samples_leaf=3, n_estimators=300;, score=0.450 total time=   0.0s\n",
      "[CV 5/5] END learning_rate=0.05, max_depth=2, min_samples_leaf=3, n_estimators=300;, score=0.450 total time=   0.0s\n",
      "[CV 1/5] END learning_rate=0.05, max_depth=2, min_samples_leaf=3, n_estimators=400;, score=0.333 total time=   0.0s\n",
      "[CV 2/5] END learning_rate=0.05, max_depth=2, min_samples_leaf=3, n_estimators=400;, score=0.381 total time=   0.0s\n",
      "[CV 3/5] END learning_rate=0.05, max_depth=2, min_samples_leaf=3, n_estimators=400;, score=0.429 total time=   0.0s\n",
      "[CV 4/5] END learning_rate=0.05, max_depth=2, min_samples_leaf=3, n_estimators=400;, score=0.450 total time=   0.0s\n",
      "[CV 5/5] END learning_rate=0.05, max_depth=2, min_samples_leaf=3, n_estimators=400;, score=0.400 total time=   0.0s\n",
      "[CV 1/5] END learning_rate=0.05, max_depth=2, min_samples_leaf=4, n_estimators=100;, score=0.286 total time=   0.0s\n",
      "[CV 2/5] END learning_rate=0.05, max_depth=2, min_samples_leaf=4, n_estimators=100;, score=0.524 total time=   0.0s\n",
      "[CV 3/5] END learning_rate=0.05, max_depth=2, min_samples_leaf=4, n_estimators=100;, score=0.381 total time=   0.0s\n",
      "[CV 4/5] END learning_rate=0.05, max_depth=2, min_samples_leaf=4, n_estimators=100;, score=0.550 total time=   0.0s\n",
      "[CV 5/5] END learning_rate=0.05, max_depth=2, min_samples_leaf=4, n_estimators=100;, score=0.400 total time=   0.0s\n",
      "[CV 1/5] END learning_rate=0.05, max_depth=2, min_samples_leaf=4, n_estimators=200;, score=0.381 total time=   0.0s\n",
      "[CV 2/5] END learning_rate=0.05, max_depth=2, min_samples_leaf=4, n_estimators=200;, score=0.381 total time=   0.0s\n",
      "[CV 3/5] END learning_rate=0.05, max_depth=2, min_samples_leaf=4, n_estimators=200;, score=0.476 total time=   0.0s\n",
      "[CV 4/5] END learning_rate=0.05, max_depth=2, min_samples_leaf=4, n_estimators=200;, score=0.550 total time=   0.0s\n",
      "[CV 5/5] END learning_rate=0.05, max_depth=2, min_samples_leaf=4, n_estimators=200;, score=0.450 total time=   0.0s\n",
      "[CV 1/5] END learning_rate=0.05, max_depth=2, min_samples_leaf=4, n_estimators=300;, score=0.333 total time=   0.0s\n",
      "[CV 2/5] END learning_rate=0.05, max_depth=2, min_samples_leaf=4, n_estimators=300;, score=0.381 total time=   0.0s\n",
      "[CV 3/5] END learning_rate=0.05, max_depth=2, min_samples_leaf=4, n_estimators=300;, score=0.476 total time=   0.1s\n",
      "[CV 4/5] END learning_rate=0.05, max_depth=2, min_samples_leaf=4, n_estimators=300;, score=0.600 total time=   0.0s\n",
      "[CV 5/5] END learning_rate=0.05, max_depth=2, min_samples_leaf=4, n_estimators=300;, score=0.450 total time=   0.0s\n",
      "[CV 1/5] END learning_rate=0.05, max_depth=2, min_samples_leaf=4, n_estimators=400;, score=0.333 total time=   0.0s\n",
      "[CV 2/5] END learning_rate=0.05, max_depth=2, min_samples_leaf=4, n_estimators=400;, score=0.381 total time=   0.0s\n",
      "[CV 3/5] END learning_rate=0.05, max_depth=2, min_samples_leaf=4, n_estimators=400;, score=0.524 total time=   0.0s\n",
      "[CV 4/5] END learning_rate=0.05, max_depth=2, min_samples_leaf=4, n_estimators=400;, score=0.600 total time=   0.0s\n",
      "[CV 5/5] END learning_rate=0.05, max_depth=2, min_samples_leaf=4, n_estimators=400;, score=0.400 total time=   0.0s\n",
      "[CV 1/5] END learning_rate=0.05, max_depth=3, min_samples_leaf=1, n_estimators=100;, score=0.286 total time=   0.0s\n",
      "[CV 2/5] END learning_rate=0.05, max_depth=3, min_samples_leaf=1, n_estimators=100;, score=0.524 total time=   0.0s\n",
      "[CV 3/5] END learning_rate=0.05, max_depth=3, min_samples_leaf=1, n_estimators=100;, score=0.286 total time=   0.0s\n",
      "[CV 4/5] END learning_rate=0.05, max_depth=3, min_samples_leaf=1, n_estimators=100;, score=0.400 total time=   0.0s\n",
      "[CV 5/5] END learning_rate=0.05, max_depth=3, min_samples_leaf=1, n_estimators=100;, score=0.550 total time=   0.0s\n",
      "[CV 1/5] END learning_rate=0.05, max_depth=3, min_samples_leaf=1, n_estimators=200;, score=0.333 total time=   0.0s\n",
      "[CV 2/5] END learning_rate=0.05, max_depth=3, min_samples_leaf=1, n_estimators=200;, score=0.571 total time=   0.0s\n",
      "[CV 3/5] END learning_rate=0.05, max_depth=3, min_samples_leaf=1, n_estimators=200;, score=0.333 total time=   0.0s\n",
      "[CV 4/5] END learning_rate=0.05, max_depth=3, min_samples_leaf=1, n_estimators=200;, score=0.450 total time=   0.0s\n",
      "[CV 5/5] END learning_rate=0.05, max_depth=3, min_samples_leaf=1, n_estimators=200;, score=0.450 total time=   0.0s\n",
      "[CV 1/5] END learning_rate=0.05, max_depth=3, min_samples_leaf=1, n_estimators=300;, score=0.381 total time=   0.0s\n",
      "[CV 2/5] END learning_rate=0.05, max_depth=3, min_samples_leaf=1, n_estimators=300;, score=0.524 total time=   0.0s\n",
      "[CV 3/5] END learning_rate=0.05, max_depth=3, min_samples_leaf=1, n_estimators=300;, score=0.381 total time=   0.0s\n",
      "[CV 4/5] END learning_rate=0.05, max_depth=3, min_samples_leaf=1, n_estimators=300;, score=0.500 total time=   0.0s\n",
      "[CV 5/5] END learning_rate=0.05, max_depth=3, min_samples_leaf=1, n_estimators=300;, score=0.400 total time=   0.0s\n",
      "[CV 1/5] END learning_rate=0.05, max_depth=3, min_samples_leaf=1, n_estimators=400;, score=0.333 total time=   0.1s\n",
      "[CV 2/5] END learning_rate=0.05, max_depth=3, min_samples_leaf=1, n_estimators=400;, score=0.476 total time=   0.1s\n",
      "[CV 3/5] END learning_rate=0.05, max_depth=3, min_samples_leaf=1, n_estimators=400;, score=0.381 total time=   0.1s\n",
      "[CV 4/5] END learning_rate=0.05, max_depth=3, min_samples_leaf=1, n_estimators=400;, score=0.500 total time=   0.1s\n",
      "[CV 5/5] END learning_rate=0.05, max_depth=3, min_samples_leaf=1, n_estimators=400;, score=0.400 total time=   0.1s\n",
      "[CV 1/5] END learning_rate=0.05, max_depth=3, min_samples_leaf=2, n_estimators=100;, score=0.286 total time=   0.0s\n",
      "[CV 2/5] END learning_rate=0.05, max_depth=3, min_samples_leaf=2, n_estimators=100;, score=0.476 total time=   0.0s\n",
      "[CV 3/5] END learning_rate=0.05, max_depth=3, min_samples_leaf=2, n_estimators=100;, score=0.333 total time=   0.0s\n",
      "[CV 4/5] END learning_rate=0.05, max_depth=3, min_samples_leaf=2, n_estimators=100;, score=0.400 total time=   0.0s\n",
      "[CV 5/5] END learning_rate=0.05, max_depth=3, min_samples_leaf=2, n_estimators=100;, score=0.450 total time=   0.0s\n",
      "[CV 1/5] END learning_rate=0.05, max_depth=3, min_samples_leaf=2, n_estimators=200;, score=0.333 total time=   0.0s\n",
      "[CV 2/5] END learning_rate=0.05, max_depth=3, min_samples_leaf=2, n_estimators=200;, score=0.429 total time=   0.0s\n",
      "[CV 3/5] END learning_rate=0.05, max_depth=3, min_samples_leaf=2, n_estimators=200;, score=0.333 total time=   0.0s\n",
      "[CV 4/5] END learning_rate=0.05, max_depth=3, min_samples_leaf=2, n_estimators=200;, score=0.550 total time=   0.0s\n",
      "[CV 5/5] END learning_rate=0.05, max_depth=3, min_samples_leaf=2, n_estimators=200;, score=0.400 total time=   0.0s\n",
      "[CV 1/5] END learning_rate=0.05, max_depth=3, min_samples_leaf=2, n_estimators=300;, score=0.381 total time=   0.0s\n",
      "[CV 2/5] END learning_rate=0.05, max_depth=3, min_samples_leaf=2, n_estimators=300;, score=0.429 total time=   0.0s\n",
      "[CV 3/5] END learning_rate=0.05, max_depth=3, min_samples_leaf=2, n_estimators=300;, score=0.333 total time=   0.0s\n"
     ]
    },
    {
     "name": "stdout",
     "output_type": "stream",
     "text": [
      "[CV 4/5] END learning_rate=0.05, max_depth=3, min_samples_leaf=2, n_estimators=300;, score=0.450 total time=   0.1s\n",
      "[CV 5/5] END learning_rate=0.05, max_depth=3, min_samples_leaf=2, n_estimators=300;, score=0.400 total time=   0.0s\n",
      "[CV 1/5] END learning_rate=0.05, max_depth=3, min_samples_leaf=2, n_estimators=400;, score=0.381 total time=   0.1s\n",
      "[CV 2/5] END learning_rate=0.05, max_depth=3, min_samples_leaf=2, n_estimators=400;, score=0.429 total time=   0.1s\n",
      "[CV 3/5] END learning_rate=0.05, max_depth=3, min_samples_leaf=2, n_estimators=400;, score=0.333 total time=   0.1s\n",
      "[CV 4/5] END learning_rate=0.05, max_depth=3, min_samples_leaf=2, n_estimators=400;, score=0.500 total time=   0.1s\n",
      "[CV 5/5] END learning_rate=0.05, max_depth=3, min_samples_leaf=2, n_estimators=400;, score=0.400 total time=   0.1s\n",
      "[CV 1/5] END learning_rate=0.05, max_depth=3, min_samples_leaf=3, n_estimators=100;, score=0.333 total time=   0.0s\n",
      "[CV 2/5] END learning_rate=0.05, max_depth=3, min_samples_leaf=3, n_estimators=100;, score=0.476 total time=   0.0s\n",
      "[CV 3/5] END learning_rate=0.05, max_depth=3, min_samples_leaf=3, n_estimators=100;, score=0.333 total time=   0.0s\n",
      "[CV 4/5] END learning_rate=0.05, max_depth=3, min_samples_leaf=3, n_estimators=100;, score=0.500 total time=   0.0s\n",
      "[CV 5/5] END learning_rate=0.05, max_depth=3, min_samples_leaf=3, n_estimators=100;, score=0.550 total time=   0.0s\n",
      "[CV 1/5] END learning_rate=0.05, max_depth=3, min_samples_leaf=3, n_estimators=200;, score=0.381 total time=   0.0s\n",
      "[CV 2/5] END learning_rate=0.05, max_depth=3, min_samples_leaf=3, n_estimators=200;, score=0.476 total time=   0.0s\n",
      "[CV 3/5] END learning_rate=0.05, max_depth=3, min_samples_leaf=3, n_estimators=200;, score=0.333 total time=   0.0s\n",
      "[CV 4/5] END learning_rate=0.05, max_depth=3, min_samples_leaf=3, n_estimators=200;, score=0.500 total time=   0.0s\n",
      "[CV 5/5] END learning_rate=0.05, max_depth=3, min_samples_leaf=3, n_estimators=200;, score=0.400 total time=   0.0s\n",
      "[CV 1/5] END learning_rate=0.05, max_depth=3, min_samples_leaf=3, n_estimators=300;, score=0.333 total time=   0.1s\n",
      "[CV 2/5] END learning_rate=0.05, max_depth=3, min_samples_leaf=3, n_estimators=300;, score=0.476 total time=   0.0s\n",
      "[CV 3/5] END learning_rate=0.05, max_depth=3, min_samples_leaf=3, n_estimators=300;, score=0.333 total time=   0.0s\n",
      "[CV 4/5] END learning_rate=0.05, max_depth=3, min_samples_leaf=3, n_estimators=300;, score=0.450 total time=   0.0s\n",
      "[CV 5/5] END learning_rate=0.05, max_depth=3, min_samples_leaf=3, n_estimators=300;, score=0.400 total time=   0.0s\n",
      "[CV 1/5] END learning_rate=0.05, max_depth=3, min_samples_leaf=3, n_estimators=400;, score=0.333 total time=   0.1s\n",
      "[CV 2/5] END learning_rate=0.05, max_depth=3, min_samples_leaf=3, n_estimators=400;, score=0.429 total time=   0.0s\n",
      "[CV 3/5] END learning_rate=0.05, max_depth=3, min_samples_leaf=3, n_estimators=400;, score=0.333 total time=   0.1s\n",
      "[CV 4/5] END learning_rate=0.05, max_depth=3, min_samples_leaf=3, n_estimators=400;, score=0.400 total time=   0.0s\n",
      "[CV 5/5] END learning_rate=0.05, max_depth=3, min_samples_leaf=3, n_estimators=400;, score=0.400 total time=   0.1s\n",
      "[CV 1/5] END learning_rate=0.05, max_depth=3, min_samples_leaf=4, n_estimators=100;, score=0.381 total time=   0.0s\n",
      "[CV 2/5] END learning_rate=0.05, max_depth=3, min_samples_leaf=4, n_estimators=100;, score=0.429 total time=   0.0s\n",
      "[CV 3/5] END learning_rate=0.05, max_depth=3, min_samples_leaf=4, n_estimators=100;, score=0.429 total time=   0.0s\n",
      "[CV 4/5] END learning_rate=0.05, max_depth=3, min_samples_leaf=4, n_estimators=100;, score=0.550 total time=   0.0s\n",
      "[CV 5/5] END learning_rate=0.05, max_depth=3, min_samples_leaf=4, n_estimators=100;, score=0.450 total time=   0.0s\n",
      "[CV 1/5] END learning_rate=0.05, max_depth=3, min_samples_leaf=4, n_estimators=200;, score=0.381 total time=   0.0s\n",
      "[CV 2/5] END learning_rate=0.05, max_depth=3, min_samples_leaf=4, n_estimators=200;, score=0.429 total time=   0.0s\n",
      "[CV 3/5] END learning_rate=0.05, max_depth=3, min_samples_leaf=4, n_estimators=200;, score=0.429 total time=   0.0s\n",
      "[CV 4/5] END learning_rate=0.05, max_depth=3, min_samples_leaf=4, n_estimators=200;, score=0.600 total time=   0.0s\n",
      "[CV 5/5] END learning_rate=0.05, max_depth=3, min_samples_leaf=4, n_estimators=200;, score=0.400 total time=   0.0s\n",
      "[CV 1/5] END learning_rate=0.05, max_depth=3, min_samples_leaf=4, n_estimators=300;, score=0.381 total time=   0.0s\n",
      "[CV 2/5] END learning_rate=0.05, max_depth=3, min_samples_leaf=4, n_estimators=300;, score=0.429 total time=   0.0s\n",
      "[CV 3/5] END learning_rate=0.05, max_depth=3, min_samples_leaf=4, n_estimators=300;, score=0.381 total time=   0.0s\n",
      "[CV 4/5] END learning_rate=0.05, max_depth=3, min_samples_leaf=4, n_estimators=300;, score=0.600 total time=   0.0s\n",
      "[CV 5/5] END learning_rate=0.05, max_depth=3, min_samples_leaf=4, n_estimators=300;, score=0.400 total time=   0.0s\n",
      "[CV 1/5] END learning_rate=0.05, max_depth=3, min_samples_leaf=4, n_estimators=400;, score=0.381 total time=   0.0s\n",
      "[CV 2/5] END learning_rate=0.05, max_depth=3, min_samples_leaf=4, n_estimators=400;, score=0.429 total time=   0.0s\n",
      "[CV 3/5] END learning_rate=0.05, max_depth=3, min_samples_leaf=4, n_estimators=400;, score=0.381 total time=   0.0s\n",
      "[CV 4/5] END learning_rate=0.05, max_depth=3, min_samples_leaf=4, n_estimators=400;, score=0.650 total time=   0.1s\n",
      "[CV 5/5] END learning_rate=0.05, max_depth=3, min_samples_leaf=4, n_estimators=400;, score=0.400 total time=   0.0s\n",
      "[CV 1/5] END learning_rate=0.05, max_depth=4, min_samples_leaf=1, n_estimators=100;, score=0.286 total time=   0.0s\n",
      "[CV 2/5] END learning_rate=0.05, max_depth=4, min_samples_leaf=1, n_estimators=100;, score=0.476 total time=   0.0s\n",
      "[CV 3/5] END learning_rate=0.05, max_depth=4, min_samples_leaf=1, n_estimators=100;, score=0.286 total time=   0.0s\n",
      "[CV 4/5] END learning_rate=0.05, max_depth=4, min_samples_leaf=1, n_estimators=100;, score=0.550 total time=   0.0s\n",
      "[CV 5/5] END learning_rate=0.05, max_depth=4, min_samples_leaf=1, n_estimators=100;, score=0.450 total time=   0.0s\n",
      "[CV 1/5] END learning_rate=0.05, max_depth=4, min_samples_leaf=1, n_estimators=200;, score=0.333 total time=   0.0s\n",
      "[CV 2/5] END learning_rate=0.05, max_depth=4, min_samples_leaf=1, n_estimators=200;, score=0.476 total time=   0.0s\n",
      "[CV 3/5] END learning_rate=0.05, max_depth=4, min_samples_leaf=1, n_estimators=200;, score=0.333 total time=   0.0s\n",
      "[CV 4/5] END learning_rate=0.05, max_depth=4, min_samples_leaf=1, n_estimators=200;, score=0.450 total time=   0.0s\n",
      "[CV 5/5] END learning_rate=0.05, max_depth=4, min_samples_leaf=1, n_estimators=200;, score=0.450 total time=   0.0s\n",
      "[CV 1/5] END learning_rate=0.05, max_depth=4, min_samples_leaf=1, n_estimators=300;, score=0.333 total time=   0.1s\n",
      "[CV 2/5] END learning_rate=0.05, max_depth=4, min_samples_leaf=1, n_estimators=300;, score=0.381 total time=   0.1s\n",
      "[CV 3/5] END learning_rate=0.05, max_depth=4, min_samples_leaf=1, n_estimators=300;, score=0.333 total time=   0.1s\n",
      "[CV 4/5] END learning_rate=0.05, max_depth=4, min_samples_leaf=1, n_estimators=300;, score=0.450 total time=   0.0s\n",
      "[CV 5/5] END learning_rate=0.05, max_depth=4, min_samples_leaf=1, n_estimators=300;, score=0.450 total time=   0.1s\n",
      "[CV 1/5] END learning_rate=0.05, max_depth=4, min_samples_leaf=1, n_estimators=400;, score=0.333 total time=   0.1s\n",
      "[CV 2/5] END learning_rate=0.05, max_depth=4, min_samples_leaf=1, n_estimators=400;, score=0.381 total time=   0.1s\n",
      "[CV 3/5] END learning_rate=0.05, max_depth=4, min_samples_leaf=1, n_estimators=400;, score=0.238 total time=   0.2s\n",
      "[CV 4/5] END learning_rate=0.05, max_depth=4, min_samples_leaf=1, n_estimators=400;, score=0.500 total time=   0.1s\n",
      "[CV 5/5] END learning_rate=0.05, max_depth=4, min_samples_leaf=1, n_estimators=400;, score=0.450 total time=   0.1s\n",
      "[CV 1/5] END learning_rate=0.05, max_depth=4, min_samples_leaf=2, n_estimators=100;, score=0.238 total time=   0.0s\n",
      "[CV 2/5] END learning_rate=0.05, max_depth=4, min_samples_leaf=2, n_estimators=100;, score=0.429 total time=   0.0s\n",
      "[CV 3/5] END learning_rate=0.05, max_depth=4, min_samples_leaf=2, n_estimators=100;, score=0.333 total time=   0.0s\n",
      "[CV 4/5] END learning_rate=0.05, max_depth=4, min_samples_leaf=2, n_estimators=100;, score=0.500 total time=   0.0s\n",
      "[CV 5/5] END learning_rate=0.05, max_depth=4, min_samples_leaf=2, n_estimators=100;, score=0.400 total time=   0.0s\n"
     ]
    },
    {
     "name": "stdout",
     "output_type": "stream",
     "text": [
      "[CV 1/5] END learning_rate=0.05, max_depth=4, min_samples_leaf=2, n_estimators=200;, score=0.333 total time=   0.0s\n",
      "[CV 2/5] END learning_rate=0.05, max_depth=4, min_samples_leaf=2, n_estimators=200;, score=0.429 total time=   0.0s\n",
      "[CV 3/5] END learning_rate=0.05, max_depth=4, min_samples_leaf=2, n_estimators=200;, score=0.333 total time=   0.0s\n",
      "[CV 4/5] END learning_rate=0.05, max_depth=4, min_samples_leaf=2, n_estimators=200;, score=0.450 total time=   0.0s\n",
      "[CV 5/5] END learning_rate=0.05, max_depth=4, min_samples_leaf=2, n_estimators=200;, score=0.400 total time=   0.0s\n",
      "[CV 1/5] END learning_rate=0.05, max_depth=4, min_samples_leaf=2, n_estimators=300;, score=0.333 total time=   0.1s\n",
      "[CV 2/5] END learning_rate=0.05, max_depth=4, min_samples_leaf=2, n_estimators=300;, score=0.429 total time=   0.1s\n",
      "[CV 3/5] END learning_rate=0.05, max_depth=4, min_samples_leaf=2, n_estimators=300;, score=0.333 total time=   0.1s\n",
      "[CV 4/5] END learning_rate=0.05, max_depth=4, min_samples_leaf=2, n_estimators=300;, score=0.400 total time=   0.0s\n",
      "[CV 5/5] END learning_rate=0.05, max_depth=4, min_samples_leaf=2, n_estimators=300;, score=0.400 total time=   0.1s\n",
      "[CV 1/5] END learning_rate=0.05, max_depth=4, min_samples_leaf=2, n_estimators=400;, score=0.333 total time=   0.1s\n",
      "[CV 2/5] END learning_rate=0.05, max_depth=4, min_samples_leaf=2, n_estimators=400;, score=0.429 total time=   0.1s\n",
      "[CV 3/5] END learning_rate=0.05, max_depth=4, min_samples_leaf=2, n_estimators=400;, score=0.333 total time=   0.1s\n",
      "[CV 4/5] END learning_rate=0.05, max_depth=4, min_samples_leaf=2, n_estimators=400;, score=0.400 total time=   0.3s\n",
      "[CV 5/5] END learning_rate=0.05, max_depth=4, min_samples_leaf=2, n_estimators=400;, score=0.400 total time=   0.1s\n",
      "[CV 1/5] END learning_rate=0.05, max_depth=4, min_samples_leaf=3, n_estimators=100;, score=0.286 total time=   0.0s\n",
      "[CV 2/5] END learning_rate=0.05, max_depth=4, min_samples_leaf=3, n_estimators=100;, score=0.429 total time=   0.0s\n",
      "[CV 3/5] END learning_rate=0.05, max_depth=4, min_samples_leaf=3, n_estimators=100;, score=0.333 total time=   0.0s\n",
      "[CV 4/5] END learning_rate=0.05, max_depth=4, min_samples_leaf=3, n_estimators=100;, score=0.550 total time=   0.0s\n",
      "[CV 5/5] END learning_rate=0.05, max_depth=4, min_samples_leaf=3, n_estimators=100;, score=0.450 total time=   0.0s\n",
      "[CV 1/5] END learning_rate=0.05, max_depth=4, min_samples_leaf=3, n_estimators=200;, score=0.333 total time=   0.0s\n",
      "[CV 2/5] END learning_rate=0.05, max_depth=4, min_samples_leaf=3, n_estimators=200;, score=0.429 total time=   0.0s\n",
      "[CV 3/5] END learning_rate=0.05, max_depth=4, min_samples_leaf=3, n_estimators=200;, score=0.381 total time=   0.0s\n",
      "[CV 4/5] END learning_rate=0.05, max_depth=4, min_samples_leaf=3, n_estimators=200;, score=0.500 total time=   0.1s\n",
      "[CV 5/5] END learning_rate=0.05, max_depth=4, min_samples_leaf=3, n_estimators=200;, score=0.450 total time=   0.0s\n",
      "[CV 1/5] END learning_rate=0.05, max_depth=4, min_samples_leaf=3, n_estimators=300;, score=0.333 total time=   0.0s\n",
      "[CV 2/5] END learning_rate=0.05, max_depth=4, min_samples_leaf=3, n_estimators=300;, score=0.381 total time=   0.0s\n",
      "[CV 3/5] END learning_rate=0.05, max_depth=4, min_samples_leaf=3, n_estimators=300;, score=0.381 total time=   0.0s\n",
      "[CV 4/5] END learning_rate=0.05, max_depth=4, min_samples_leaf=3, n_estimators=300;, score=0.450 total time=   0.0s\n",
      "[CV 5/5] END learning_rate=0.05, max_depth=4, min_samples_leaf=3, n_estimators=300;, score=0.400 total time=   0.0s\n",
      "[CV 1/5] END learning_rate=0.05, max_depth=4, min_samples_leaf=3, n_estimators=400;, score=0.286 total time=   0.1s\n",
      "[CV 2/5] END learning_rate=0.05, max_depth=4, min_samples_leaf=3, n_estimators=400;, score=0.381 total time=   0.1s\n",
      "[CV 3/5] END learning_rate=0.05, max_depth=4, min_samples_leaf=3, n_estimators=400;, score=0.429 total time=   0.1s\n",
      "[CV 4/5] END learning_rate=0.05, max_depth=4, min_samples_leaf=3, n_estimators=400;, score=0.500 total time=   0.1s\n",
      "[CV 5/5] END learning_rate=0.05, max_depth=4, min_samples_leaf=3, n_estimators=400;, score=0.400 total time=   0.1s\n",
      "[CV 1/5] END learning_rate=0.05, max_depth=4, min_samples_leaf=4, n_estimators=100;, score=0.333 total time=   0.0s\n",
      "[CV 2/5] END learning_rate=0.05, max_depth=4, min_samples_leaf=4, n_estimators=100;, score=0.476 total time=   0.0s\n",
      "[CV 3/5] END learning_rate=0.05, max_depth=4, min_samples_leaf=4, n_estimators=100;, score=0.333 total time=   0.0s\n",
      "[CV 4/5] END learning_rate=0.05, max_depth=4, min_samples_leaf=4, n_estimators=100;, score=0.550 total time=   0.0s\n",
      "[CV 5/5] END learning_rate=0.05, max_depth=4, min_samples_leaf=4, n_estimators=100;, score=0.400 total time=   0.0s\n",
      "[CV 1/5] END learning_rate=0.05, max_depth=4, min_samples_leaf=4, n_estimators=200;, score=0.333 total time=   0.0s\n",
      "[CV 2/5] END learning_rate=0.05, max_depth=4, min_samples_leaf=4, n_estimators=200;, score=0.429 total time=   0.0s\n",
      "[CV 3/5] END learning_rate=0.05, max_depth=4, min_samples_leaf=4, n_estimators=200;, score=0.381 total time=   0.0s\n",
      "[CV 4/5] END learning_rate=0.05, max_depth=4, min_samples_leaf=4, n_estimators=200;, score=0.600 total time=   0.1s\n",
      "[CV 5/5] END learning_rate=0.05, max_depth=4, min_samples_leaf=4, n_estimators=200;, score=0.400 total time=   0.0s\n",
      "[CV 1/5] END learning_rate=0.05, max_depth=4, min_samples_leaf=4, n_estimators=300;, score=0.333 total time=   0.0s\n",
      "[CV 2/5] END learning_rate=0.05, max_depth=4, min_samples_leaf=4, n_estimators=300;, score=0.429 total time=   0.0s\n",
      "[CV 3/5] END learning_rate=0.05, max_depth=4, min_samples_leaf=4, n_estimators=300;, score=0.333 total time=   0.0s\n",
      "[CV 4/5] END learning_rate=0.05, max_depth=4, min_samples_leaf=4, n_estimators=300;, score=0.550 total time=   0.0s\n",
      "[CV 5/5] END learning_rate=0.05, max_depth=4, min_samples_leaf=4, n_estimators=300;, score=0.400 total time=   0.0s\n",
      "[CV 1/5] END learning_rate=0.05, max_depth=4, min_samples_leaf=4, n_estimators=400;, score=0.381 total time=   0.1s\n",
      "[CV 2/5] END learning_rate=0.05, max_depth=4, min_samples_leaf=4, n_estimators=400;, score=0.381 total time=   0.1s\n",
      "[CV 3/5] END learning_rate=0.05, max_depth=4, min_samples_leaf=4, n_estimators=400;, score=0.333 total time=   0.1s\n",
      "[CV 4/5] END learning_rate=0.05, max_depth=4, min_samples_leaf=4, n_estimators=400;, score=0.550 total time=   0.1s\n",
      "[CV 5/5] END learning_rate=0.05, max_depth=4, min_samples_leaf=4, n_estimators=400;, score=0.400 total time=   0.1s\n",
      "[CV 1/5] END learning_rate=0.05, max_depth=5, min_samples_leaf=1, n_estimators=100;, score=0.333 total time=   0.0s\n",
      "[CV 2/5] END learning_rate=0.05, max_depth=5, min_samples_leaf=1, n_estimators=100;, score=0.429 total time=   0.0s\n",
      "[CV 3/5] END learning_rate=0.05, max_depth=5, min_samples_leaf=1, n_estimators=100;, score=0.333 total time=   0.0s\n",
      "[CV 4/5] END learning_rate=0.05, max_depth=5, min_samples_leaf=1, n_estimators=100;, score=0.400 total time=   0.0s\n",
      "[CV 5/5] END learning_rate=0.05, max_depth=5, min_samples_leaf=1, n_estimators=100;, score=0.450 total time=   0.0s\n",
      "[CV 1/5] END learning_rate=0.05, max_depth=5, min_samples_leaf=1, n_estimators=200;, score=0.333 total time=   0.0s\n",
      "[CV 2/5] END learning_rate=0.05, max_depth=5, min_samples_leaf=1, n_estimators=200;, score=0.381 total time=   0.0s\n",
      "[CV 3/5] END learning_rate=0.05, max_depth=5, min_samples_leaf=1, n_estimators=200;, score=0.333 total time=   0.0s\n",
      "[CV 4/5] END learning_rate=0.05, max_depth=5, min_samples_leaf=1, n_estimators=200;, score=0.500 total time=   0.0s\n",
      "[CV 5/5] END learning_rate=0.05, max_depth=5, min_samples_leaf=1, n_estimators=200;, score=0.450 total time=   0.0s\n",
      "[CV 1/5] END learning_rate=0.05, max_depth=5, min_samples_leaf=1, n_estimators=300;, score=0.333 total time=   0.1s\n",
      "[CV 2/5] END learning_rate=0.05, max_depth=5, min_samples_leaf=1, n_estimators=300;, score=0.429 total time=   0.1s\n",
      "[CV 3/5] END learning_rate=0.05, max_depth=5, min_samples_leaf=1, n_estimators=300;, score=0.333 total time=   0.1s\n",
      "[CV 4/5] END learning_rate=0.05, max_depth=5, min_samples_leaf=1, n_estimators=300;, score=0.500 total time=   0.1s\n",
      "[CV 5/5] END learning_rate=0.05, max_depth=5, min_samples_leaf=1, n_estimators=300;, score=0.450 total time=   0.1s\n",
      "[CV 1/5] END learning_rate=0.05, max_depth=5, min_samples_leaf=1, n_estimators=400;, score=0.333 total time=   0.3s\n"
     ]
    },
    {
     "name": "stdout",
     "output_type": "stream",
     "text": [
      "[CV 2/5] END learning_rate=0.05, max_depth=5, min_samples_leaf=1, n_estimators=400;, score=0.381 total time=   0.2s\n",
      "[CV 3/5] END learning_rate=0.05, max_depth=5, min_samples_leaf=1, n_estimators=400;, score=0.286 total time=   0.2s\n",
      "[CV 4/5] END learning_rate=0.05, max_depth=5, min_samples_leaf=1, n_estimators=400;, score=0.500 total time=   0.2s\n",
      "[CV 5/5] END learning_rate=0.05, max_depth=5, min_samples_leaf=1, n_estimators=400;, score=0.450 total time=   0.2s\n",
      "[CV 1/5] END learning_rate=0.05, max_depth=5, min_samples_leaf=2, n_estimators=100;, score=0.286 total time=   0.0s\n",
      "[CV 2/5] END learning_rate=0.05, max_depth=5, min_samples_leaf=2, n_estimators=100;, score=0.476 total time=   0.0s\n",
      "[CV 3/5] END learning_rate=0.05, max_depth=5, min_samples_leaf=2, n_estimators=100;, score=0.333 total time=   0.0s\n",
      "[CV 4/5] END learning_rate=0.05, max_depth=5, min_samples_leaf=2, n_estimators=100;, score=0.450 total time=   0.0s\n",
      "[CV 5/5] END learning_rate=0.05, max_depth=5, min_samples_leaf=2, n_estimators=100;, score=0.400 total time=   0.0s\n",
      "[CV 1/5] END learning_rate=0.05, max_depth=5, min_samples_leaf=2, n_estimators=200;, score=0.381 total time=   0.0s\n",
      "[CV 2/5] END learning_rate=0.05, max_depth=5, min_samples_leaf=2, n_estimators=200;, score=0.381 total time=   0.0s\n",
      "[CV 3/5] END learning_rate=0.05, max_depth=5, min_samples_leaf=2, n_estimators=200;, score=0.333 total time=   0.0s\n",
      "[CV 4/5] END learning_rate=0.05, max_depth=5, min_samples_leaf=2, n_estimators=200;, score=0.500 total time=   0.0s\n",
      "[CV 5/5] END learning_rate=0.05, max_depth=5, min_samples_leaf=2, n_estimators=200;, score=0.400 total time=   0.0s\n",
      "[CV 1/5] END learning_rate=0.05, max_depth=5, min_samples_leaf=2, n_estimators=300;, score=0.333 total time=   0.2s\n",
      "[CV 2/5] END learning_rate=0.05, max_depth=5, min_samples_leaf=2, n_estimators=300;, score=0.333 total time=   0.1s\n",
      "[CV 3/5] END learning_rate=0.05, max_depth=5, min_samples_leaf=2, n_estimators=300;, score=0.381 total time=   0.1s\n",
      "[CV 4/5] END learning_rate=0.05, max_depth=5, min_samples_leaf=2, n_estimators=300;, score=0.500 total time=   0.1s\n",
      "[CV 5/5] END learning_rate=0.05, max_depth=5, min_samples_leaf=2, n_estimators=300;, score=0.400 total time=   0.1s\n",
      "[CV 1/5] END learning_rate=0.05, max_depth=5, min_samples_leaf=2, n_estimators=400;, score=0.381 total time=   0.2s\n",
      "[CV 2/5] END learning_rate=0.05, max_depth=5, min_samples_leaf=2, n_estimators=400;, score=0.381 total time=   0.1s\n",
      "[CV 3/5] END learning_rate=0.05, max_depth=5, min_samples_leaf=2, n_estimators=400;, score=0.381 total time=   0.1s\n",
      "[CV 4/5] END learning_rate=0.05, max_depth=5, min_samples_leaf=2, n_estimators=400;, score=0.500 total time=   0.1s\n",
      "[CV 5/5] END learning_rate=0.05, max_depth=5, min_samples_leaf=2, n_estimators=400;, score=0.400 total time=   0.2s\n",
      "[CV 1/5] END learning_rate=0.05, max_depth=5, min_samples_leaf=3, n_estimators=100;, score=0.286 total time=   0.0s\n",
      "[CV 2/5] END learning_rate=0.05, max_depth=5, min_samples_leaf=3, n_estimators=100;, score=0.429 total time=   0.0s\n",
      "[CV 3/5] END learning_rate=0.05, max_depth=5, min_samples_leaf=3, n_estimators=100;, score=0.381 total time=   0.0s\n",
      "[CV 4/5] END learning_rate=0.05, max_depth=5, min_samples_leaf=3, n_estimators=100;, score=0.450 total time=   0.0s\n",
      "[CV 5/5] END learning_rate=0.05, max_depth=5, min_samples_leaf=3, n_estimators=100;, score=0.400 total time=   0.0s\n",
      "[CV 1/5] END learning_rate=0.05, max_depth=5, min_samples_leaf=3, n_estimators=200;, score=0.333 total time=   0.0s\n",
      "[CV 2/5] END learning_rate=0.05, max_depth=5, min_samples_leaf=3, n_estimators=200;, score=0.429 total time=   0.0s\n",
      "[CV 3/5] END learning_rate=0.05, max_depth=5, min_samples_leaf=3, n_estimators=200;, score=0.429 total time=   0.0s\n",
      "[CV 4/5] END learning_rate=0.05, max_depth=5, min_samples_leaf=3, n_estimators=200;, score=0.450 total time=   0.0s\n",
      "[CV 5/5] END learning_rate=0.05, max_depth=5, min_samples_leaf=3, n_estimators=200;, score=0.400 total time=   0.0s\n",
      "[CV 1/5] END learning_rate=0.05, max_depth=5, min_samples_leaf=3, n_estimators=300;, score=0.333 total time=   0.1s\n",
      "[CV 2/5] END learning_rate=0.05, max_depth=5, min_samples_leaf=3, n_estimators=300;, score=0.381 total time=   0.1s\n",
      "[CV 3/5] END learning_rate=0.05, max_depth=5, min_samples_leaf=3, n_estimators=300;, score=0.429 total time=   0.1s\n",
      "[CV 4/5] END learning_rate=0.05, max_depth=5, min_samples_leaf=3, n_estimators=300;, score=0.500 total time=   0.0s\n",
      "[CV 5/5] END learning_rate=0.05, max_depth=5, min_samples_leaf=3, n_estimators=300;, score=0.400 total time=   0.1s\n",
      "[CV 1/5] END learning_rate=0.05, max_depth=5, min_samples_leaf=3, n_estimators=400;, score=0.333 total time=   0.1s\n",
      "[CV 2/5] END learning_rate=0.05, max_depth=5, min_samples_leaf=3, n_estimators=400;, score=0.381 total time=   0.1s\n",
      "[CV 3/5] END learning_rate=0.05, max_depth=5, min_samples_leaf=3, n_estimators=400;, score=0.476 total time=   0.1s\n",
      "[CV 4/5] END learning_rate=0.05, max_depth=5, min_samples_leaf=3, n_estimators=400;, score=0.450 total time=   0.1s\n",
      "[CV 5/5] END learning_rate=0.05, max_depth=5, min_samples_leaf=3, n_estimators=400;, score=0.350 total time=   0.1s\n",
      "[CV 1/5] END learning_rate=0.05, max_depth=5, min_samples_leaf=4, n_estimators=100;, score=0.333 total time=   0.0s\n",
      "[CV 2/5] END learning_rate=0.05, max_depth=5, min_samples_leaf=4, n_estimators=100;, score=0.429 total time=   0.0s\n",
      "[CV 3/5] END learning_rate=0.05, max_depth=5, min_samples_leaf=4, n_estimators=100;, score=0.333 total time=   0.0s\n",
      "[CV 4/5] END learning_rate=0.05, max_depth=5, min_samples_leaf=4, n_estimators=100;, score=0.550 total time=   0.0s\n",
      "[CV 5/5] END learning_rate=0.05, max_depth=5, min_samples_leaf=4, n_estimators=100;, score=0.400 total time=   0.0s\n",
      "[CV 1/5] END learning_rate=0.05, max_depth=5, min_samples_leaf=4, n_estimators=200;, score=0.381 total time=   0.1s\n",
      "[CV 2/5] END learning_rate=0.05, max_depth=5, min_samples_leaf=4, n_estimators=200;, score=0.429 total time=   0.1s\n",
      "[CV 3/5] END learning_rate=0.05, max_depth=5, min_samples_leaf=4, n_estimators=200;, score=0.333 total time=   0.0s\n",
      "[CV 4/5] END learning_rate=0.05, max_depth=5, min_samples_leaf=4, n_estimators=200;, score=0.500 total time=   0.0s\n",
      "[CV 5/5] END learning_rate=0.05, max_depth=5, min_samples_leaf=4, n_estimators=200;, score=0.400 total time=   0.0s\n",
      "[CV 1/5] END learning_rate=0.05, max_depth=5, min_samples_leaf=4, n_estimators=300;, score=0.333 total time=   0.1s\n",
      "[CV 2/5] END learning_rate=0.05, max_depth=5, min_samples_leaf=4, n_estimators=300;, score=0.429 total time=   0.1s\n",
      "[CV 3/5] END learning_rate=0.05, max_depth=5, min_samples_leaf=4, n_estimators=300;, score=0.333 total time=   0.0s\n",
      "[CV 4/5] END learning_rate=0.05, max_depth=5, min_samples_leaf=4, n_estimators=300;, score=0.550 total time=   0.0s\n",
      "[CV 5/5] END learning_rate=0.05, max_depth=5, min_samples_leaf=4, n_estimators=300;, score=0.400 total time=   0.0s\n",
      "[CV 1/5] END learning_rate=0.05, max_depth=5, min_samples_leaf=4, n_estimators=400;, score=0.381 total time=   0.1s\n",
      "[CV 2/5] END learning_rate=0.05, max_depth=5, min_samples_leaf=4, n_estimators=400;, score=0.476 total time=   0.1s\n",
      "[CV 3/5] END learning_rate=0.05, max_depth=5, min_samples_leaf=4, n_estimators=400;, score=0.333 total time=   0.1s\n",
      "[CV 4/5] END learning_rate=0.05, max_depth=5, min_samples_leaf=4, n_estimators=400;, score=0.550 total time=   0.1s\n",
      "[CV 5/5] END learning_rate=0.05, max_depth=5, min_samples_leaf=4, n_estimators=400;, score=0.400 total time=   0.1s\n",
      "[CV 1/5] END learning_rate=0.1, max_depth=2, min_samples_leaf=1, n_estimators=100;, score=0.286 total time=   0.0s\n",
      "[CV 2/5] END learning_rate=0.1, max_depth=2, min_samples_leaf=1, n_estimators=100;, score=0.429 total time=   0.0s\n",
      "[CV 3/5] END learning_rate=0.1, max_depth=2, min_samples_leaf=1, n_estimators=100;, score=0.381 total time=   0.0s\n",
      "[CV 4/5] END learning_rate=0.1, max_depth=2, min_samples_leaf=1, n_estimators=100;, score=0.500 total time=   0.0s\n",
      "[CV 5/5] END learning_rate=0.1, max_depth=2, min_samples_leaf=1, n_estimators=100;, score=0.450 total time=   0.0s\n",
      "[CV 1/5] END learning_rate=0.1, max_depth=2, min_samples_leaf=1, n_estimators=200;, score=0.286 total time=   0.0s\n",
      "[CV 2/5] END learning_rate=0.1, max_depth=2, min_samples_leaf=1, n_estimators=200;, score=0.429 total time=   0.0s\n",
      "[CV 3/5] END learning_rate=0.1, max_depth=2, min_samples_leaf=1, n_estimators=200;, score=0.429 total time=   0.0s\n"
     ]
    },
    {
     "name": "stdout",
     "output_type": "stream",
     "text": [
      "[CV 4/5] END learning_rate=0.1, max_depth=2, min_samples_leaf=1, n_estimators=200;, score=0.450 total time=   0.0s\n",
      "[CV 5/5] END learning_rate=0.1, max_depth=2, min_samples_leaf=1, n_estimators=200;, score=0.500 total time=   0.0s\n",
      "[CV 1/5] END learning_rate=0.1, max_depth=2, min_samples_leaf=1, n_estimators=300;, score=0.333 total time=   0.0s\n",
      "[CV 2/5] END learning_rate=0.1, max_depth=2, min_samples_leaf=1, n_estimators=300;, score=0.429 total time=   0.0s\n",
      "[CV 3/5] END learning_rate=0.1, max_depth=2, min_samples_leaf=1, n_estimators=300;, score=0.381 total time=   0.0s\n",
      "[CV 4/5] END learning_rate=0.1, max_depth=2, min_samples_leaf=1, n_estimators=300;, score=0.400 total time=   0.0s\n",
      "[CV 5/5] END learning_rate=0.1, max_depth=2, min_samples_leaf=1, n_estimators=300;, score=0.500 total time=   0.0s\n",
      "[CV 1/5] END learning_rate=0.1, max_depth=2, min_samples_leaf=1, n_estimators=400;, score=0.333 total time=   0.0s\n",
      "[CV 2/5] END learning_rate=0.1, max_depth=2, min_samples_leaf=1, n_estimators=400;, score=0.381 total time=   0.0s\n",
      "[CV 3/5] END learning_rate=0.1, max_depth=2, min_samples_leaf=1, n_estimators=400;, score=0.381 total time=   0.0s\n",
      "[CV 4/5] END learning_rate=0.1, max_depth=2, min_samples_leaf=1, n_estimators=400;, score=0.300 total time=   0.0s\n",
      "[CV 5/5] END learning_rate=0.1, max_depth=2, min_samples_leaf=1, n_estimators=400;, score=0.450 total time=   0.0s\n",
      "[CV 1/5] END learning_rate=0.1, max_depth=2, min_samples_leaf=2, n_estimators=100;, score=0.333 total time=   0.0s\n",
      "[CV 2/5] END learning_rate=0.1, max_depth=2, min_samples_leaf=2, n_estimators=100;, score=0.381 total time=   0.0s\n",
      "[CV 3/5] END learning_rate=0.1, max_depth=2, min_samples_leaf=2, n_estimators=100;, score=0.381 total time=   0.0s\n",
      "[CV 4/5] END learning_rate=0.1, max_depth=2, min_samples_leaf=2, n_estimators=100;, score=0.500 total time=   0.0s\n",
      "[CV 5/5] END learning_rate=0.1, max_depth=2, min_samples_leaf=2, n_estimators=100;, score=0.450 total time=   0.0s\n",
      "[CV 1/5] END learning_rate=0.1, max_depth=2, min_samples_leaf=2, n_estimators=200;, score=0.333 total time=   0.0s\n",
      "[CV 2/5] END learning_rate=0.1, max_depth=2, min_samples_leaf=2, n_estimators=200;, score=0.381 total time=   0.0s\n",
      "[CV 3/5] END learning_rate=0.1, max_depth=2, min_samples_leaf=2, n_estimators=200;, score=0.381 total time=   0.0s\n",
      "[CV 4/5] END learning_rate=0.1, max_depth=2, min_samples_leaf=2, n_estimators=200;, score=0.450 total time=   0.0s\n",
      "[CV 5/5] END learning_rate=0.1, max_depth=2, min_samples_leaf=2, n_estimators=200;, score=0.500 total time=   0.0s\n",
      "[CV 1/5] END learning_rate=0.1, max_depth=2, min_samples_leaf=2, n_estimators=300;, score=0.381 total time=   0.0s\n",
      "[CV 2/5] END learning_rate=0.1, max_depth=2, min_samples_leaf=2, n_estimators=300;, score=0.381 total time=   0.0s\n",
      "[CV 3/5] END learning_rate=0.1, max_depth=2, min_samples_leaf=2, n_estimators=300;, score=0.429 total time=   0.0s\n",
      "[CV 4/5] END learning_rate=0.1, max_depth=2, min_samples_leaf=2, n_estimators=300;, score=0.500 total time=   0.0s\n",
      "[CV 5/5] END learning_rate=0.1, max_depth=2, min_samples_leaf=2, n_estimators=300;, score=0.500 total time=   0.0s\n",
      "[CV 1/5] END learning_rate=0.1, max_depth=2, min_samples_leaf=2, n_estimators=400;, score=0.333 total time=   0.0s\n",
      "[CV 2/5] END learning_rate=0.1, max_depth=2, min_samples_leaf=2, n_estimators=400;, score=0.381 total time=   0.0s\n",
      "[CV 3/5] END learning_rate=0.1, max_depth=2, min_samples_leaf=2, n_estimators=400;, score=0.429 total time=   0.0s\n",
      "[CV 4/5] END learning_rate=0.1, max_depth=2, min_samples_leaf=2, n_estimators=400;, score=0.350 total time=   0.0s\n",
      "[CV 5/5] END learning_rate=0.1, max_depth=2, min_samples_leaf=2, n_estimators=400;, score=0.500 total time=   0.0s\n",
      "[CV 1/5] END learning_rate=0.1, max_depth=2, min_samples_leaf=3, n_estimators=100;, score=0.333 total time=   0.0s\n",
      "[CV 2/5] END learning_rate=0.1, max_depth=2, min_samples_leaf=3, n_estimators=100;, score=0.381 total time=   0.0s\n",
      "[CV 3/5] END learning_rate=0.1, max_depth=2, min_samples_leaf=3, n_estimators=100;, score=0.429 total time=   0.0s\n",
      "[CV 4/5] END learning_rate=0.1, max_depth=2, min_samples_leaf=3, n_estimators=100;, score=0.550 total time=   0.0s\n",
      "[CV 5/5] END learning_rate=0.1, max_depth=2, min_samples_leaf=3, n_estimators=100;, score=0.450 total time=   0.0s\n",
      "[CV 1/5] END learning_rate=0.1, max_depth=2, min_samples_leaf=3, n_estimators=200;, score=0.333 total time=   0.0s\n",
      "[CV 2/5] END learning_rate=0.1, max_depth=2, min_samples_leaf=3, n_estimators=200;, score=0.381 total time=   0.0s\n",
      "[CV 3/5] END learning_rate=0.1, max_depth=2, min_samples_leaf=3, n_estimators=200;, score=0.476 total time=   0.0s\n",
      "[CV 4/5] END learning_rate=0.1, max_depth=2, min_samples_leaf=3, n_estimators=200;, score=0.450 total time=   0.0s\n",
      "[CV 5/5] END learning_rate=0.1, max_depth=2, min_samples_leaf=3, n_estimators=200;, score=0.450 total time=   0.0s\n",
      "[CV 1/5] END learning_rate=0.1, max_depth=2, min_samples_leaf=3, n_estimators=300;, score=0.333 total time=   0.0s\n",
      "[CV 2/5] END learning_rate=0.1, max_depth=2, min_samples_leaf=3, n_estimators=300;, score=0.381 total time=   0.0s\n",
      "[CV 3/5] END learning_rate=0.1, max_depth=2, min_samples_leaf=3, n_estimators=300;, score=0.476 total time=   0.0s\n",
      "[CV 4/5] END learning_rate=0.1, max_depth=2, min_samples_leaf=3, n_estimators=300;, score=0.500 total time=   0.1s\n",
      "[CV 5/5] END learning_rate=0.1, max_depth=2, min_samples_leaf=3, n_estimators=300;, score=0.450 total time=   0.0s\n",
      "[CV 1/5] END learning_rate=0.1, max_depth=2, min_samples_leaf=3, n_estimators=400;, score=0.333 total time=   0.0s\n",
      "[CV 2/5] END learning_rate=0.1, max_depth=2, min_samples_leaf=3, n_estimators=400;, score=0.381 total time=   0.0s\n",
      "[CV 3/5] END learning_rate=0.1, max_depth=2, min_samples_leaf=3, n_estimators=400;, score=0.429 total time=   0.0s\n",
      "[CV 4/5] END learning_rate=0.1, max_depth=2, min_samples_leaf=3, n_estimators=400;, score=0.400 total time=   0.0s\n",
      "[CV 5/5] END learning_rate=0.1, max_depth=2, min_samples_leaf=3, n_estimators=400;, score=0.400 total time=   0.0s\n",
      "[CV 1/5] END learning_rate=0.1, max_depth=2, min_samples_leaf=4, n_estimators=100;, score=0.381 total time=   0.0s\n",
      "[CV 2/5] END learning_rate=0.1, max_depth=2, min_samples_leaf=4, n_estimators=100;, score=0.381 total time=   0.0s\n",
      "[CV 3/5] END learning_rate=0.1, max_depth=2, min_samples_leaf=4, n_estimators=100;, score=0.476 total time=   0.0s\n",
      "[CV 4/5] END learning_rate=0.1, max_depth=2, min_samples_leaf=4, n_estimators=100;, score=0.550 total time=   0.0s\n",
      "[CV 5/5] END learning_rate=0.1, max_depth=2, min_samples_leaf=4, n_estimators=100;, score=0.450 total time=   0.0s\n",
      "[CV 1/5] END learning_rate=0.1, max_depth=2, min_samples_leaf=4, n_estimators=200;, score=0.333 total time=   0.0s\n",
      "[CV 2/5] END learning_rate=0.1, max_depth=2, min_samples_leaf=4, n_estimators=200;, score=0.381 total time=   0.0s\n",
      "[CV 3/5] END learning_rate=0.1, max_depth=2, min_samples_leaf=4, n_estimators=200;, score=0.524 total time=   0.0s\n",
      "[CV 4/5] END learning_rate=0.1, max_depth=2, min_samples_leaf=4, n_estimators=200;, score=0.600 total time=   0.0s\n",
      "[CV 5/5] END learning_rate=0.1, max_depth=2, min_samples_leaf=4, n_estimators=200;, score=0.400 total time=   0.0s\n",
      "[CV 1/5] END learning_rate=0.1, max_depth=2, min_samples_leaf=4, n_estimators=300;, score=0.333 total time=   0.0s\n",
      "[CV 2/5] END learning_rate=0.1, max_depth=2, min_samples_leaf=4, n_estimators=300;, score=0.381 total time=   0.0s\n",
      "[CV 3/5] END learning_rate=0.1, max_depth=2, min_samples_leaf=4, n_estimators=300;, score=0.429 total time=   0.0s\n",
      "[CV 4/5] END learning_rate=0.1, max_depth=2, min_samples_leaf=4, n_estimators=300;, score=0.650 total time=   0.0s\n",
      "[CV 5/5] END learning_rate=0.1, max_depth=2, min_samples_leaf=4, n_estimators=300;, score=0.400 total time=   0.0s\n",
      "[CV 1/5] END learning_rate=0.1, max_depth=2, min_samples_leaf=4, n_estimators=400;, score=0.333 total time=   0.0s\n",
      "[CV 2/5] END learning_rate=0.1, max_depth=2, min_samples_leaf=4, n_estimators=400;, score=0.381 total time=   0.0s\n",
      "[CV 3/5] END learning_rate=0.1, max_depth=2, min_samples_leaf=4, n_estimators=400;, score=0.429 total time=   0.0s\n",
      "[CV 4/5] END learning_rate=0.1, max_depth=2, min_samples_leaf=4, n_estimators=400;, score=0.550 total time=   0.0s\n",
      "[CV 5/5] END learning_rate=0.1, max_depth=2, min_samples_leaf=4, n_estimators=400;, score=0.350 total time=   0.0s\n",
      "[CV 1/5] END learning_rate=0.1, max_depth=3, min_samples_leaf=1, n_estimators=100;, score=0.333 total time=   0.0s\n",
      "[CV 2/5] END learning_rate=0.1, max_depth=3, min_samples_leaf=1, n_estimators=100;, score=0.524 total time=   0.0s\n",
      "[CV 3/5] END learning_rate=0.1, max_depth=3, min_samples_leaf=1, n_estimators=100;, score=0.286 total time=   0.0s\n",
      "[CV 4/5] END learning_rate=0.1, max_depth=3, min_samples_leaf=1, n_estimators=100;, score=0.500 total time=   0.0s\n",
      "[CV 5/5] END learning_rate=0.1, max_depth=3, min_samples_leaf=1, n_estimators=100;, score=0.450 total time=   0.0s\n"
     ]
    },
    {
     "name": "stdout",
     "output_type": "stream",
     "text": [
      "[CV 1/5] END learning_rate=0.1, max_depth=3, min_samples_leaf=1, n_estimators=200;, score=0.381 total time=   0.0s\n",
      "[CV 2/5] END learning_rate=0.1, max_depth=3, min_samples_leaf=1, n_estimators=200;, score=0.524 total time=   0.0s\n",
      "[CV 3/5] END learning_rate=0.1, max_depth=3, min_samples_leaf=1, n_estimators=200;, score=0.286 total time=   0.0s\n",
      "[CV 4/5] END learning_rate=0.1, max_depth=3, min_samples_leaf=1, n_estimators=200;, score=0.500 total time=   0.0s\n",
      "[CV 5/5] END learning_rate=0.1, max_depth=3, min_samples_leaf=1, n_estimators=200;, score=0.400 total time=   0.0s\n",
      "[CV 1/5] END learning_rate=0.1, max_depth=3, min_samples_leaf=1, n_estimators=300;, score=0.381 total time=   0.0s\n",
      "[CV 2/5] END learning_rate=0.1, max_depth=3, min_samples_leaf=1, n_estimators=300;, score=0.524 total time=   0.1s\n",
      "[CV 3/5] END learning_rate=0.1, max_depth=3, min_samples_leaf=1, n_estimators=300;, score=0.286 total time=   0.0s\n",
      "[CV 4/5] END learning_rate=0.1, max_depth=3, min_samples_leaf=1, n_estimators=300;, score=0.550 total time=   0.0s\n",
      "[CV 5/5] END learning_rate=0.1, max_depth=3, min_samples_leaf=1, n_estimators=300;, score=0.450 total time=   0.0s\n",
      "[CV 1/5] END learning_rate=0.1, max_depth=3, min_samples_leaf=1, n_estimators=400;, score=0.429 total time=   0.1s\n",
      "[CV 2/5] END learning_rate=0.1, max_depth=3, min_samples_leaf=1, n_estimators=400;, score=0.524 total time=   0.1s\n",
      "[CV 3/5] END learning_rate=0.1, max_depth=3, min_samples_leaf=1, n_estimators=400;, score=0.381 total time=   0.1s\n",
      "[CV 4/5] END learning_rate=0.1, max_depth=3, min_samples_leaf=1, n_estimators=400;, score=0.600 total time=   0.1s\n",
      "[CV 5/5] END learning_rate=0.1, max_depth=3, min_samples_leaf=1, n_estimators=400;, score=0.450 total time=   0.1s\n",
      "[CV 1/5] END learning_rate=0.1, max_depth=3, min_samples_leaf=2, n_estimators=100;, score=0.333 total time=   0.0s\n",
      "[CV 2/5] END learning_rate=0.1, max_depth=3, min_samples_leaf=2, n_estimators=100;, score=0.429 total time=   0.0s\n",
      "[CV 3/5] END learning_rate=0.1, max_depth=3, min_samples_leaf=2, n_estimators=100;, score=0.286 total time=   0.0s\n",
      "[CV 4/5] END learning_rate=0.1, max_depth=3, min_samples_leaf=2, n_estimators=100;, score=0.400 total time=   0.0s\n",
      "[CV 5/5] END learning_rate=0.1, max_depth=3, min_samples_leaf=2, n_estimators=100;, score=0.400 total time=   0.0s\n",
      "[CV 1/5] END learning_rate=0.1, max_depth=3, min_samples_leaf=2, n_estimators=200;, score=0.381 total time=   0.0s\n",
      "[CV 2/5] END learning_rate=0.1, max_depth=3, min_samples_leaf=2, n_estimators=200;, score=0.429 total time=   0.0s\n",
      "[CV 3/5] END learning_rate=0.1, max_depth=3, min_samples_leaf=2, n_estimators=200;, score=0.333 total time=   0.0s\n",
      "[CV 4/5] END learning_rate=0.1, max_depth=3, min_samples_leaf=2, n_estimators=200;, score=0.400 total time=   0.0s\n",
      "[CV 5/5] END learning_rate=0.1, max_depth=3, min_samples_leaf=2, n_estimators=200;, score=0.400 total time=   0.0s\n",
      "[CV 1/5] END learning_rate=0.1, max_depth=3, min_samples_leaf=2, n_estimators=300;, score=0.381 total time=   0.0s\n",
      "[CV 2/5] END learning_rate=0.1, max_depth=3, min_samples_leaf=2, n_estimators=300;, score=0.429 total time=   0.0s\n",
      "[CV 3/5] END learning_rate=0.1, max_depth=3, min_samples_leaf=2, n_estimators=300;, score=0.333 total time=   0.0s\n",
      "[CV 4/5] END learning_rate=0.1, max_depth=3, min_samples_leaf=2, n_estimators=300;, score=0.400 total time=   0.0s\n",
      "[CV 5/5] END learning_rate=0.1, max_depth=3, min_samples_leaf=2, n_estimators=300;, score=0.400 total time=   0.0s\n",
      "[CV 1/5] END learning_rate=0.1, max_depth=3, min_samples_leaf=2, n_estimators=400;, score=0.381 total time=   0.1s\n",
      "[CV 2/5] END learning_rate=0.1, max_depth=3, min_samples_leaf=2, n_estimators=400;, score=0.429 total time=   0.1s\n",
      "[CV 3/5] END learning_rate=0.1, max_depth=3, min_samples_leaf=2, n_estimators=400;, score=0.333 total time=   0.1s\n",
      "[CV 4/5] END learning_rate=0.1, max_depth=3, min_samples_leaf=2, n_estimators=400;, score=0.500 total time=   0.1s\n",
      "[CV 5/5] END learning_rate=0.1, max_depth=3, min_samples_leaf=2, n_estimators=400;, score=0.400 total time=   0.1s\n",
      "[CV 1/5] END learning_rate=0.1, max_depth=3, min_samples_leaf=3, n_estimators=100;, score=0.381 total time=   0.0s\n",
      "[CV 2/5] END learning_rate=0.1, max_depth=3, min_samples_leaf=3, n_estimators=100;, score=0.476 total time=   0.0s\n",
      "[CV 3/5] END learning_rate=0.1, max_depth=3, min_samples_leaf=3, n_estimators=100;, score=0.381 total time=   0.0s\n",
      "[CV 4/5] END learning_rate=0.1, max_depth=3, min_samples_leaf=3, n_estimators=100;, score=0.400 total time=   0.0s\n",
      "[CV 5/5] END learning_rate=0.1, max_depth=3, min_samples_leaf=3, n_estimators=100;, score=0.400 total time=   0.0s\n",
      "[CV 1/5] END learning_rate=0.1, max_depth=3, min_samples_leaf=3, n_estimators=200;, score=0.333 total time=   0.0s\n",
      "[CV 2/5] END learning_rate=0.1, max_depth=3, min_samples_leaf=3, n_estimators=200;, score=0.429 total time=   0.0s\n",
      "[CV 3/5] END learning_rate=0.1, max_depth=3, min_samples_leaf=3, n_estimators=200;, score=0.333 total time=   0.0s\n",
      "[CV 4/5] END learning_rate=0.1, max_depth=3, min_samples_leaf=3, n_estimators=200;, score=0.500 total time=   0.0s\n",
      "[CV 5/5] END learning_rate=0.1, max_depth=3, min_samples_leaf=3, n_estimators=200;, score=0.400 total time=   0.0s\n",
      "[CV 1/5] END learning_rate=0.1, max_depth=3, min_samples_leaf=3, n_estimators=300;, score=0.333 total time=   0.0s\n",
      "[CV 2/5] END learning_rate=0.1, max_depth=3, min_samples_leaf=3, n_estimators=300;, score=0.429 total time=   0.0s\n",
      "[CV 3/5] END learning_rate=0.1, max_depth=3, min_samples_leaf=3, n_estimators=300;, score=0.381 total time=   0.0s\n",
      "[CV 4/5] END learning_rate=0.1, max_depth=3, min_samples_leaf=3, n_estimators=300;, score=0.450 total time=   0.0s\n",
      "[CV 5/5] END learning_rate=0.1, max_depth=3, min_samples_leaf=3, n_estimators=300;, score=0.400 total time=   0.1s\n",
      "[CV 1/5] END learning_rate=0.1, max_depth=3, min_samples_leaf=3, n_estimators=400;, score=0.333 total time=   0.0s\n",
      "[CV 2/5] END learning_rate=0.1, max_depth=3, min_samples_leaf=3, n_estimators=400;, score=0.381 total time=   0.1s\n",
      "[CV 3/5] END learning_rate=0.1, max_depth=3, min_samples_leaf=3, n_estimators=400;, score=0.381 total time=   0.1s\n",
      "[CV 4/5] END learning_rate=0.1, max_depth=3, min_samples_leaf=3, n_estimators=400;, score=0.450 total time=   0.0s\n",
      "[CV 5/5] END learning_rate=0.1, max_depth=3, min_samples_leaf=3, n_estimators=400;, score=0.400 total time=   0.1s\n",
      "[CV 1/5] END learning_rate=0.1, max_depth=3, min_samples_leaf=4, n_estimators=100;, score=0.333 total time=   0.0s\n",
      "[CV 2/5] END learning_rate=0.1, max_depth=3, min_samples_leaf=4, n_estimators=100;, score=0.476 total time=   0.0s\n",
      "[CV 3/5] END learning_rate=0.1, max_depth=3, min_samples_leaf=4, n_estimators=100;, score=0.429 total time=   0.0s\n",
      "[CV 4/5] END learning_rate=0.1, max_depth=3, min_samples_leaf=4, n_estimators=100;, score=0.500 total time=   0.0s\n",
      "[CV 5/5] END learning_rate=0.1, max_depth=3, min_samples_leaf=4, n_estimators=100;, score=0.400 total time=   0.0s\n",
      "[CV 1/5] END learning_rate=0.1, max_depth=3, min_samples_leaf=4, n_estimators=200;, score=0.429 total time=   0.0s\n",
      "[CV 2/5] END learning_rate=0.1, max_depth=3, min_samples_leaf=4, n_estimators=200;, score=0.429 total time=   0.0s\n",
      "[CV 3/5] END learning_rate=0.1, max_depth=3, min_samples_leaf=4, n_estimators=200;, score=0.381 total time=   0.0s\n",
      "[CV 4/5] END learning_rate=0.1, max_depth=3, min_samples_leaf=4, n_estimators=200;, score=0.600 total time=   0.0s\n",
      "[CV 5/5] END learning_rate=0.1, max_depth=3, min_samples_leaf=4, n_estimators=200;, score=0.400 total time=   0.0s\n",
      "[CV 1/5] END learning_rate=0.1, max_depth=3, min_samples_leaf=4, n_estimators=300;, score=0.429 total time=   0.0s\n",
      "[CV 2/5] END learning_rate=0.1, max_depth=3, min_samples_leaf=4, n_estimators=300;, score=0.429 total time=   0.0s\n",
      "[CV 3/5] END learning_rate=0.1, max_depth=3, min_samples_leaf=4, n_estimators=300;, score=0.333 total time=   0.0s\n",
      "[CV 4/5] END learning_rate=0.1, max_depth=3, min_samples_leaf=4, n_estimators=300;, score=0.600 total time=   0.0s\n",
      "[CV 5/5] END learning_rate=0.1, max_depth=3, min_samples_leaf=4, n_estimators=300;, score=0.400 total time=   0.0s\n",
      "[CV 1/5] END learning_rate=0.1, max_depth=3, min_samples_leaf=4, n_estimators=400;, score=0.381 total time=   0.0s\n",
      "[CV 2/5] END learning_rate=0.1, max_depth=3, min_samples_leaf=4, n_estimators=400;, score=0.429 total time=   0.1s\n"
     ]
    },
    {
     "name": "stdout",
     "output_type": "stream",
     "text": [
      "[CV 3/5] END learning_rate=0.1, max_depth=3, min_samples_leaf=4, n_estimators=400;, score=0.333 total time=   0.1s\n",
      "[CV 4/5] END learning_rate=0.1, max_depth=3, min_samples_leaf=4, n_estimators=400;, score=0.500 total time=   0.0s\n",
      "[CV 5/5] END learning_rate=0.1, max_depth=3, min_samples_leaf=4, n_estimators=400;, score=0.400 total time=   0.1s\n",
      "[CV 1/5] END learning_rate=0.1, max_depth=4, min_samples_leaf=1, n_estimators=100;, score=0.333 total time=   0.0s\n",
      "[CV 2/5] END learning_rate=0.1, max_depth=4, min_samples_leaf=1, n_estimators=100;, score=0.429 total time=   0.0s\n",
      "[CV 3/5] END learning_rate=0.1, max_depth=4, min_samples_leaf=1, n_estimators=100;, score=0.333 total time=   0.0s\n",
      "[CV 4/5] END learning_rate=0.1, max_depth=4, min_samples_leaf=1, n_estimators=100;, score=0.450 total time=   0.0s\n",
      "[CV 5/5] END learning_rate=0.1, max_depth=4, min_samples_leaf=1, n_estimators=100;, score=0.450 total time=   0.0s\n",
      "[CV 1/5] END learning_rate=0.1, max_depth=4, min_samples_leaf=1, n_estimators=200;, score=0.333 total time=   0.0s\n",
      "[CV 2/5] END learning_rate=0.1, max_depth=4, min_samples_leaf=1, n_estimators=200;, score=0.381 total time=   0.0s\n",
      "[CV 3/5] END learning_rate=0.1, max_depth=4, min_samples_leaf=1, n_estimators=200;, score=0.238 total time=   0.0s\n",
      "[CV 4/5] END learning_rate=0.1, max_depth=4, min_samples_leaf=1, n_estimators=200;, score=0.400 total time=   0.0s\n",
      "[CV 5/5] END learning_rate=0.1, max_depth=4, min_samples_leaf=1, n_estimators=200;, score=0.450 total time=   0.0s\n",
      "[CV 1/5] END learning_rate=0.1, max_depth=4, min_samples_leaf=1, n_estimators=300;, score=0.333 total time=   0.1s\n",
      "[CV 2/5] END learning_rate=0.1, max_depth=4, min_samples_leaf=1, n_estimators=300;, score=0.429 total time=   0.1s\n",
      "[CV 3/5] END learning_rate=0.1, max_depth=4, min_samples_leaf=1, n_estimators=300;, score=0.333 total time=   0.1s\n",
      "[CV 4/5] END learning_rate=0.1, max_depth=4, min_samples_leaf=1, n_estimators=300;, score=0.550 total time=   0.2s\n",
      "[CV 5/5] END learning_rate=0.1, max_depth=4, min_samples_leaf=1, n_estimators=300;, score=0.450 total time=   0.0s\n",
      "[CV 1/5] END learning_rate=0.1, max_depth=4, min_samples_leaf=1, n_estimators=400;, score=0.333 total time=   0.1s\n",
      "[CV 2/5] END learning_rate=0.1, max_depth=4, min_samples_leaf=1, n_estimators=400;, score=0.381 total time=   0.1s\n",
      "[CV 3/5] END learning_rate=0.1, max_depth=4, min_samples_leaf=1, n_estimators=400;, score=0.286 total time=   0.3s\n",
      "[CV 4/5] END learning_rate=0.1, max_depth=4, min_samples_leaf=1, n_estimators=400;, score=0.550 total time=   0.1s\n",
      "[CV 5/5] END learning_rate=0.1, max_depth=4, min_samples_leaf=1, n_estimators=400;, score=0.450 total time=   0.1s\n",
      "[CV 1/5] END learning_rate=0.1, max_depth=4, min_samples_leaf=2, n_estimators=100;, score=0.381 total time=   0.0s\n",
      "[CV 2/5] END learning_rate=0.1, max_depth=4, min_samples_leaf=2, n_estimators=100;, score=0.429 total time=   0.0s\n",
      "[CV 3/5] END learning_rate=0.1, max_depth=4, min_samples_leaf=2, n_estimators=100;, score=0.333 total time=   0.0s\n",
      "[CV 4/5] END learning_rate=0.1, max_depth=4, min_samples_leaf=2, n_estimators=100;, score=0.500 total time=   0.0s\n",
      "[CV 5/5] END learning_rate=0.1, max_depth=4, min_samples_leaf=2, n_estimators=100;, score=0.400 total time=   0.0s\n",
      "[CV 1/5] END learning_rate=0.1, max_depth=4, min_samples_leaf=2, n_estimators=200;, score=0.333 total time=   0.0s\n",
      "[CV 2/5] END learning_rate=0.1, max_depth=4, min_samples_leaf=2, n_estimators=200;, score=0.429 total time=   0.0s\n",
      "[CV 3/5] END learning_rate=0.1, max_depth=4, min_samples_leaf=2, n_estimators=200;, score=0.333 total time=   0.0s\n",
      "[CV 4/5] END learning_rate=0.1, max_depth=4, min_samples_leaf=2, n_estimators=200;, score=0.500 total time=   0.1s\n",
      "[CV 5/5] END learning_rate=0.1, max_depth=4, min_samples_leaf=2, n_estimators=200;, score=0.400 total time=   0.0s\n",
      "[CV 1/5] END learning_rate=0.1, max_depth=4, min_samples_leaf=2, n_estimators=300;, score=0.238 total time=   0.0s\n",
      "[CV 2/5] END learning_rate=0.1, max_depth=4, min_samples_leaf=2, n_estimators=300;, score=0.381 total time=   0.0s\n",
      "[CV 3/5] END learning_rate=0.1, max_depth=4, min_samples_leaf=2, n_estimators=300;, score=0.381 total time=   0.0s\n",
      "[CV 4/5] END learning_rate=0.1, max_depth=4, min_samples_leaf=2, n_estimators=300;, score=0.500 total time=   0.1s\n",
      "[CV 5/5] END learning_rate=0.1, max_depth=4, min_samples_leaf=2, n_estimators=300;, score=0.400 total time=   0.1s\n",
      "[CV 1/5] END learning_rate=0.1, max_depth=4, min_samples_leaf=2, n_estimators=400;, score=0.333 total time=   0.1s\n",
      "[CV 2/5] END learning_rate=0.1, max_depth=4, min_samples_leaf=2, n_estimators=400;, score=0.333 total time=   0.1s\n",
      "[CV 3/5] END learning_rate=0.1, max_depth=4, min_samples_leaf=2, n_estimators=400;, score=0.333 total time=   0.1s\n",
      "[CV 4/5] END learning_rate=0.1, max_depth=4, min_samples_leaf=2, n_estimators=400;, score=0.500 total time=   0.1s\n",
      "[CV 5/5] END learning_rate=0.1, max_depth=4, min_samples_leaf=2, n_estimators=400;, score=0.400 total time=   0.1s\n",
      "[CV 1/5] END learning_rate=0.1, max_depth=4, min_samples_leaf=3, n_estimators=100;, score=0.333 total time=   0.0s\n",
      "[CV 2/5] END learning_rate=0.1, max_depth=4, min_samples_leaf=3, n_estimators=100;, score=0.381 total time=   0.0s\n",
      "[CV 3/5] END learning_rate=0.1, max_depth=4, min_samples_leaf=3, n_estimators=100;, score=0.429 total time=   0.0s\n",
      "[CV 4/5] END learning_rate=0.1, max_depth=4, min_samples_leaf=3, n_estimators=100;, score=0.400 total time=   0.0s\n",
      "[CV 5/5] END learning_rate=0.1, max_depth=4, min_samples_leaf=3, n_estimators=100;, score=0.400 total time=   0.0s\n",
      "[CV 1/5] END learning_rate=0.1, max_depth=4, min_samples_leaf=3, n_estimators=200;, score=0.381 total time=   0.0s\n",
      "[CV 2/5] END learning_rate=0.1, max_depth=4, min_samples_leaf=3, n_estimators=200;, score=0.381 total time=   0.0s\n",
      "[CV 3/5] END learning_rate=0.1, max_depth=4, min_samples_leaf=3, n_estimators=200;, score=0.333 total time=   0.0s\n",
      "[CV 4/5] END learning_rate=0.1, max_depth=4, min_samples_leaf=3, n_estimators=200;, score=0.450 total time=   0.0s\n",
      "[CV 5/5] END learning_rate=0.1, max_depth=4, min_samples_leaf=3, n_estimators=200;, score=0.400 total time=   0.0s\n",
      "[CV 1/5] END learning_rate=0.1, max_depth=4, min_samples_leaf=3, n_estimators=300;, score=0.333 total time=   0.1s\n",
      "[CV 2/5] END learning_rate=0.1, max_depth=4, min_samples_leaf=3, n_estimators=300;, score=0.381 total time=   0.0s\n",
      "[CV 3/5] END learning_rate=0.1, max_depth=4, min_samples_leaf=3, n_estimators=300;, score=0.381 total time=   0.1s\n",
      "[CV 4/5] END learning_rate=0.1, max_depth=4, min_samples_leaf=3, n_estimators=300;, score=0.450 total time=   0.0s\n",
      "[CV 5/5] END learning_rate=0.1, max_depth=4, min_samples_leaf=3, n_estimators=300;, score=0.400 total time=   0.0s\n",
      "[CV 1/5] END learning_rate=0.1, max_depth=4, min_samples_leaf=3, n_estimators=400;, score=0.333 total time=   0.1s\n",
      "[CV 2/5] END learning_rate=0.1, max_depth=4, min_samples_leaf=3, n_estimators=400;, score=0.381 total time=   0.1s\n",
      "[CV 3/5] END learning_rate=0.1, max_depth=4, min_samples_leaf=3, n_estimators=400;, score=0.381 total time=   0.1s\n",
      "[CV 4/5] END learning_rate=0.1, max_depth=4, min_samples_leaf=3, n_estimators=400;, score=0.400 total time=   0.2s\n",
      "[CV 5/5] END learning_rate=0.1, max_depth=4, min_samples_leaf=3, n_estimators=400;, score=0.400 total time=   0.1s\n",
      "[CV 1/5] END learning_rate=0.1, max_depth=4, min_samples_leaf=4, n_estimators=100;, score=0.333 total time=   0.0s\n",
      "[CV 2/5] END learning_rate=0.1, max_depth=4, min_samples_leaf=4, n_estimators=100;, score=0.429 total time=   0.0s\n",
      "[CV 3/5] END learning_rate=0.1, max_depth=4, min_samples_leaf=4, n_estimators=100;, score=0.333 total time=   0.0s\n",
      "[CV 4/5] END learning_rate=0.1, max_depth=4, min_samples_leaf=4, n_estimators=100;, score=0.600 total time=   0.0s\n",
      "[CV 5/5] END learning_rate=0.1, max_depth=4, min_samples_leaf=4, n_estimators=100;, score=0.400 total time=   0.0s\n",
      "[CV 1/5] END learning_rate=0.1, max_depth=4, min_samples_leaf=4, n_estimators=200;, score=0.429 total time=   0.0s\n",
      "[CV 2/5] END learning_rate=0.1, max_depth=4, min_samples_leaf=4, n_estimators=200;, score=0.381 total time=   0.0s\n",
      "[CV 3/5] END learning_rate=0.1, max_depth=4, min_samples_leaf=4, n_estimators=200;, score=0.333 total time=   0.0s\n",
      "[CV 4/5] END learning_rate=0.1, max_depth=4, min_samples_leaf=4, n_estimators=200;, score=0.550 total time=   0.0s\n"
     ]
    },
    {
     "name": "stdout",
     "output_type": "stream",
     "text": [
      "[CV 5/5] END learning_rate=0.1, max_depth=4, min_samples_leaf=4, n_estimators=200;, score=0.400 total time=   0.0s\n",
      "[CV 1/5] END learning_rate=0.1, max_depth=4, min_samples_leaf=4, n_estimators=300;, score=0.333 total time=   0.0s\n",
      "[CV 2/5] END learning_rate=0.1, max_depth=4, min_samples_leaf=4, n_estimators=300;, score=0.381 total time=   0.0s\n",
      "[CV 3/5] END learning_rate=0.1, max_depth=4, min_samples_leaf=4, n_estimators=300;, score=0.381 total time=   0.0s\n",
      "[CV 4/5] END learning_rate=0.1, max_depth=4, min_samples_leaf=4, n_estimators=300;, score=0.600 total time=   0.0s\n",
      "[CV 5/5] END learning_rate=0.1, max_depth=4, min_samples_leaf=4, n_estimators=300;, score=0.400 total time=   0.0s\n",
      "[CV 1/5] END learning_rate=0.1, max_depth=4, min_samples_leaf=4, n_estimators=400;, score=0.381 total time=   0.1s\n",
      "[CV 2/5] END learning_rate=0.1, max_depth=4, min_samples_leaf=4, n_estimators=400;, score=0.381 total time=   0.1s\n",
      "[CV 3/5] END learning_rate=0.1, max_depth=4, min_samples_leaf=4, n_estimators=400;, score=0.381 total time=   0.1s\n",
      "[CV 4/5] END learning_rate=0.1, max_depth=4, min_samples_leaf=4, n_estimators=400;, score=0.600 total time=   0.1s\n",
      "[CV 5/5] END learning_rate=0.1, max_depth=4, min_samples_leaf=4, n_estimators=400;, score=0.400 total time=   0.1s\n",
      "[CV 1/5] END learning_rate=0.1, max_depth=5, min_samples_leaf=1, n_estimators=100;, score=0.333 total time=   0.0s\n",
      "[CV 2/5] END learning_rate=0.1, max_depth=5, min_samples_leaf=1, n_estimators=100;, score=0.476 total time=   0.0s\n",
      "[CV 3/5] END learning_rate=0.1, max_depth=5, min_samples_leaf=1, n_estimators=100;, score=0.333 total time=   0.0s\n",
      "[CV 4/5] END learning_rate=0.1, max_depth=5, min_samples_leaf=1, n_estimators=100;, score=0.450 total time=   0.0s\n",
      "[CV 5/5] END learning_rate=0.1, max_depth=5, min_samples_leaf=1, n_estimators=100;, score=0.450 total time=   0.0s\n",
      "[CV 1/5] END learning_rate=0.1, max_depth=5, min_samples_leaf=1, n_estimators=200;, score=0.333 total time=   0.0s\n",
      "[CV 2/5] END learning_rate=0.1, max_depth=5, min_samples_leaf=1, n_estimators=200;, score=0.524 total time=   0.0s\n",
      "[CV 3/5] END learning_rate=0.1, max_depth=5, min_samples_leaf=1, n_estimators=200;, score=0.333 total time=   0.0s\n",
      "[CV 4/5] END learning_rate=0.1, max_depth=5, min_samples_leaf=1, n_estimators=200;, score=0.500 total time=   0.0s\n",
      "[CV 5/5] END learning_rate=0.1, max_depth=5, min_samples_leaf=1, n_estimators=200;, score=0.450 total time=   0.0s\n",
      "[CV 1/5] END learning_rate=0.1, max_depth=5, min_samples_leaf=1, n_estimators=300;, score=0.333 total time=   0.1s\n",
      "[CV 2/5] END learning_rate=0.1, max_depth=5, min_samples_leaf=1, n_estimators=300;, score=0.429 total time=   0.1s\n",
      "[CV 3/5] END learning_rate=0.1, max_depth=5, min_samples_leaf=1, n_estimators=300;, score=0.333 total time=   0.1s\n",
      "[CV 4/5] END learning_rate=0.1, max_depth=5, min_samples_leaf=1, n_estimators=300;, score=0.550 total time=   0.1s\n",
      "[CV 5/5] END learning_rate=0.1, max_depth=5, min_samples_leaf=1, n_estimators=300;, score=0.450 total time=   0.1s\n",
      "[CV 1/5] END learning_rate=0.1, max_depth=5, min_samples_leaf=1, n_estimators=400;, score=0.333 total time=   0.2s\n",
      "[CV 2/5] END learning_rate=0.1, max_depth=5, min_samples_leaf=1, n_estimators=400;, score=0.476 total time=   0.2s\n",
      "[CV 3/5] END learning_rate=0.1, max_depth=5, min_samples_leaf=1, n_estimators=400;, score=0.286 total time=   0.2s\n",
      "[CV 4/5] END learning_rate=0.1, max_depth=5, min_samples_leaf=1, n_estimators=400;, score=0.600 total time=   0.2s\n",
      "[CV 5/5] END learning_rate=0.1, max_depth=5, min_samples_leaf=1, n_estimators=400;, score=0.450 total time=   0.2s\n",
      "[CV 1/5] END learning_rate=0.1, max_depth=5, min_samples_leaf=2, n_estimators=100;, score=0.286 total time=   0.0s\n",
      "[CV 2/5] END learning_rate=0.1, max_depth=5, min_samples_leaf=2, n_estimators=100;, score=0.429 total time=   0.0s\n",
      "[CV 3/5] END learning_rate=0.1, max_depth=5, min_samples_leaf=2, n_estimators=100;, score=0.381 total time=   0.0s\n",
      "[CV 4/5] END learning_rate=0.1, max_depth=5, min_samples_leaf=2, n_estimators=100;, score=0.550 total time=   0.0s\n",
      "[CV 5/5] END learning_rate=0.1, max_depth=5, min_samples_leaf=2, n_estimators=100;, score=0.400 total time=   0.0s\n",
      "[CV 1/5] END learning_rate=0.1, max_depth=5, min_samples_leaf=2, n_estimators=200;, score=0.381 total time=   0.0s\n",
      "[CV 2/5] END learning_rate=0.1, max_depth=5, min_samples_leaf=2, n_estimators=200;, score=0.333 total time=   0.0s\n",
      "[CV 3/5] END learning_rate=0.1, max_depth=5, min_samples_leaf=2, n_estimators=200;, score=0.429 total time=   0.0s\n",
      "[CV 4/5] END learning_rate=0.1, max_depth=5, min_samples_leaf=2, n_estimators=200;, score=0.600 total time=   0.0s\n",
      "[CV 5/5] END learning_rate=0.1, max_depth=5, min_samples_leaf=2, n_estimators=200;, score=0.400 total time=   0.0s\n",
      "[CV 1/5] END learning_rate=0.1, max_depth=5, min_samples_leaf=2, n_estimators=300;, score=0.381 total time=   0.1s\n",
      "[CV 2/5] END learning_rate=0.1, max_depth=5, min_samples_leaf=2, n_estimators=300;, score=0.333 total time=   0.1s\n",
      "[CV 3/5] END learning_rate=0.1, max_depth=5, min_samples_leaf=2, n_estimators=300;, score=0.381 total time=   0.2s\n",
      "[CV 4/5] END learning_rate=0.1, max_depth=5, min_samples_leaf=2, n_estimators=300;, score=0.500 total time=   0.2s\n",
      "[CV 5/5] END learning_rate=0.1, max_depth=5, min_samples_leaf=2, n_estimators=300;, score=0.400 total time=   0.1s\n",
      "[CV 1/5] END learning_rate=0.1, max_depth=5, min_samples_leaf=2, n_estimators=400;, score=0.381 total time=   0.1s\n",
      "[CV 2/5] END learning_rate=0.1, max_depth=5, min_samples_leaf=2, n_estimators=400;, score=0.381 total time=   0.1s\n",
      "[CV 3/5] END learning_rate=0.1, max_depth=5, min_samples_leaf=2, n_estimators=400;, score=0.381 total time=   0.2s\n",
      "[CV 4/5] END learning_rate=0.1, max_depth=5, min_samples_leaf=2, n_estimators=400;, score=0.500 total time=   0.1s\n",
      "[CV 5/5] END learning_rate=0.1, max_depth=5, min_samples_leaf=2, n_estimators=400;, score=0.400 total time=   0.1s\n",
      "[CV 1/5] END learning_rate=0.1, max_depth=5, min_samples_leaf=3, n_estimators=100;, score=0.286 total time=   0.0s\n",
      "[CV 2/5] END learning_rate=0.1, max_depth=5, min_samples_leaf=3, n_estimators=100;, score=0.476 total time=   0.0s\n",
      "[CV 3/5] END learning_rate=0.1, max_depth=5, min_samples_leaf=3, n_estimators=100;, score=0.333 total time=   0.0s\n",
      "[CV 4/5] END learning_rate=0.1, max_depth=5, min_samples_leaf=3, n_estimators=100;, score=0.450 total time=   0.0s\n",
      "[CV 5/5] END learning_rate=0.1, max_depth=5, min_samples_leaf=3, n_estimators=100;, score=0.400 total time=   0.0s\n",
      "[CV 1/5] END learning_rate=0.1, max_depth=5, min_samples_leaf=3, n_estimators=200;, score=0.381 total time=   0.0s\n",
      "[CV 2/5] END learning_rate=0.1, max_depth=5, min_samples_leaf=3, n_estimators=200;, score=0.333 total time=   0.1s\n",
      "[CV 3/5] END learning_rate=0.1, max_depth=5, min_samples_leaf=3, n_estimators=200;, score=0.333 total time=   0.0s\n",
      "[CV 4/5] END learning_rate=0.1, max_depth=5, min_samples_leaf=3, n_estimators=200;, score=0.450 total time=   0.0s\n",
      "[CV 5/5] END learning_rate=0.1, max_depth=5, min_samples_leaf=3, n_estimators=200;, score=0.400 total time=   0.0s\n",
      "[CV 1/5] END learning_rate=0.1, max_depth=5, min_samples_leaf=3, n_estimators=300;, score=0.381 total time=   0.1s\n",
      "[CV 2/5] END learning_rate=0.1, max_depth=5, min_samples_leaf=3, n_estimators=300;, score=0.333 total time=   0.1s\n",
      "[CV 3/5] END learning_rate=0.1, max_depth=5, min_samples_leaf=3, n_estimators=300;, score=0.333 total time=   0.1s\n",
      "[CV 4/5] END learning_rate=0.1, max_depth=5, min_samples_leaf=3, n_estimators=300;, score=0.450 total time=   0.1s\n",
      "[CV 5/5] END learning_rate=0.1, max_depth=5, min_samples_leaf=3, n_estimators=300;, score=0.350 total time=   0.1s\n",
      "[CV 1/5] END learning_rate=0.1, max_depth=5, min_samples_leaf=3, n_estimators=400;, score=0.381 total time=   0.1s\n",
      "[CV 2/5] END learning_rate=0.1, max_depth=5, min_samples_leaf=3, n_estimators=400;, score=0.333 total time=   0.1s\n",
      "[CV 3/5] END learning_rate=0.1, max_depth=5, min_samples_leaf=3, n_estimators=400;, score=0.333 total time=   0.1s\n",
      "[CV 4/5] END learning_rate=0.1, max_depth=5, min_samples_leaf=3, n_estimators=400;, score=0.450 total time=   0.1s\n",
      "[CV 5/5] END learning_rate=0.1, max_depth=5, min_samples_leaf=3, n_estimators=400;, score=0.450 total time=   0.3s\n",
      "[CV 1/5] END learning_rate=0.1, max_depth=5, min_samples_leaf=4, n_estimators=100;, score=0.381 total time=   0.0s\n",
      "[CV 2/5] END learning_rate=0.1, max_depth=5, min_samples_leaf=4, n_estimators=100;, score=0.429 total time=   0.0s\n",
      "[CV 3/5] END learning_rate=0.1, max_depth=5, min_samples_leaf=4, n_estimators=100;, score=0.333 total time=   0.0s\n",
      "[CV 4/5] END learning_rate=0.1, max_depth=5, min_samples_leaf=4, n_estimators=100;, score=0.550 total time=   0.0s\n"
     ]
    },
    {
     "name": "stdout",
     "output_type": "stream",
     "text": [
      "[CV 5/5] END learning_rate=0.1, max_depth=5, min_samples_leaf=4, n_estimators=100;, score=0.400 total time=   0.0s\n",
      "[CV 1/5] END learning_rate=0.1, max_depth=5, min_samples_leaf=4, n_estimators=200;, score=0.429 total time=   0.0s\n",
      "[CV 2/5] END learning_rate=0.1, max_depth=5, min_samples_leaf=4, n_estimators=200;, score=0.429 total time=   0.0s\n",
      "[CV 3/5] END learning_rate=0.1, max_depth=5, min_samples_leaf=4, n_estimators=200;, score=0.286 total time=   0.0s\n",
      "[CV 4/5] END learning_rate=0.1, max_depth=5, min_samples_leaf=4, n_estimators=200;, score=0.550 total time=   0.0s\n",
      "[CV 5/5] END learning_rate=0.1, max_depth=5, min_samples_leaf=4, n_estimators=200;, score=0.400 total time=   0.0s\n",
      "[CV 1/5] END learning_rate=0.1, max_depth=5, min_samples_leaf=4, n_estimators=300;, score=0.381 total time=   0.0s\n",
      "[CV 2/5] END learning_rate=0.1, max_depth=5, min_samples_leaf=4, n_estimators=300;, score=0.381 total time=   0.0s\n",
      "[CV 3/5] END learning_rate=0.1, max_depth=5, min_samples_leaf=4, n_estimators=300;, score=0.286 total time=   0.0s\n",
      "[CV 4/5] END learning_rate=0.1, max_depth=5, min_samples_leaf=4, n_estimators=300;, score=0.450 total time=   0.0s\n",
      "[CV 5/5] END learning_rate=0.1, max_depth=5, min_samples_leaf=4, n_estimators=300;, score=0.400 total time=   0.1s\n",
      "[CV 1/5] END learning_rate=0.1, max_depth=5, min_samples_leaf=4, n_estimators=400;, score=0.381 total time=   0.1s\n",
      "[CV 2/5] END learning_rate=0.1, max_depth=5, min_samples_leaf=4, n_estimators=400;, score=0.381 total time=   0.1s\n",
      "[CV 3/5] END learning_rate=0.1, max_depth=5, min_samples_leaf=4, n_estimators=400;, score=0.333 total time=   0.1s\n",
      "[CV 4/5] END learning_rate=0.1, max_depth=5, min_samples_leaf=4, n_estimators=400;, score=0.450 total time=   0.1s\n",
      "[CV 5/5] END learning_rate=0.1, max_depth=5, min_samples_leaf=4, n_estimators=400;, score=0.400 total time=   0.1s\n",
      "[CV 1/5] END learning_rate=0.2, max_depth=2, min_samples_leaf=1, n_estimators=100;, score=0.286 total time=   0.0s\n",
      "[CV 2/5] END learning_rate=0.2, max_depth=2, min_samples_leaf=1, n_estimators=100;, score=0.429 total time=   0.0s\n",
      "[CV 3/5] END learning_rate=0.2, max_depth=2, min_samples_leaf=1, n_estimators=100;, score=0.429 total time=   0.0s\n",
      "[CV 4/5] END learning_rate=0.2, max_depth=2, min_samples_leaf=1, n_estimators=100;, score=0.500 total time=   0.0s\n",
      "[CV 5/5] END learning_rate=0.2, max_depth=2, min_samples_leaf=1, n_estimators=100;, score=0.450 total time=   0.0s\n",
      "[CV 1/5] END learning_rate=0.2, max_depth=2, min_samples_leaf=1, n_estimators=200;, score=0.333 total time=   0.0s\n",
      "[CV 2/5] END learning_rate=0.2, max_depth=2, min_samples_leaf=1, n_estimators=200;, score=0.429 total time=   0.0s\n",
      "[CV 3/5] END learning_rate=0.2, max_depth=2, min_samples_leaf=1, n_estimators=200;, score=0.429 total time=   0.0s\n",
      "[CV 4/5] END learning_rate=0.2, max_depth=2, min_samples_leaf=1, n_estimators=200;, score=0.400 total time=   0.0s\n",
      "[CV 5/5] END learning_rate=0.2, max_depth=2, min_samples_leaf=1, n_estimators=200;, score=0.500 total time=   0.0s\n",
      "[CV 1/5] END learning_rate=0.2, max_depth=2, min_samples_leaf=1, n_estimators=300;, score=0.333 total time=   0.0s\n",
      "[CV 2/5] END learning_rate=0.2, max_depth=2, min_samples_leaf=1, n_estimators=300;, score=0.429 total time=   0.0s\n",
      "[CV 3/5] END learning_rate=0.2, max_depth=2, min_samples_leaf=1, n_estimators=300;, score=0.429 total time=   0.0s\n",
      "[CV 4/5] END learning_rate=0.2, max_depth=2, min_samples_leaf=1, n_estimators=300;, score=0.350 total time=   0.0s\n",
      "[CV 5/5] END learning_rate=0.2, max_depth=2, min_samples_leaf=1, n_estimators=300;, score=0.450 total time=   0.0s\n",
      "[CV 1/5] END learning_rate=0.2, max_depth=2, min_samples_leaf=1, n_estimators=400;, score=0.429 total time=   0.1s\n",
      "[CV 2/5] END learning_rate=0.2, max_depth=2, min_samples_leaf=1, n_estimators=400;, score=0.429 total time=   0.0s\n",
      "[CV 3/5] END learning_rate=0.2, max_depth=2, min_samples_leaf=1, n_estimators=400;, score=0.429 total time=   0.0s\n",
      "[CV 4/5] END learning_rate=0.2, max_depth=2, min_samples_leaf=1, n_estimators=400;, score=0.350 total time=   0.0s\n",
      "[CV 5/5] END learning_rate=0.2, max_depth=2, min_samples_leaf=1, n_estimators=400;, score=0.400 total time=   0.0s\n",
      "[CV 1/5] END learning_rate=0.2, max_depth=2, min_samples_leaf=2, n_estimators=100;, score=0.333 total time=   0.0s\n",
      "[CV 2/5] END learning_rate=0.2, max_depth=2, min_samples_leaf=2, n_estimators=100;, score=0.381 total time=   0.0s\n",
      "[CV 3/5] END learning_rate=0.2, max_depth=2, min_samples_leaf=2, n_estimators=100;, score=0.381 total time=   0.0s\n",
      "[CV 4/5] END learning_rate=0.2, max_depth=2, min_samples_leaf=2, n_estimators=100;, score=0.450 total time=   0.0s\n",
      "[CV 5/5] END learning_rate=0.2, max_depth=2, min_samples_leaf=2, n_estimators=100;, score=0.450 total time=   0.0s\n",
      "[CV 1/5] END learning_rate=0.2, max_depth=2, min_samples_leaf=2, n_estimators=200;, score=0.333 total time=   0.0s\n",
      "[CV 2/5] END learning_rate=0.2, max_depth=2, min_samples_leaf=2, n_estimators=200;, score=0.381 total time=   0.0s\n",
      "[CV 3/5] END learning_rate=0.2, max_depth=2, min_samples_leaf=2, n_estimators=200;, score=0.429 total time=   0.0s\n",
      "[CV 4/5] END learning_rate=0.2, max_depth=2, min_samples_leaf=2, n_estimators=200;, score=0.400 total time=   0.0s\n",
      "[CV 5/5] END learning_rate=0.2, max_depth=2, min_samples_leaf=2, n_estimators=200;, score=0.500 total time=   0.0s\n",
      "[CV 1/5] END learning_rate=0.2, max_depth=2, min_samples_leaf=2, n_estimators=300;, score=0.333 total time=   0.0s\n",
      "[CV 2/5] END learning_rate=0.2, max_depth=2, min_samples_leaf=2, n_estimators=300;, score=0.381 total time=   0.0s\n",
      "[CV 3/5] END learning_rate=0.2, max_depth=2, min_samples_leaf=2, n_estimators=300;, score=0.333 total time=   0.0s\n",
      "[CV 4/5] END learning_rate=0.2, max_depth=2, min_samples_leaf=2, n_estimators=300;, score=0.350 total time=   0.0s\n",
      "[CV 5/5] END learning_rate=0.2, max_depth=2, min_samples_leaf=2, n_estimators=300;, score=0.400 total time=   0.0s\n",
      "[CV 1/5] END learning_rate=0.2, max_depth=2, min_samples_leaf=2, n_estimators=400;, score=0.333 total time=   0.1s\n",
      "[CV 2/5] END learning_rate=0.2, max_depth=2, min_samples_leaf=2, n_estimators=400;, score=0.429 total time=   0.0s\n",
      "[CV 3/5] END learning_rate=0.2, max_depth=2, min_samples_leaf=2, n_estimators=400;, score=0.429 total time=   0.0s\n",
      "[CV 4/5] END learning_rate=0.2, max_depth=2, min_samples_leaf=2, n_estimators=400;, score=0.350 total time=   0.0s\n",
      "[CV 5/5] END learning_rate=0.2, max_depth=2, min_samples_leaf=2, n_estimators=400;, score=0.350 total time=   0.0s\n",
      "[CV 1/5] END learning_rate=0.2, max_depth=2, min_samples_leaf=3, n_estimators=100;, score=0.381 total time=   0.0s\n",
      "[CV 2/5] END learning_rate=0.2, max_depth=2, min_samples_leaf=3, n_estimators=100;, score=0.381 total time=   0.0s\n",
      "[CV 3/5] END learning_rate=0.2, max_depth=2, min_samples_leaf=3, n_estimators=100;, score=0.476 total time=   0.0s\n",
      "[CV 4/5] END learning_rate=0.2, max_depth=2, min_samples_leaf=3, n_estimators=100;, score=0.500 total time=   0.0s\n",
      "[CV 5/5] END learning_rate=0.2, max_depth=2, min_samples_leaf=3, n_estimators=100;, score=0.450 total time=   0.0s\n",
      "[CV 1/5] END learning_rate=0.2, max_depth=2, min_samples_leaf=3, n_estimators=200;, score=0.333 total time=   0.0s\n",
      "[CV 2/5] END learning_rate=0.2, max_depth=2, min_samples_leaf=3, n_estimators=200;, score=0.381 total time=   0.0s\n",
      "[CV 3/5] END learning_rate=0.2, max_depth=2, min_samples_leaf=3, n_estimators=200;, score=0.429 total time=   0.0s\n",
      "[CV 4/5] END learning_rate=0.2, max_depth=2, min_samples_leaf=3, n_estimators=200;, score=0.400 total time=   0.0s\n",
      "[CV 5/5] END learning_rate=0.2, max_depth=2, min_samples_leaf=3, n_estimators=200;, score=0.450 total time=   0.0s\n",
      "[CV 1/5] END learning_rate=0.2, max_depth=2, min_samples_leaf=3, n_estimators=300;, score=0.333 total time=   0.0s\n",
      "[CV 2/5] END learning_rate=0.2, max_depth=2, min_samples_leaf=3, n_estimators=300;, score=0.381 total time=   0.1s\n",
      "[CV 3/5] END learning_rate=0.2, max_depth=2, min_samples_leaf=3, n_estimators=300;, score=0.476 total time=   0.0s\n",
      "[CV 4/5] END learning_rate=0.2, max_depth=2, min_samples_leaf=3, n_estimators=300;, score=0.400 total time=   0.0s\n",
      "[CV 5/5] END learning_rate=0.2, max_depth=2, min_samples_leaf=3, n_estimators=300;, score=0.400 total time=   0.0s\n",
      "[CV 1/5] END learning_rate=0.2, max_depth=2, min_samples_leaf=3, n_estimators=400;, score=0.333 total time=   0.0s\n"
     ]
    },
    {
     "name": "stdout",
     "output_type": "stream",
     "text": [
      "[CV 2/5] END learning_rate=0.2, max_depth=2, min_samples_leaf=3, n_estimators=400;, score=0.429 total time=   0.0s\n",
      "[CV 3/5] END learning_rate=0.2, max_depth=2, min_samples_leaf=3, n_estimators=400;, score=0.381 total time=   0.0s\n",
      "[CV 4/5] END learning_rate=0.2, max_depth=2, min_samples_leaf=3, n_estimators=400;, score=0.400 total time=   0.0s\n",
      "[CV 5/5] END learning_rate=0.2, max_depth=2, min_samples_leaf=3, n_estimators=400;, score=0.350 total time=   0.0s\n",
      "[CV 1/5] END learning_rate=0.2, max_depth=2, min_samples_leaf=4, n_estimators=100;, score=0.333 total time=   0.0s\n",
      "[CV 2/5] END learning_rate=0.2, max_depth=2, min_samples_leaf=4, n_estimators=100;, score=0.381 total time=   0.0s\n",
      "[CV 3/5] END learning_rate=0.2, max_depth=2, min_samples_leaf=4, n_estimators=100;, score=0.476 total time=   0.0s\n",
      "[CV 4/5] END learning_rate=0.2, max_depth=2, min_samples_leaf=4, n_estimators=100;, score=0.600 total time=   0.0s\n",
      "[CV 5/5] END learning_rate=0.2, max_depth=2, min_samples_leaf=4, n_estimators=100;, score=0.450 total time=   0.0s\n",
      "[CV 1/5] END learning_rate=0.2, max_depth=2, min_samples_leaf=4, n_estimators=200;, score=0.333 total time=   0.0s\n",
      "[CV 2/5] END learning_rate=0.2, max_depth=2, min_samples_leaf=4, n_estimators=200;, score=0.381 total time=   0.0s\n",
      "[CV 3/5] END learning_rate=0.2, max_depth=2, min_samples_leaf=4, n_estimators=200;, score=0.381 total time=   0.0s\n",
      "[CV 4/5] END learning_rate=0.2, max_depth=2, min_samples_leaf=4, n_estimators=200;, score=0.650 total time=   0.0s\n",
      "[CV 5/5] END learning_rate=0.2, max_depth=2, min_samples_leaf=4, n_estimators=200;, score=0.350 total time=   0.0s\n",
      "[CV 1/5] END learning_rate=0.2, max_depth=2, min_samples_leaf=4, n_estimators=300;, score=0.333 total time=   0.0s\n",
      "[CV 2/5] END learning_rate=0.2, max_depth=2, min_samples_leaf=4, n_estimators=300;, score=0.381 total time=   0.0s\n",
      "[CV 3/5] END learning_rate=0.2, max_depth=2, min_samples_leaf=4, n_estimators=300;, score=0.381 total time=   0.0s\n",
      "[CV 4/5] END learning_rate=0.2, max_depth=2, min_samples_leaf=4, n_estimators=300;, score=0.450 total time=   0.0s\n",
      "[CV 5/5] END learning_rate=0.2, max_depth=2, min_samples_leaf=4, n_estimators=300;, score=0.350 total time=   0.0s\n",
      "[CV 1/5] END learning_rate=0.2, max_depth=2, min_samples_leaf=4, n_estimators=400;, score=0.333 total time=   0.0s\n",
      "[CV 2/5] END learning_rate=0.2, max_depth=2, min_samples_leaf=4, n_estimators=400;, score=0.429 total time=   0.1s\n",
      "[CV 3/5] END learning_rate=0.2, max_depth=2, min_samples_leaf=4, n_estimators=400;, score=0.429 total time=   0.1s\n",
      "[CV 4/5] END learning_rate=0.2, max_depth=2, min_samples_leaf=4, n_estimators=400;, score=0.450 total time=   0.0s\n",
      "[CV 5/5] END learning_rate=0.2, max_depth=2, min_samples_leaf=4, n_estimators=400;, score=0.400 total time=   0.0s\n",
      "[CV 1/5] END learning_rate=0.2, max_depth=3, min_samples_leaf=1, n_estimators=100;, score=0.381 total time=   0.0s\n",
      "[CV 2/5] END learning_rate=0.2, max_depth=3, min_samples_leaf=1, n_estimators=100;, score=0.524 total time=   0.0s\n",
      "[CV 3/5] END learning_rate=0.2, max_depth=3, min_samples_leaf=1, n_estimators=100;, score=0.286 total time=   0.0s\n",
      "[CV 4/5] END learning_rate=0.2, max_depth=3, min_samples_leaf=1, n_estimators=100;, score=0.550 total time=   0.0s\n",
      "[CV 5/5] END learning_rate=0.2, max_depth=3, min_samples_leaf=1, n_estimators=100;, score=0.450 total time=   0.0s\n",
      "[CV 1/5] END learning_rate=0.2, max_depth=3, min_samples_leaf=1, n_estimators=200;, score=0.381 total time=   0.0s\n",
      "[CV 2/5] END learning_rate=0.2, max_depth=3, min_samples_leaf=1, n_estimators=200;, score=0.476 total time=   0.0s\n",
      "[CV 3/5] END learning_rate=0.2, max_depth=3, min_samples_leaf=1, n_estimators=200;, score=0.238 total time=   0.0s\n",
      "[CV 4/5] END learning_rate=0.2, max_depth=3, min_samples_leaf=1, n_estimators=200;, score=0.550 total time=   0.0s\n",
      "[CV 5/5] END learning_rate=0.2, max_depth=3, min_samples_leaf=1, n_estimators=200;, score=0.450 total time=   0.0s\n",
      "[CV 1/5] END learning_rate=0.2, max_depth=3, min_samples_leaf=1, n_estimators=300;, score=0.381 total time=   0.0s\n",
      "[CV 2/5] END learning_rate=0.2, max_depth=3, min_samples_leaf=1, n_estimators=300;, score=0.476 total time=   0.1s\n",
      "[CV 3/5] END learning_rate=0.2, max_depth=3, min_samples_leaf=1, n_estimators=300;, score=0.190 total time=   0.1s\n",
      "[CV 4/5] END learning_rate=0.2, max_depth=3, min_samples_leaf=1, n_estimators=300;, score=0.600 total time=   0.0s\n",
      "[CV 5/5] END learning_rate=0.2, max_depth=3, min_samples_leaf=1, n_estimators=300;, score=0.450 total time=   0.0s\n",
      "[CV 1/5] END learning_rate=0.2, max_depth=3, min_samples_leaf=1, n_estimators=400;, score=0.429 total time=   0.1s\n",
      "[CV 2/5] END learning_rate=0.2, max_depth=3, min_samples_leaf=1, n_estimators=400;, score=0.524 total time=   0.1s\n",
      "[CV 3/5] END learning_rate=0.2, max_depth=3, min_samples_leaf=1, n_estimators=400;, score=0.190 total time=   0.1s\n",
      "[CV 4/5] END learning_rate=0.2, max_depth=3, min_samples_leaf=1, n_estimators=400;, score=0.600 total time=   0.1s\n",
      "[CV 5/5] END learning_rate=0.2, max_depth=3, min_samples_leaf=1, n_estimators=400;, score=0.450 total time=   0.1s\n",
      "[CV 1/5] END learning_rate=0.2, max_depth=3, min_samples_leaf=2, n_estimators=100;, score=0.429 total time=   0.0s\n",
      "[CV 2/5] END learning_rate=0.2, max_depth=3, min_samples_leaf=2, n_estimators=100;, score=0.429 total time=   0.0s\n",
      "[CV 3/5] END learning_rate=0.2, max_depth=3, min_samples_leaf=2, n_estimators=100;, score=0.333 total time=   0.0s\n",
      "[CV 4/5] END learning_rate=0.2, max_depth=3, min_samples_leaf=2, n_estimators=100;, score=0.450 total time=   0.0s\n",
      "[CV 5/5] END learning_rate=0.2, max_depth=3, min_samples_leaf=2, n_estimators=100;, score=0.400 total time=   0.0s\n",
      "[CV 1/5] END learning_rate=0.2, max_depth=3, min_samples_leaf=2, n_estimators=200;, score=0.429 total time=   0.0s\n",
      "[CV 2/5] END learning_rate=0.2, max_depth=3, min_samples_leaf=2, n_estimators=200;, score=0.429 total time=   0.0s\n",
      "[CV 3/5] END learning_rate=0.2, max_depth=3, min_samples_leaf=2, n_estimators=200;, score=0.381 total time=   0.0s\n",
      "[CV 4/5] END learning_rate=0.2, max_depth=3, min_samples_leaf=2, n_estimators=200;, score=0.450 total time=   0.0s\n",
      "[CV 5/5] END learning_rate=0.2, max_depth=3, min_samples_leaf=2, n_estimators=200;, score=0.400 total time=   0.0s\n",
      "[CV 1/5] END learning_rate=0.2, max_depth=3, min_samples_leaf=2, n_estimators=300;, score=0.333 total time=   0.0s\n",
      "[CV 2/5] END learning_rate=0.2, max_depth=3, min_samples_leaf=2, n_estimators=300;, score=0.429 total time=   0.0s\n",
      "[CV 3/5] END learning_rate=0.2, max_depth=3, min_samples_leaf=2, n_estimators=300;, score=0.238 total time=   0.0s\n",
      "[CV 4/5] END learning_rate=0.2, max_depth=3, min_samples_leaf=2, n_estimators=300;, score=0.500 total time=   0.0s\n",
      "[CV 5/5] END learning_rate=0.2, max_depth=3, min_samples_leaf=2, n_estimators=300;, score=0.400 total time=   0.0s\n",
      "[CV 1/5] END learning_rate=0.2, max_depth=3, min_samples_leaf=2, n_estimators=400;, score=0.429 total time=   0.1s\n",
      "[CV 2/5] END learning_rate=0.2, max_depth=3, min_samples_leaf=2, n_estimators=400;, score=0.429 total time=   0.1s\n",
      "[CV 3/5] END learning_rate=0.2, max_depth=3, min_samples_leaf=2, n_estimators=400;, score=0.238 total time=   0.1s\n",
      "[CV 4/5] END learning_rate=0.2, max_depth=3, min_samples_leaf=2, n_estimators=400;, score=0.500 total time=   0.1s\n",
      "[CV 5/5] END learning_rate=0.2, max_depth=3, min_samples_leaf=2, n_estimators=400;, score=0.400 total time=   0.1s\n",
      "[CV 1/5] END learning_rate=0.2, max_depth=3, min_samples_leaf=3, n_estimators=100;, score=0.333 total time=   0.0s\n",
      "[CV 2/5] END learning_rate=0.2, max_depth=3, min_samples_leaf=3, n_estimators=100;, score=0.524 total time=   0.0s\n",
      "[CV 3/5] END learning_rate=0.2, max_depth=3, min_samples_leaf=3, n_estimators=100;, score=0.333 total time=   0.0s\n",
      "[CV 4/5] END learning_rate=0.2, max_depth=3, min_samples_leaf=3, n_estimators=100;, score=0.450 total time=   0.0s\n",
      "[CV 5/5] END learning_rate=0.2, max_depth=3, min_samples_leaf=3, n_estimators=100;, score=0.400 total time=   0.0s\n",
      "[CV 1/5] END learning_rate=0.2, max_depth=3, min_samples_leaf=3, n_estimators=200;, score=0.333 total time=   0.0s\n",
      "[CV 2/5] END learning_rate=0.2, max_depth=3, min_samples_leaf=3, n_estimators=200;, score=0.476 total time=   0.0s\n",
      "[CV 3/5] END learning_rate=0.2, max_depth=3, min_samples_leaf=3, n_estimators=200;, score=0.286 total time=   0.0s\n",
      "[CV 4/5] END learning_rate=0.2, max_depth=3, min_samples_leaf=3, n_estimators=200;, score=0.400 total time=   0.0s\n"
     ]
    },
    {
     "name": "stdout",
     "output_type": "stream",
     "text": [
      "[CV 5/5] END learning_rate=0.2, max_depth=3, min_samples_leaf=3, n_estimators=200;, score=0.400 total time=   0.0s\n",
      "[CV 1/5] END learning_rate=0.2, max_depth=3, min_samples_leaf=3, n_estimators=300;, score=0.333 total time=   0.0s\n",
      "[CV 2/5] END learning_rate=0.2, max_depth=3, min_samples_leaf=3, n_estimators=300;, score=0.381 total time=   0.0s\n",
      "[CV 3/5] END learning_rate=0.2, max_depth=3, min_samples_leaf=3, n_estimators=300;, score=0.381 total time=   0.1s\n",
      "[CV 4/5] END learning_rate=0.2, max_depth=3, min_samples_leaf=3, n_estimators=300;, score=0.450 total time=   0.1s\n",
      "[CV 5/5] END learning_rate=0.2, max_depth=3, min_samples_leaf=3, n_estimators=300;, score=0.400 total time=   0.0s\n",
      "[CV 1/5] END learning_rate=0.2, max_depth=3, min_samples_leaf=3, n_estimators=400;, score=0.381 total time=   0.1s\n",
      "[CV 2/5] END learning_rate=0.2, max_depth=3, min_samples_leaf=3, n_estimators=400;, score=0.381 total time=   0.0s\n",
      "[CV 3/5] END learning_rate=0.2, max_depth=3, min_samples_leaf=3, n_estimators=400;, score=0.333 total time=   0.1s\n",
      "[CV 4/5] END learning_rate=0.2, max_depth=3, min_samples_leaf=3, n_estimators=400;, score=0.500 total time=   0.1s\n",
      "[CV 5/5] END learning_rate=0.2, max_depth=3, min_samples_leaf=3, n_estimators=400;, score=0.400 total time=   0.1s\n",
      "[CV 1/5] END learning_rate=0.2, max_depth=3, min_samples_leaf=4, n_estimators=100;, score=0.429 total time=   0.0s\n",
      "[CV 2/5] END learning_rate=0.2, max_depth=3, min_samples_leaf=4, n_estimators=100;, score=0.429 total time=   0.0s\n",
      "[CV 3/5] END learning_rate=0.2, max_depth=3, min_samples_leaf=4, n_estimators=100;, score=0.333 total time=   0.0s\n",
      "[CV 4/5] END learning_rate=0.2, max_depth=3, min_samples_leaf=4, n_estimators=100;, score=0.550 total time=   0.0s\n",
      "[CV 5/5] END learning_rate=0.2, max_depth=3, min_samples_leaf=4, n_estimators=100;, score=0.400 total time=   0.0s\n",
      "[CV 1/5] END learning_rate=0.2, max_depth=3, min_samples_leaf=4, n_estimators=200;, score=0.381 total time=   0.0s\n",
      "[CV 2/5] END learning_rate=0.2, max_depth=3, min_samples_leaf=4, n_estimators=200;, score=0.429 total time=   0.0s\n",
      "[CV 3/5] END learning_rate=0.2, max_depth=3, min_samples_leaf=4, n_estimators=200;, score=0.333 total time=   0.0s\n",
      "[CV 4/5] END learning_rate=0.2, max_depth=3, min_samples_leaf=4, n_estimators=200;, score=0.500 total time=   0.0s\n",
      "[CV 5/5] END learning_rate=0.2, max_depth=3, min_samples_leaf=4, n_estimators=200;, score=0.400 total time=   0.0s\n",
      "[CV 1/5] END learning_rate=0.2, max_depth=3, min_samples_leaf=4, n_estimators=300;, score=0.381 total time=   0.1s\n",
      "[CV 2/5] END learning_rate=0.2, max_depth=3, min_samples_leaf=4, n_estimators=300;, score=0.381 total time=   0.1s\n",
      "[CV 3/5] END learning_rate=0.2, max_depth=3, min_samples_leaf=4, n_estimators=300;, score=0.333 total time=   0.0s\n",
      "[CV 4/5] END learning_rate=0.2, max_depth=3, min_samples_leaf=4, n_estimators=300;, score=0.450 total time=   0.0s\n",
      "[CV 5/5] END learning_rate=0.2, max_depth=3, min_samples_leaf=4, n_estimators=300;, score=0.400 total time=   0.0s\n",
      "[CV 1/5] END learning_rate=0.2, max_depth=3, min_samples_leaf=4, n_estimators=400;, score=0.381 total time=   0.0s\n",
      "[CV 2/5] END learning_rate=0.2, max_depth=3, min_samples_leaf=4, n_estimators=400;, score=0.429 total time=   0.0s\n",
      "[CV 3/5] END learning_rate=0.2, max_depth=3, min_samples_leaf=4, n_estimators=400;, score=0.333 total time=   0.1s\n",
      "[CV 4/5] END learning_rate=0.2, max_depth=3, min_samples_leaf=4, n_estimators=400;, score=0.500 total time=   0.0s\n",
      "[CV 5/5] END learning_rate=0.2, max_depth=3, min_samples_leaf=4, n_estimators=400;, score=0.400 total time=   0.1s\n",
      "[CV 1/5] END learning_rate=0.2, max_depth=4, min_samples_leaf=1, n_estimators=100;, score=0.333 total time=   0.0s\n",
      "[CV 2/5] END learning_rate=0.2, max_depth=4, min_samples_leaf=1, n_estimators=100;, score=0.429 total time=   0.0s\n",
      "[CV 3/5] END learning_rate=0.2, max_depth=4, min_samples_leaf=1, n_estimators=100;, score=0.286 total time=   0.0s\n",
      "[CV 4/5] END learning_rate=0.2, max_depth=4, min_samples_leaf=1, n_estimators=100;, score=0.450 total time=   0.0s\n",
      "[CV 5/5] END learning_rate=0.2, max_depth=4, min_samples_leaf=1, n_estimators=100;, score=0.450 total time=   0.0s\n",
      "[CV 1/5] END learning_rate=0.2, max_depth=4, min_samples_leaf=1, n_estimators=200;, score=0.333 total time=   0.0s\n",
      "[CV 2/5] END learning_rate=0.2, max_depth=4, min_samples_leaf=1, n_estimators=200;, score=0.429 total time=   0.0s\n",
      "[CV 3/5] END learning_rate=0.2, max_depth=4, min_samples_leaf=1, n_estimators=200;, score=0.286 total time=   0.0s\n",
      "[CV 4/5] END learning_rate=0.2, max_depth=4, min_samples_leaf=1, n_estimators=200;, score=0.600 total time=   0.0s\n",
      "[CV 5/5] END learning_rate=0.2, max_depth=4, min_samples_leaf=1, n_estimators=200;, score=0.450 total time=   0.1s\n",
      "[CV 1/5] END learning_rate=0.2, max_depth=4, min_samples_leaf=1, n_estimators=300;, score=0.333 total time=   0.2s\n",
      "[CV 2/5] END learning_rate=0.2, max_depth=4, min_samples_leaf=1, n_estimators=300;, score=0.476 total time=   0.0s\n",
      "[CV 3/5] END learning_rate=0.2, max_depth=4, min_samples_leaf=1, n_estimators=300;, score=0.286 total time=   0.0s\n",
      "[CV 4/5] END learning_rate=0.2, max_depth=4, min_samples_leaf=1, n_estimators=300;, score=0.650 total time=   0.1s\n",
      "[CV 5/5] END learning_rate=0.2, max_depth=4, min_samples_leaf=1, n_estimators=300;, score=0.450 total time=   0.1s\n",
      "[CV 1/5] END learning_rate=0.2, max_depth=4, min_samples_leaf=1, n_estimators=400;, score=0.333 total time=   0.1s\n",
      "[CV 2/5] END learning_rate=0.2, max_depth=4, min_samples_leaf=1, n_estimators=400;, score=0.429 total time=   0.1s\n",
      "[CV 3/5] END learning_rate=0.2, max_depth=4, min_samples_leaf=1, n_estimators=400;, score=0.286 total time=   0.1s\n",
      "[CV 4/5] END learning_rate=0.2, max_depth=4, min_samples_leaf=1, n_estimators=400;, score=0.700 total time=   0.1s\n",
      "[CV 5/5] END learning_rate=0.2, max_depth=4, min_samples_leaf=1, n_estimators=400;, score=0.450 total time=   0.1s\n",
      "[CV 1/5] END learning_rate=0.2, max_depth=4, min_samples_leaf=2, n_estimators=100;, score=0.286 total time=   0.0s\n",
      "[CV 2/5] END learning_rate=0.2, max_depth=4, min_samples_leaf=2, n_estimators=100;, score=0.333 total time=   0.0s\n",
      "[CV 3/5] END learning_rate=0.2, max_depth=4, min_samples_leaf=2, n_estimators=100;, score=0.333 total time=   0.0s\n",
      "[CV 4/5] END learning_rate=0.2, max_depth=4, min_samples_leaf=2, n_estimators=100;, score=0.500 total time=   0.0s\n",
      "[CV 5/5] END learning_rate=0.2, max_depth=4, min_samples_leaf=2, n_estimators=100;, score=0.400 total time=   0.0s\n",
      "[CV 1/5] END learning_rate=0.2, max_depth=4, min_samples_leaf=2, n_estimators=200;, score=0.333 total time=   0.0s\n",
      "[CV 2/5] END learning_rate=0.2, max_depth=4, min_samples_leaf=2, n_estimators=200;, score=0.381 total time=   0.0s\n",
      "[CV 3/5] END learning_rate=0.2, max_depth=4, min_samples_leaf=2, n_estimators=200;, score=0.333 total time=   0.0s\n",
      "[CV 4/5] END learning_rate=0.2, max_depth=4, min_samples_leaf=2, n_estimators=200;, score=0.500 total time=   0.0s\n",
      "[CV 5/5] END learning_rate=0.2, max_depth=4, min_samples_leaf=2, n_estimators=200;, score=0.400 total time=   0.0s\n",
      "[CV 1/5] END learning_rate=0.2, max_depth=4, min_samples_leaf=2, n_estimators=300;, score=0.333 total time=   0.1s\n",
      "[CV 2/5] END learning_rate=0.2, max_depth=4, min_samples_leaf=2, n_estimators=300;, score=0.381 total time=   0.0s\n",
      "[CV 3/5] END learning_rate=0.2, max_depth=4, min_samples_leaf=2, n_estimators=300;, score=0.333 total time=   0.1s\n",
      "[CV 4/5] END learning_rate=0.2, max_depth=4, min_samples_leaf=2, n_estimators=300;, score=0.500 total time=   0.1s\n",
      "[CV 5/5] END learning_rate=0.2, max_depth=4, min_samples_leaf=2, n_estimators=300;, score=0.400 total time=   0.0s\n",
      "[CV 1/5] END learning_rate=0.2, max_depth=4, min_samples_leaf=2, n_estimators=400;, score=0.333 total time=   0.1s\n",
      "[CV 2/5] END learning_rate=0.2, max_depth=4, min_samples_leaf=2, n_estimators=400;, score=0.381 total time=   0.2s\n",
      "[CV 3/5] END learning_rate=0.2, max_depth=4, min_samples_leaf=2, n_estimators=400;, score=0.333 total time=   0.1s\n",
      "[CV 4/5] END learning_rate=0.2, max_depth=4, min_samples_leaf=2, n_estimators=400;, score=0.500 total time=   0.1s\n",
      "[CV 5/5] END learning_rate=0.2, max_depth=4, min_samples_leaf=2, n_estimators=400;, score=0.400 total time=   0.1s\n",
      "[CV 1/5] END learning_rate=0.2, max_depth=4, min_samples_leaf=3, n_estimators=100;, score=0.333 total time=   0.0s\n",
      "[CV 2/5] END learning_rate=0.2, max_depth=4, min_samples_leaf=3, n_estimators=100;, score=0.381 total time=   0.0s\n",
      "[CV 3/5] END learning_rate=0.2, max_depth=4, min_samples_leaf=3, n_estimators=100;, score=0.381 total time=   0.0s\n",
      "[CV 4/5] END learning_rate=0.2, max_depth=4, min_samples_leaf=3, n_estimators=100;, score=0.350 total time=   0.0s\n",
      "[CV 5/5] END learning_rate=0.2, max_depth=4, min_samples_leaf=3, n_estimators=100;, score=0.400 total time=   0.0s\n"
     ]
    },
    {
     "name": "stdout",
     "output_type": "stream",
     "text": [
      "[CV 1/5] END learning_rate=0.2, max_depth=4, min_samples_leaf=3, n_estimators=200;, score=0.333 total time=   0.0s\n",
      "[CV 2/5] END learning_rate=0.2, max_depth=4, min_samples_leaf=3, n_estimators=200;, score=0.429 total time=   0.0s\n",
      "[CV 3/5] END learning_rate=0.2, max_depth=4, min_samples_leaf=3, n_estimators=200;, score=0.381 total time=   0.0s\n",
      "[CV 4/5] END learning_rate=0.2, max_depth=4, min_samples_leaf=3, n_estimators=200;, score=0.500 total time=   0.1s\n",
      "[CV 5/5] END learning_rate=0.2, max_depth=4, min_samples_leaf=3, n_estimators=200;, score=0.400 total time=   0.0s\n",
      "[CV 1/5] END learning_rate=0.2, max_depth=4, min_samples_leaf=3, n_estimators=300;, score=0.381 total time=   0.0s\n",
      "[CV 2/5] END learning_rate=0.2, max_depth=4, min_samples_leaf=3, n_estimators=300;, score=0.381 total time=   0.0s\n",
      "[CV 3/5] END learning_rate=0.2, max_depth=4, min_samples_leaf=3, n_estimators=300;, score=0.381 total time=   0.0s\n",
      "[CV 4/5] END learning_rate=0.2, max_depth=4, min_samples_leaf=3, n_estimators=300;, score=0.550 total time=   0.0s\n",
      "[CV 5/5] END learning_rate=0.2, max_depth=4, min_samples_leaf=3, n_estimators=300;, score=0.400 total time=   0.1s\n",
      "[CV 1/5] END learning_rate=0.2, max_depth=4, min_samples_leaf=3, n_estimators=400;, score=0.381 total time=   0.1s\n",
      "[CV 2/5] END learning_rate=0.2, max_depth=4, min_samples_leaf=3, n_estimators=400;, score=0.381 total time=   0.1s\n",
      "[CV 3/5] END learning_rate=0.2, max_depth=4, min_samples_leaf=3, n_estimators=400;, score=0.381 total time=   0.1s\n",
      "[CV 4/5] END learning_rate=0.2, max_depth=4, min_samples_leaf=3, n_estimators=400;, score=0.550 total time=   0.1s\n",
      "[CV 5/5] END learning_rate=0.2, max_depth=4, min_samples_leaf=3, n_estimators=400;, score=0.400 total time=   0.2s\n",
      "[CV 1/5] END learning_rate=0.2, max_depth=4, min_samples_leaf=4, n_estimators=100;, score=0.333 total time=   0.0s\n",
      "[CV 2/5] END learning_rate=0.2, max_depth=4, min_samples_leaf=4, n_estimators=100;, score=0.429 total time=   0.0s\n",
      "[CV 3/5] END learning_rate=0.2, max_depth=4, min_samples_leaf=4, n_estimators=100;, score=0.333 total time=   0.0s\n",
      "[CV 4/5] END learning_rate=0.2, max_depth=4, min_samples_leaf=4, n_estimators=100;, score=0.550 total time=   0.0s\n",
      "[CV 5/5] END learning_rate=0.2, max_depth=4, min_samples_leaf=4, n_estimators=100;, score=0.400 total time=   0.0s\n",
      "[CV 1/5] END learning_rate=0.2, max_depth=4, min_samples_leaf=4, n_estimators=200;, score=0.381 total time=   0.1s\n",
      "[CV 2/5] END learning_rate=0.2, max_depth=4, min_samples_leaf=4, n_estimators=200;, score=0.429 total time=   0.0s\n",
      "[CV 3/5] END learning_rate=0.2, max_depth=4, min_samples_leaf=4, n_estimators=200;, score=0.381 total time=   0.0s\n",
      "[CV 4/5] END learning_rate=0.2, max_depth=4, min_samples_leaf=4, n_estimators=200;, score=0.600 total time=   0.0s\n",
      "[CV 5/5] END learning_rate=0.2, max_depth=4, min_samples_leaf=4, n_estimators=200;, score=0.400 total time=   0.0s\n",
      "[CV 1/5] END learning_rate=0.2, max_depth=4, min_samples_leaf=4, n_estimators=300;, score=0.333 total time=   0.0s\n",
      "[CV 2/5] END learning_rate=0.2, max_depth=4, min_samples_leaf=4, n_estimators=300;, score=0.429 total time=   0.0s\n",
      "[CV 3/5] END learning_rate=0.2, max_depth=4, min_samples_leaf=4, n_estimators=300;, score=0.381 total time=   0.0s\n",
      "[CV 4/5] END learning_rate=0.2, max_depth=4, min_samples_leaf=4, n_estimators=300;, score=0.600 total time=   0.1s\n",
      "[CV 5/5] END learning_rate=0.2, max_depth=4, min_samples_leaf=4, n_estimators=300;, score=0.400 total time=   0.0s\n",
      "[CV 1/5] END learning_rate=0.2, max_depth=4, min_samples_leaf=4, n_estimators=400;, score=0.333 total time=   0.1s\n",
      "[CV 2/5] END learning_rate=0.2, max_depth=4, min_samples_leaf=4, n_estimators=400;, score=0.381 total time=   0.1s\n",
      "[CV 3/5] END learning_rate=0.2, max_depth=4, min_samples_leaf=4, n_estimators=400;, score=0.381 total time=   0.1s\n",
      "[CV 4/5] END learning_rate=0.2, max_depth=4, min_samples_leaf=4, n_estimators=400;, score=0.550 total time=   0.1s\n",
      "[CV 5/5] END learning_rate=0.2, max_depth=4, min_samples_leaf=4, n_estimators=400;, score=0.400 total time=   0.1s\n",
      "[CV 1/5] END learning_rate=0.2, max_depth=5, min_samples_leaf=1, n_estimators=100;, score=0.333 total time=   0.0s\n",
      "[CV 2/5] END learning_rate=0.2, max_depth=5, min_samples_leaf=1, n_estimators=100;, score=0.476 total time=   0.0s\n",
      "[CV 3/5] END learning_rate=0.2, max_depth=5, min_samples_leaf=1, n_estimators=100;, score=0.238 total time=   0.0s\n",
      "[CV 4/5] END learning_rate=0.2, max_depth=5, min_samples_leaf=1, n_estimators=100;, score=0.550 total time=   0.0s\n",
      "[CV 5/5] END learning_rate=0.2, max_depth=5, min_samples_leaf=1, n_estimators=100;, score=0.450 total time=   0.0s\n",
      "[CV 1/5] END learning_rate=0.2, max_depth=5, min_samples_leaf=1, n_estimators=200;, score=0.381 total time=   0.1s\n",
      "[CV 2/5] END learning_rate=0.2, max_depth=5, min_samples_leaf=1, n_estimators=200;, score=0.429 total time=   0.1s\n",
      "[CV 3/5] END learning_rate=0.2, max_depth=5, min_samples_leaf=1, n_estimators=200;, score=0.286 total time=   0.1s\n",
      "[CV 4/5] END learning_rate=0.2, max_depth=5, min_samples_leaf=1, n_estimators=200;, score=0.600 total time=   0.0s\n",
      "[CV 5/5] END learning_rate=0.2, max_depth=5, min_samples_leaf=1, n_estimators=200;, score=0.450 total time=   0.2s\n",
      "[CV 1/5] END learning_rate=0.2, max_depth=5, min_samples_leaf=1, n_estimators=300;, score=0.333 total time=   0.1s\n",
      "[CV 2/5] END learning_rate=0.2, max_depth=5, min_samples_leaf=1, n_estimators=300;, score=0.381 total time=   0.2s\n",
      "[CV 3/5] END learning_rate=0.2, max_depth=5, min_samples_leaf=1, n_estimators=300;, score=0.286 total time=   0.2s\n",
      "[CV 4/5] END learning_rate=0.2, max_depth=5, min_samples_leaf=1, n_estimators=300;, score=0.650 total time=   0.1s\n",
      "[CV 5/5] END learning_rate=0.2, max_depth=5, min_samples_leaf=1, n_estimators=300;, score=0.450 total time=   0.1s\n",
      "[CV 1/5] END learning_rate=0.2, max_depth=5, min_samples_leaf=1, n_estimators=400;, score=0.381 total time=   0.2s\n",
      "[CV 2/5] END learning_rate=0.2, max_depth=5, min_samples_leaf=1, n_estimators=400;, score=0.381 total time=   0.2s\n",
      "[CV 3/5] END learning_rate=0.2, max_depth=5, min_samples_leaf=1, n_estimators=400;, score=0.333 total time=   0.2s\n",
      "[CV 4/5] END learning_rate=0.2, max_depth=5, min_samples_leaf=1, n_estimators=400;, score=0.650 total time=   0.2s\n",
      "[CV 5/5] END learning_rate=0.2, max_depth=5, min_samples_leaf=1, n_estimators=400;, score=0.450 total time=   0.1s\n",
      "[CV 1/5] END learning_rate=0.2, max_depth=5, min_samples_leaf=2, n_estimators=100;, score=0.381 total time=   0.0s\n",
      "[CV 2/5] END learning_rate=0.2, max_depth=5, min_samples_leaf=2, n_estimators=100;, score=0.524 total time=   0.0s\n",
      "[CV 3/5] END learning_rate=0.2, max_depth=5, min_samples_leaf=2, n_estimators=100;, score=0.381 total time=   0.0s\n",
      "[CV 4/5] END learning_rate=0.2, max_depth=5, min_samples_leaf=2, n_estimators=100;, score=0.550 total time=   0.0s\n",
      "[CV 5/5] END learning_rate=0.2, max_depth=5, min_samples_leaf=2, n_estimators=100;, score=0.400 total time=   0.0s\n",
      "[CV 1/5] END learning_rate=0.2, max_depth=5, min_samples_leaf=2, n_estimators=200;, score=0.381 total time=   0.0s\n",
      "[CV 2/5] END learning_rate=0.2, max_depth=5, min_samples_leaf=2, n_estimators=200;, score=0.429 total time=   0.0s\n",
      "[CV 3/5] END learning_rate=0.2, max_depth=5, min_samples_leaf=2, n_estimators=200;, score=0.333 total time=   0.0s\n",
      "[CV 4/5] END learning_rate=0.2, max_depth=5, min_samples_leaf=2, n_estimators=200;, score=0.550 total time=   0.0s\n",
      "[CV 5/5] END learning_rate=0.2, max_depth=5, min_samples_leaf=2, n_estimators=200;, score=0.400 total time=   0.0s\n",
      "[CV 1/5] END learning_rate=0.2, max_depth=5, min_samples_leaf=2, n_estimators=300;, score=0.333 total time=   0.1s\n",
      "[CV 2/5] END learning_rate=0.2, max_depth=5, min_samples_leaf=2, n_estimators=300;, score=0.429 total time=   0.1s\n",
      "[CV 3/5] END learning_rate=0.2, max_depth=5, min_samples_leaf=2, n_estimators=300;, score=0.333 total time=   0.1s\n",
      "[CV 4/5] END learning_rate=0.2, max_depth=5, min_samples_leaf=2, n_estimators=300;, score=0.500 total time=   0.1s\n",
      "[CV 5/5] END learning_rate=0.2, max_depth=5, min_samples_leaf=2, n_estimators=300;, score=0.400 total time=   0.1s\n",
      "[CV 1/5] END learning_rate=0.2, max_depth=5, min_samples_leaf=2, n_estimators=400;, score=0.381 total time=   0.2s\n",
      "[CV 2/5] END learning_rate=0.2, max_depth=5, min_samples_leaf=2, n_estimators=400;, score=0.429 total time=   0.2s\n"
     ]
    },
    {
     "name": "stdout",
     "output_type": "stream",
     "text": [
      "[CV 3/5] END learning_rate=0.2, max_depth=5, min_samples_leaf=2, n_estimators=400;, score=0.381 total time=   0.1s\n",
      "[CV 4/5] END learning_rate=0.2, max_depth=5, min_samples_leaf=2, n_estimators=400;, score=0.500 total time=   0.1s\n",
      "[CV 5/5] END learning_rate=0.2, max_depth=5, min_samples_leaf=2, n_estimators=400;, score=0.400 total time=   0.1s\n",
      "[CV 1/5] END learning_rate=0.2, max_depth=5, min_samples_leaf=3, n_estimators=100;, score=0.381 total time=   0.0s\n",
      "[CV 2/5] END learning_rate=0.2, max_depth=5, min_samples_leaf=3, n_estimators=100;, score=0.333 total time=   0.0s\n",
      "[CV 3/5] END learning_rate=0.2, max_depth=5, min_samples_leaf=3, n_estimators=100;, score=0.333 total time=   0.0s\n",
      "[CV 4/5] END learning_rate=0.2, max_depth=5, min_samples_leaf=3, n_estimators=100;, score=0.450 total time=   0.0s\n",
      "[CV 5/5] END learning_rate=0.2, max_depth=5, min_samples_leaf=3, n_estimators=100;, score=0.400 total time=   0.0s\n",
      "[CV 1/5] END learning_rate=0.2, max_depth=5, min_samples_leaf=3, n_estimators=200;, score=0.381 total time=   0.0s\n",
      "[CV 2/5] END learning_rate=0.2, max_depth=5, min_samples_leaf=3, n_estimators=200;, score=0.333 total time=   0.0s\n",
      "[CV 3/5] END learning_rate=0.2, max_depth=5, min_samples_leaf=3, n_estimators=200;, score=0.381 total time=   0.0s\n",
      "[CV 4/5] END learning_rate=0.2, max_depth=5, min_samples_leaf=3, n_estimators=200;, score=0.500 total time=   0.0s\n",
      "[CV 5/5] END learning_rate=0.2, max_depth=5, min_samples_leaf=3, n_estimators=200;, score=0.400 total time=   0.0s\n",
      "[CV 1/5] END learning_rate=0.2, max_depth=5, min_samples_leaf=3, n_estimators=300;, score=0.381 total time=   0.1s\n",
      "[CV 2/5] END learning_rate=0.2, max_depth=5, min_samples_leaf=3, n_estimators=300;, score=0.381 total time=   0.1s\n",
      "[CV 3/5] END learning_rate=0.2, max_depth=5, min_samples_leaf=3, n_estimators=300;, score=0.381 total time=   0.1s\n",
      "[CV 4/5] END learning_rate=0.2, max_depth=5, min_samples_leaf=3, n_estimators=300;, score=0.500 total time=   0.2s\n",
      "[CV 5/5] END learning_rate=0.2, max_depth=5, min_samples_leaf=3, n_estimators=300;, score=0.450 total time=   0.1s\n",
      "[CV 1/5] END learning_rate=0.2, max_depth=5, min_samples_leaf=3, n_estimators=400;, score=0.381 total time=   0.1s\n",
      "[CV 2/5] END learning_rate=0.2, max_depth=5, min_samples_leaf=3, n_estimators=400;, score=0.333 total time=   0.1s\n",
      "[CV 3/5] END learning_rate=0.2, max_depth=5, min_samples_leaf=3, n_estimators=400;, score=0.333 total time=   0.2s\n",
      "[CV 4/5] END learning_rate=0.2, max_depth=5, min_samples_leaf=3, n_estimators=400;, score=0.500 total time=   0.1s\n",
      "[CV 5/5] END learning_rate=0.2, max_depth=5, min_samples_leaf=3, n_estimators=400;, score=0.450 total time=   0.1s\n",
      "[CV 1/5] END learning_rate=0.2, max_depth=5, min_samples_leaf=4, n_estimators=100;, score=0.381 total time=   0.0s\n",
      "[CV 2/5] END learning_rate=0.2, max_depth=5, min_samples_leaf=4, n_estimators=100;, score=0.381 total time=   0.0s\n",
      "[CV 3/5] END learning_rate=0.2, max_depth=5, min_samples_leaf=4, n_estimators=100;, score=0.381 total time=   0.0s\n",
      "[CV 4/5] END learning_rate=0.2, max_depth=5, min_samples_leaf=4, n_estimators=100;, score=0.450 total time=   0.0s\n",
      "[CV 5/5] END learning_rate=0.2, max_depth=5, min_samples_leaf=4, n_estimators=100;, score=0.400 total time=   0.0s\n",
      "[CV 1/5] END learning_rate=0.2, max_depth=5, min_samples_leaf=4, n_estimators=200;, score=0.381 total time=   0.0s\n",
      "[CV 2/5] END learning_rate=0.2, max_depth=5, min_samples_leaf=4, n_estimators=200;, score=0.333 total time=   0.0s\n",
      "[CV 3/5] END learning_rate=0.2, max_depth=5, min_samples_leaf=4, n_estimators=200;, score=0.381 total time=   0.0s\n",
      "[CV 4/5] END learning_rate=0.2, max_depth=5, min_samples_leaf=4, n_estimators=200;, score=0.500 total time=   0.0s\n",
      "[CV 5/5] END learning_rate=0.2, max_depth=5, min_samples_leaf=4, n_estimators=200;, score=0.400 total time=   0.0s\n",
      "[CV 1/5] END learning_rate=0.2, max_depth=5, min_samples_leaf=4, n_estimators=300;, score=0.381 total time=   0.1s\n",
      "[CV 2/5] END learning_rate=0.2, max_depth=5, min_samples_leaf=4, n_estimators=300;, score=0.333 total time=   0.0s\n",
      "[CV 3/5] END learning_rate=0.2, max_depth=5, min_samples_leaf=4, n_estimators=300;, score=0.381 total time=   0.1s\n",
      "[CV 4/5] END learning_rate=0.2, max_depth=5, min_samples_leaf=4, n_estimators=300;, score=0.500 total time=   0.1s\n",
      "[CV 5/5] END learning_rate=0.2, max_depth=5, min_samples_leaf=4, n_estimators=300;, score=0.400 total time=   0.1s\n",
      "[CV 1/5] END learning_rate=0.2, max_depth=5, min_samples_leaf=4, n_estimators=400;, score=0.381 total time=   0.1s\n",
      "[CV 2/5] END learning_rate=0.2, max_depth=5, min_samples_leaf=4, n_estimators=400;, score=0.333 total time=   0.1s\n",
      "[CV 3/5] END learning_rate=0.2, max_depth=5, min_samples_leaf=4, n_estimators=400;, score=0.381 total time=   0.1s\n",
      "[CV 4/5] END learning_rate=0.2, max_depth=5, min_samples_leaf=4, n_estimators=400;, score=0.500 total time=   0.1s\n",
      "[CV 5/5] END learning_rate=0.2, max_depth=5, min_samples_leaf=4, n_estimators=400;, score=0.400 total time=   0.1s\n",
      "{'learning_rate': 0.1, 'max_depth': 3, 'min_samples_leaf': 1, 'n_estimators': 400}\n",
      "GradientBoostingClassifier(n_estimators=400)\n"
     ]
    }
   ],
   "source": [
    "# defining parameter range \n",
    "param_grid = {\n",
    "    'n_estimators': [100, 200, 300,400],\n",
    "    'learning_rate': [0.01,0.05, 0.1, 0.2],\n",
    "    'max_depth': [2,3, 4, 5],\n",
    "    'min_samples_leaf': [1, 2,3, 4]\n",
    "    \n",
    "}\n",
    "  \n",
    "grid = GridSearchCV(GradientBoostingClassifier(), param_grid, refit = True, verbose = 3) \n",
    "  \n",
    "# fitting the model for grid search \n",
    "grid.fit(X_train, y_train)\n",
    "# print best parameter after tuning \n",
    "print(grid.best_params_) \n",
    "  \n",
    "# print how our model looks after hyper-parameter tuning \n",
    "print(grid.best_estimator_) "
   ]
  },
  {
   "cell_type": "code",
   "execution_count": 76,
   "id": "da22e857",
   "metadata": {},
   "outputs": [
    {
     "name": "stdout",
     "output_type": "stream",
     "text": [
      "              precision    recall  f1-score   support\n",
      "\n",
      "           0       0.65      0.55      0.60        31\n",
      "           1       0.44      0.55      0.49        20\n",
      "\n",
      "    accuracy                           0.55        51\n",
      "   macro avg       0.55      0.55      0.54        51\n",
      "weighted avg       0.57      0.55      0.55        51\n",
      "\n"
     ]
    }
   ],
   "source": [
    "gbc = GradientBoostingClassifier(learning_rate= 0.1, max_depth= 3, min_samples_leaf= 1, n_estimators= 400)\n",
    "gbc.fit(X_train, y_train)\n",
    "\n",
    "print(classification_report(y_test,gbc.predict(X_test)))"
   ]
  },
  {
   "cell_type": "code",
   "execution_count": 77,
   "id": "de81f0f8",
   "metadata": {},
   "outputs": [
    {
     "name": "stdout",
     "output_type": "stream",
     "text": [
      "              precision    recall  f1-score   support\n",
      "\n",
      "           0       0.70      0.52      0.59        31\n",
      "           1       0.46      0.65      0.54        20\n",
      "\n",
      "    accuracy                           0.57        51\n",
      "   macro avg       0.58      0.58      0.57        51\n",
      "weighted avg       0.60      0.57      0.57        51\n",
      "\n"
     ]
    }
   ],
   "source": [
    "print(classification_report(y_test,knn_pred_test))"
   ]
  },
  {
   "cell_type": "code",
   "execution_count": 78,
   "id": "72c800d7",
   "metadata": {},
   "outputs": [
    {
     "name": "stdout",
     "output_type": "stream",
     "text": [
      "Best Parameters:  {'n_neighbors': 6}\n"
     ]
    }
   ],
   "source": [
    "# Hyperparameter tuning\n",
    "param_grid = {'n_neighbors': [1,2,3,4,5,6]}\n",
    "\n",
    "knn = KNeighborsClassifier()\n",
    "\n",
    "grid_search = GridSearchCV(estimator=knn, param_grid=param_grid, cv=5)\n",
    "grid_search.fit(X_train, y_train)\n",
    "print(\"Best Parameters: \", grid_search.best_params_)"
   ]
  },
  {
   "cell_type": "code",
   "execution_count": 79,
   "id": "8eae1741",
   "metadata": {},
   "outputs": [
    {
     "name": "stdout",
     "output_type": "stream",
     "text": [
      "Accuracy: 0.5686274509803921\n"
     ]
    }
   ],
   "source": [
    "# Создание и обучение модели\n",
    "model = KNeighborsClassifier(n_neighbors=6)\n",
    "model.fit(X_train, y_train)\n",
    "\n",
    "# Предсказание и оценка модели\n",
    "y_pred = model.predict(X_test.values)\n",
    "knn_accuracy_upd = accuracy_score(y_test, y_pred)\n",
    "print(f'Accuracy: {knn_accuracy_upd}')\n"
   ]
  },
  {
   "cell_type": "code",
   "execution_count": 80,
   "id": "4a02caa1",
   "metadata": {},
   "outputs": [
    {
     "name": "stdout",
     "output_type": "stream",
     "text": [
      "              precision    recall  f1-score   support\n",
      "\n",
      "           0       0.66      0.61      0.63        31\n",
      "           1       0.45      0.50      0.48        20\n",
      "\n",
      "    accuracy                           0.57        51\n",
      "   macro avg       0.55      0.56      0.55        51\n",
      "weighted avg       0.58      0.57      0.57        51\n",
      "\n"
     ]
    }
   ],
   "source": [
    "\n",
    "print(classification_report(y_test,y_pred))"
   ]
  },
  {
   "cell_type": "code",
   "execution_count": 81,
   "id": "243b2804",
   "metadata": {},
   "outputs": [
    {
     "name": "stdout",
     "output_type": "stream",
     "text": [
      "              precision    recall  f1-score   support\n",
      "\n",
      "           0       0.68      0.61      0.64        31\n",
      "           1       0.48      0.55      0.51        20\n",
      "\n",
      "    accuracy                           0.59        51\n",
      "   macro avg       0.58      0.58      0.58        51\n",
      "weighted avg       0.60      0.59      0.59        51\n",
      "\n"
     ]
    }
   ],
   "source": [
    "print(classification_report(y_test,rfc_pred_test))"
   ]
  },
  {
   "cell_type": "code",
   "execution_count": 82,
   "id": "b2f01483",
   "metadata": {},
   "outputs": [
    {
     "name": "stdout",
     "output_type": "stream",
     "text": [
      "RandomForestClassifier(max_depth=6, max_features='log2', max_leaf_nodes=3,\n",
      "                       n_estimators=25)\n"
     ]
    }
   ],
   "source": [
    "param_grid = { \n",
    "    'n_estimators': [25, 50, 100, 150], \n",
    "    'max_features': ['sqrt', 'log2', None], \n",
    "    'max_depth': [3, 6, 9], \n",
    "    'max_leaf_nodes': [3, 6, 9], \n",
    "} \n",
    "grid_search = GridSearchCV(RandomForestClassifier(), \n",
    "                           param_grid=param_grid) \n",
    "grid_search.fit(X_train, y_train) \n",
    "print(grid_search.best_estimator_)"
   ]
  },
  {
   "cell_type": "code",
   "execution_count": 83,
   "id": "fdcfa240",
   "metadata": {},
   "outputs": [
    {
     "data": {
      "text/plain": [
       "0.5294117647058824"
      ]
     },
     "execution_count": 83,
     "metadata": {},
     "output_type": "execute_result"
    }
   ],
   "source": [
    "rfc = RandomForestClassifier(max_depth=3, max_features='log2', max_leaf_nodes=9,\n",
    "                       n_estimators=25)\n",
    "rfc.fit(X_train,y_train)\n",
    "rfc_pred_test = rfc.predict(X_test)\n",
    "\n",
    "rfc_accuracy_upd = accuracy_score(y_test, rfc_pred_test)\n",
    "rfc_accuracy_upd"
   ]
  },
  {
   "cell_type": "code",
   "execution_count": 84,
   "id": "d3a63303",
   "metadata": {},
   "outputs": [
    {
     "name": "stdout",
     "output_type": "stream",
     "text": [
      "              precision    recall  f1-score   support\n",
      "\n",
      "           0       0.64      0.52      0.57        31\n",
      "           1       0.42      0.55      0.48        20\n",
      "\n",
      "    accuracy                           0.53        51\n",
      "   macro avg       0.53      0.53      0.52        51\n",
      "weighted avg       0.55      0.53      0.53        51\n",
      "\n"
     ]
    }
   ],
   "source": [
    "\n",
    "print(classification_report(y_test,rfc_pred_test))"
   ]
  },
  {
   "cell_type": "markdown",
   "id": "7f44da2d",
   "metadata": {},
   "source": [
    "## Вывод"
   ]
  },
  {
   "cell_type": "markdown",
   "id": "6347223c",
   "metadata": {},
   "source": [
    "Просмотрели данные и узнали, что и женщины и мужчины любят холодные цвета.\n",
    "Женщины предпочитают Поп-музыку, а парни - Рок. Большинство мужчин и женщин не пьют, а среди остальных любимый напиток женщин - вино, мужчин - пиво. И мужчины и женщины предпочитают Колу/Пепси.\n",
    "\n",
    "Выборка является немного несбалансированной- количество мужчин 73, женщин - 81 \n",
    "Обучили несколько моделей: Knn, Random Forest, GradientBoostingClassifier. Среди них лучшие показатели у GradientBoosting.\n",
    "Она обладает лучшими значениями у precision, recall, f1-score "
   ]
  },
  {
   "cell_type": "code",
   "execution_count": null,
   "id": "029e2212",
   "metadata": {},
   "outputs": [],
   "source": []
  }
 ],
 "metadata": {
  "kernelspec": {
   "display_name": "Python 3 (ipykernel)",
   "language": "python",
   "name": "python3"
  },
  "language_info": {
   "codemirror_mode": {
    "name": "ipython",
    "version": 3
   },
   "file_extension": ".py",
   "mimetype": "text/x-python",
   "name": "python",
   "nbconvert_exporter": "python",
   "pygments_lexer": "ipython3",
   "version": "3.11.5"
  }
 },
 "nbformat": 4,
 "nbformat_minor": 5
}
